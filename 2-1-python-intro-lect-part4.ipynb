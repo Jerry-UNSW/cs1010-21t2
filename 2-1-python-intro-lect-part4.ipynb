{
  "nbformat": 4,
  "nbformat_minor": 0,
  "metadata": {
    "colab": {
      "name": "2-1-python-intro-lect-part4.ipynb",
      "provenance": [],
      "collapsed_sections": [
        "DbEnqaUnwfZp",
        "KhmKoARh8t28",
        "vOBvioy3WDO_",
        "CRQgX47vM5nU",
        "6uBUEwM2UaHc",
        "pVufceYcpugu",
        "clMhQF4k6wx-",
        "g-n6ohsr-2Z_",
        "2vG33InB4wPG",
        "RASu1vuRz8Bf",
        "TKpGsue7Mi2z",
        "qyzkVycOp7Cb",
        "o_7e49apRLPS",
        "693LDbk6uCQY",
        "MK7ri_tSt05T",
        "Dty2p3QOyP7V",
        "YkNbABqZcwVC",
        "4KXXnG4tfj35",
        "MZ9ug9b_DNs3",
        "obYBHYlwN0nl"
      ],
      "toc_visible": true,
      "include_colab_link": true
    },
    "kernelspec": {
      "name": "python3",
      "display_name": "Python 3"
    },
    "language_info": {
      "name": "python"
    }
  },
  "cells": [
    {
      "cell_type": "markdown",
      "metadata": {
        "id": "view-in-github",
        "colab_type": "text"
      },
      "source": [
        "<a href=\"https://colab.research.google.com/github/sim-mautner/cs1010-21t2/blob/main/2-1-python-intro-lect-part4.ipynb\" target=\"_parent\"><img src=\"https://colab.research.google.com/assets/colab-badge.svg\" alt=\"Open In Colab\"/></a>"
      ]
    },
    {
      "cell_type": "markdown",
      "metadata": {
        "id": "johv5jTzr1Vm"
      },
      "source": [
        "> Python Introduction<br>\n",
        "> COMP1010 2021 T2<br>\n",
        "> Week 2-3"
      ]
    },
    {
      "cell_type": "markdown",
      "metadata": {
        "id": "sB4YOMHIZwTm"
      },
      "source": [
        "# Announcements\n",
        "\n",
        "## Project\n",
        "\n",
        "* Specification is up on the class website.\n",
        "* If you're still looking for a partner, email your tutor!\n",
        "* It's okay if you don't have a project idea yet, but you might want to start thinking of one.\n",
        "* Next week we'll start building web servers in Python, so that should give you a better idea of the things you can do.\n",
        "\n",
        "### Key Terms\n",
        "\n",
        "* Prototype - A preliminary version of a product or system.\n",
        "* Minimum Viable Product (MVP) - A version of a product with just enough features to satisfy early customers and provide feedback.\n",
        "\n",
        "\n",
        "## Looking Ahead\n",
        "\n",
        "* I've released some instructions on how to get your computer ready for weeks 4-10.\n",
        "* Not urgent.\n",
        "* Just if you have time and want to look at it.\n",
        "\n",
        "## Go through project specification"
      ]
    },
    {
      "cell_type": "markdown",
      "metadata": {
        "id": "k9cMFgGkuuDK"
      },
      "source": [
        "# Functions"
      ]
    },
    {
      "cell_type": "markdown",
      "metadata": {
        "id": "6_6ffqy8OolO"
      },
      "source": [
        "Purposes of functions:\n",
        "\n",
        "* Re-use code (\"Every line of code you don't write is bug free.\")\n",
        "* Testing\n",
        "* Abstraction / readability\n",
        "* Re-use code with different parameters\n",
        "\n",
        "(Point 1 and point 4 are different as it's often useful to use functions to not repeat ourselves even if (especially when?) the code is identical and doesn't require parameters to adapt it.)\n",
        "\n"
      ]
    },
    {
      "cell_type": "markdown",
      "metadata": {
        "id": "MZIdfUIcgHcs"
      },
      "source": [
        "Do you remember this box?\n",
        "\n",
        "Can we create a string with this box in it?\n",
        "\n",
        "```\n",
        "+-----+\n",
        "|     |\n",
        "|     |\n",
        "|     |\n",
        "+-----+\n",
        "```"
      ]
    },
    {
      "cell_type": "code",
      "metadata": {
        "id": "-CsBtFSHgWXm",
        "colab": {
          "base_uri": "https://localhost:8080/"
        },
        "outputId": "dbfe2125-2067-42b5-eee0-ce83d61d9f45"
      },
      "source": [
        "box_string = f\"\"\"+-----+\n",
        "|     |\n",
        "|     |\n",
        "|     |\n",
        "+-----+\"\"\"\n",
        "print(box_string)"
      ],
      "execution_count": 3,
      "outputs": [
        {
          "output_type": "stream",
          "text": [
            "+-----+\n",
            "|     |\n",
            "|     |\n",
            "|     |\n",
            "+-----+\n"
          ],
          "name": "stdout"
        }
      ]
    },
    {
      "cell_type": "code",
      "metadata": {
        "colab": {
          "base_uri": "https://localhost:8080/"
        },
        "id": "8-BX0dyBgEuC",
        "outputId": "f0e67693-fd02-44e2-ad92-2b7e632aaa8d"
      },
      "source": [
        "top_bottom_line = \"+\"+\"-\"*5+\"+\\n\"\n",
        "middle_line = \"|\"+\" \"*5+\"|\\n\"\n",
        "box_string = top_bottom_line + middle_line * 3 + top_bottom_line\n",
        "\n",
        "print(box_string)"
      ],
      "execution_count": 5,
      "outputs": [
        {
          "output_type": "stream",
          "text": [
            "+-----+\n",
            "|     |\n",
            "|     |\n",
            "|     |\n",
            "+-----+\n",
            "\n"
          ],
          "name": "stdout"
        }
      ]
    },
    {
      "cell_type": "markdown",
      "metadata": {
        "id": "Hci2yRlggWua"
      },
      "source": [
        "Can we create this box too?\n",
        "\n",
        "```\n",
        "+----------+\n",
        "|          |\n",
        "|          |\n",
        "|          |\n",
        "+----------+\n",
        "```"
      ]
    },
    {
      "cell_type": "code",
      "metadata": {
        "id": "kB5HjRRRg2v3"
      },
      "source": [
        "top_bottom_line = \"+\"+\"-\"*10+\"+\\n\"\n",
        "middle_line = \"|\"+\" \"*10+\"|\\n\"\n",
        "box_string = top_bottom_line + middle_line * 3 + top_bottom_line"
      ],
      "execution_count": null,
      "outputs": []
    },
    {
      "cell_type": "code",
      "metadata": {
        "id": "ZyLVFIfRg7n-"
      },
      "source": [
        "def make_box_string(height, width):\n",
        "  top_bottom_line = \"+\"+\"-\"*width+\"+\\n\"\n",
        "  middle_line = \"|\"+\" \"*width+\"|\\n\"\n",
        "  box_string = top_bottom_line + middle_line * height + top_bottom_line\n",
        "  return box_string"
      ],
      "execution_count": 7,
      "outputs": []
    },
    {
      "cell_type": "code",
      "metadata": {
        "id": "GwxjSEeygg4m",
        "colab": {
          "base_uri": "https://localhost:8080/"
        },
        "outputId": "a4a310b4-da58-4337-fe3b-f34473387a39"
      },
      "source": [
        "my_box_string = make_box_string(10, 3)\n",
        "print(my_box_string)"
      ],
      "execution_count": 8,
      "outputs": [
        {
          "output_type": "stream",
          "text": [
            "+---+\n",
            "|   |\n",
            "|   |\n",
            "|   |\n",
            "|   |\n",
            "|   |\n",
            "|   |\n",
            "|   |\n",
            "|   |\n",
            "|   |\n",
            "|   |\n",
            "+---+\n",
            "\n"
          ],
          "name": "stdout"
        }
      ]
    },
    {
      "cell_type": "code",
      "metadata": {
        "colab": {
          "base_uri": "https://localhost:8080/"
        },
        "id": "Dfrm1yB0hqou",
        "outputId": "0466baae-faf5-4c90-c3c5-05426c3bb361"
      },
      "source": [
        "my_box_string = make_box_string(3, 10)\n",
        "print(my_box_string)"
      ],
      "execution_count": 9,
      "outputs": [
        {
          "output_type": "stream",
          "text": [
            "+----------+\n",
            "|          |\n",
            "|          |\n",
            "|          |\n",
            "+----------+\n",
            "\n"
          ],
          "name": "stdout"
        }
      ]
    },
    {
      "cell_type": "markdown",
      "metadata": {
        "id": "MEPnCq72ghPn"
      },
      "source": [
        "And this one too?\n",
        "\n",
        "```\n",
        "+----------+\n",
        "|          |\n",
        "+----------+\n",
        "```"
      ]
    },
    {
      "cell_type": "code",
      "metadata": {
        "colab": {
          "base_uri": "https://localhost:8080/"
        },
        "id": "jmUh4oURhuhP",
        "outputId": "4b162e2d-fd68-4cdd-a90b-7fa4ec3582b4"
      },
      "source": [
        "my_box_string = make_box_string(1, 10)\n",
        "print(my_box_string)"
      ],
      "execution_count": 10,
      "outputs": [
        {
          "output_type": "stream",
          "text": [
            "+----------+\n",
            "|          |\n",
            "+----------+\n",
            "\n"
          ],
          "name": "stdout"
        }
      ]
    },
    {
      "cell_type": "markdown",
      "metadata": {
        "id": "ODCWq1Ydhhha"
      },
      "source": [
        "## Returning values from functions"
      ]
    },
    {
      "cell_type": "markdown",
      "metadata": {
        "id": "AQ9aOqsThOKE"
      },
      "source": [
        "Write a function `my_len()` which takes in a string as a parameter and returns the length of the string. (You can do this using the `len()` function, but the exercise is to do it without it.)"
      ]
    },
    {
      "cell_type": "code",
      "metadata": {
        "id": "x5ZGVZ1chPok",
        "colab": {
          "base_uri": "https://localhost:8080/"
        },
        "outputId": "6da66650-3b48-4cff-d67f-7848552f6912"
      },
      "source": [
        "def my_len(my_string):\n",
        "  length = 0\n",
        "  \n",
        "  return 0\n",
        "\n",
        "length_of_string = 0\n",
        "my_len(\"hello\")\n",
        "print(f\"length of string: {length_of_string}\")"
      ],
      "execution_count": 11,
      "outputs": [
        {
          "output_type": "stream",
          "text": [
            "length of string: 0\n"
          ],
          "name": "stdout"
        }
      ]
    },
    {
      "cell_type": "markdown",
      "metadata": {
        "id": "m0tGIH5uhP6B"
      },
      "source": [
        "Write your own function `my_count()` which takes in a string and a character and returns the number of times that character occurs in that string."
      ]
    },
    {
      "cell_type": "code",
      "metadata": {
        "id": "qEUo2lyIh7-l",
        "colab": {
          "base_uri": "https://localhost:8080/"
        },
        "outputId": "9ed7c09a-8658-43ed-f375-78b0c14f6d1d"
      },
      "source": [
        "def my_count(my_string, character):\n",
        "  number_of_char = 0\n",
        "  if len(character) != 1:\n",
        "    return 0\n",
        "    \n",
        "  for element in my_string:\n",
        "    # print(f\"Checking {element}\")\n",
        "    if element == character:\n",
        "      # print(f\"                      Found a {character}\")\n",
        "      number_of_char = number_of_char + 1\n",
        "  return number_of_char\n",
        "\n",
        "def main():\n",
        "  num_e = 0\n",
        "  num_e = my_count(\"hello my name is sim\", \"e\")\n",
        "  print(f\"number of e's is {num_e}\")\n",
        "  num_m = 0\n",
        "  num_m = my_count(\"hello my name is sim\", \"m\")\n",
        "  print(f\"number of m's is {num_m}\")\n",
        "\n",
        "main()"
      ],
      "execution_count": 32,
      "outputs": [
        {
          "output_type": "stream",
          "text": [
            "number of e's is 2\n",
            "number of m's is 3\n"
          ],
          "name": "stdout"
        }
      ]
    },
    {
      "cell_type": "markdown",
      "metadata": {
        "id": "8OTO2hrWSFOl"
      },
      "source": [
        "## Functions for Readability\n",
        "\n",
        "Re-write our code from the [Password Evaluator](#eg_password_evaluator_cell) question to use functions to make the code more readable."
      ]
    },
    {
      "cell_type": "code",
      "metadata": {
        "id": "59M-Wcf1wrVJ",
        "colab": {
          "base_uri": "https://localhost:8080/"
        },
        "outputId": "0558d371-253a-40d8-a510-5c5ca6722eef"
      },
      "source": [
        "password = input(\"Enter a password: \")\n",
        "if len(password) >= 12 and not(password.islower()) and not(password.isupper()):\n",
        "  print(\"Strong\")\n",
        "elif len(password) >= 12 or (not(password.islower()) and not(password.isupper())):\n",
        "  print(\"Weak\")\n",
        "else:\n",
        "  print(\"Very weak\")"
      ],
      "execution_count": null,
      "outputs": [
        {
          "output_type": "stream",
          "text": [
            "Enter a password: 121212121212121212121\n",
            "Strong\n"
          ],
          "name": "stdout"
        }
      ]
    },
    {
      "cell_type": "code",
      "metadata": {
        "colab": {
          "base_uri": "https://localhost:8080/"
        },
        "id": "KcEQrj5pk4Kl",
        "outputId": "e6a677fa-9264-4de0-c3f1-3d09a9535b00"
      },
      "source": [
        "def long_enough(pword):\n",
        "  if len(pword) >= 12:\n",
        "    return True\n",
        "  return False\n",
        "\n",
        "def mix_of_upper_and_lower(pword):\n",
        "  if not pword.islower() and not pword.isupper():\n",
        "    return True\n",
        "  return False\n",
        "\n",
        "def main():\n",
        "  password = input(\"Enter a password: \")\n",
        "  if long_enough(password) and mix_of_upper_and_lower(password):\n",
        "    print(\"Strong\")\n",
        "  elif long_enough(password) or mix_of_upper_and_lower(password):\n",
        "    print(\"Weak\")\n",
        "  else:\n",
        "    print(\"Very weak\")\n",
        "\n",
        "main()"
      ],
      "execution_count": 24,
      "outputs": [
        {
          "output_type": "stream",
          "text": [
            "Enter a password: hello\n",
            "Very weak\n"
          ],
          "name": "stdout"
        }
      ]
    },
    {
      "cell_type": "markdown",
      "metadata": {
        "id": "8MmJvOZTi3PV"
      },
      "source": [
        "# Testing (an introduction)\n",
        "\n",
        "When testing if a piece of code works, we need to check all the different pathways our execution could take, and that each one produces the expected result.\n",
        "\n",
        "`assert(condition)`"
      ]
    },
    {
      "cell_type": "markdown",
      "metadata": {
        "id": "kP7wjZyvji7H"
      },
      "source": [
        "What does it look like when an `assert` passes?"
      ]
    },
    {
      "cell_type": "code",
      "metadata": {
        "id": "kWMcPKYAjl6B"
      },
      "source": [
        "assert(True)"
      ],
      "execution_count": 27,
      "outputs": []
    },
    {
      "cell_type": "markdown",
      "metadata": {
        "id": "P29RUnTkjmNU"
      },
      "source": [
        "What does it look like when an `assert` fails?"
      ]
    },
    {
      "cell_type": "code",
      "metadata": {
        "id": "jrdBRl8tp46K",
        "outputId": "19bb5f8c-86ad-4255-961d-6459dbba6218",
        "colab": {
          "base_uri": "https://localhost:8080/",
          "height": 165
        }
      },
      "source": [
        "assert(False)"
      ],
      "execution_count": 28,
      "outputs": [
        {
          "output_type": "error",
          "ename": "AssertionError",
          "evalue": "ignored",
          "traceback": [
            "\u001b[0;31m---------------------------------------------------------------------------\u001b[0m",
            "\u001b[0;31mAssertionError\u001b[0m                            Traceback (most recent call last)",
            "\u001b[0;32m<ipython-input-28-8808c4021c9c>\u001b[0m in \u001b[0;36m<module>\u001b[0;34m()\u001b[0m\n\u001b[0;32m----> 1\u001b[0;31m \u001b[0;32massert\u001b[0m\u001b[0;34m(\u001b[0m\u001b[0;32mFalse\u001b[0m\u001b[0;34m)\u001b[0m\u001b[0;34m\u001b[0m\u001b[0;34m\u001b[0m\u001b[0m\n\u001b[0m",
            "\u001b[0;31mAssertionError\u001b[0m: "
          ]
        }
      ]
    },
    {
      "cell_type": "markdown",
      "metadata": {
        "id": "6zQkNeE_jKW2"
      },
      "source": [
        "Write some tests for your my_len() function you wrote above."
      ]
    },
    {
      "cell_type": "code",
      "metadata": {
        "id": "PaPLzML0jHLH"
      },
      "source": [
        "assert(my_count(\"hello my name is sim\", \"e\") == 2)\n",
        "assert(my_count(\"\", \"a\") == 0)\n",
        "assert(my_count(\"\", \"\") == 0)\n",
        "assert(my_count(\"eeeee\", \"e\") == 5)\n",
        "assert(my_count(\"hello my name is sim\", \"m\") == 3)\n",
        "assert(my_count(\"hello my name is sim\", \"z\") == 0)"
      ],
      "execution_count": 36,
      "outputs": []
    },
    {
      "cell_type": "markdown",
      "metadata": {
        "id": "9eLH9VV1kS_Z"
      },
      "source": [
        "## Test-Driven Development (TDD)"
      ]
    },
    {
      "cell_type": "markdown",
      "metadata": {
        "id": "L0ryHmlfkDPY"
      },
      "source": [
        "Test-Driven Development (TDD) is an approach to programming whereby the requirements or specification of the project are converted into test cases before the software is written."
      ]
    },
    {
      "cell_type": "markdown",
      "metadata": {
        "id": "b0dIARVrj972"
      },
      "source": [
        "<a name='eg_months_cell'></a>\n",
        "### Example: Months of the Year\n",
        "\n",
        "Consider a function which takes in a number and returns a string with the month of the year that that number corresponds to.\n",
        "\n",
        "1. What cases need to be considered?\n",
        "2. Write some tests which cover these cases.\n",
        "3. Implement the function.\n",
        "4. Implement the function using a switch statement."
      ]
    },
    {
      "cell_type": "markdown",
      "metadata": {
        "id": "A78CYgoNrciu"
      },
      "source": [
        "Cases:\n",
        "\n",
        "```\n",
        "1 --> Jan\n",
        "2 --> Feb\n",
        "... (for all the months)\n",
        "12 --> Dec\n",
        "0 --> \"\"\n",
        "13 --> \"\"\n",
        "```\n",
        "\n"
      ]
    },
    {
      "cell_type": "code",
      "metadata": {
        "id": "TcMRz7KYlYBR"
      },
      "source": [
        "assert(month_to_text(0) == \"\")\n",
        "assert(month_to_text(1) == \"Jan\")\n",
        "assert(month_to_text(2) == \"Feb\")\n",
        "assert(month_to_text(3) == \"Mar\")\n",
        "assert(month_to_text(4) == \"Apr\")\n",
        "assert(month_to_text(5) == \"May\")\n",
        "assert(month_to_text(6) == \"Jun\")\n",
        "assert(month_to_text(7) == \"Jul\")\n",
        "assert(month_to_text(8) == \"Aug\")\n",
        "assert(month_to_text(9) == \"Sep\")\n",
        "assert(month_to_text(10) == \"Oct\")\n",
        "assert(month_to_text(11) == \"Nov\")\n",
        "assert(month_to_text(12) == \"Dec\")\n",
        "assert(month_to_text(13) == \"\")\n",
        "assert(month_to_text(3.14) == \"\")"
      ],
      "execution_count": 42,
      "outputs": []
    },
    {
      "cell_type": "code",
      "metadata": {
        "id": "DWDwbR85lX1t"
      },
      "source": [
        "def month_to_text(month_num):\n",
        "  # Check valid month\n",
        "  if month_num < 1 or month_num > 12 or not (type(month_num) == type(0)):\n",
        "    return \"\"\n",
        "  \n",
        "  # Process valid input\n",
        "  if month_num == 1:\n",
        "    return \"Jan\"\n",
        "  elif month_num == 2:\n",
        "    return \"Feb\"\n",
        "  elif month_num == 3:\n",
        "    return \"Mar\"\n",
        "  elif month_num == 4:\n",
        "    return \"Apr\"\n",
        "  elif month_num == 5:\n",
        "    return \"May\"\n",
        "  elif month_num == 6:\n",
        "    return \"Jun\"\n",
        "  elif month_num == 7:\n",
        "    return \"Jul\"\n",
        "  elif month_num == 8:\n",
        "    return \"Aug\"\n",
        "  elif month_num == 9:\n",
        "    return \"Sep\"\n",
        "  elif month_num == 10:\n",
        "    return \"Oct\"\n",
        "  elif month_num == 11:\n",
        "    return \"Nov\"\n",
        "  elif month_num == 12:\n",
        "    return \"Dec\"\n",
        "  "
      ],
      "execution_count": 41,
      "outputs": []
    },
    {
      "cell_type": "code",
      "metadata": {
        "id": "uBQZ-otplXhV"
      },
      "source": [
        ""
      ],
      "execution_count": null,
      "outputs": []
    },
    {
      "cell_type": "markdown",
      "metadata": {
        "id": "w4PYn6-vx3if"
      },
      "source": [
        "### Example: Ready to Lecture (part 2)\n",
        "\n",
        "Consider the [Getting Ready to Lecture](#eg_ready_to_lecture_cell) example.\n",
        "\n",
        "1. Write tests to check whether or not your code was correct.\n",
        "2. Convert your code into a function which takes in booleans and returns a string.\n",
        "3. Run your tests on your code.\n",
        "\n",
        "This example makes it clear, how much easier it is to test every possible condition, rather than changing the value of the variables with the code."
      ]
    },
    {
      "cell_type": "markdown",
      "metadata": {
        "id": "QTO1tK_dCzWE"
      },
      "source": [
        "<a name='starting_point_cell'></a>\n",
        "(d) Implement the above code, but take into consideration that I also like to have a water bottle on my desk before I start lecturing.\n",
        "\n",
        "The outputs are now:\n",
        "* No time to get ready. Start lecturing now.\n",
        "* Ready to lecture.\n",
        "* Get your water bottle.\n",
        "* Go make your bed."
      ]
    },
    {
      "cell_type": "markdown",
      "metadata": {
        "id": "naQaIHEni1WC"
      },
      "source": [
        "```\n",
        "on_time, bed_made, has_water\n",
        "\n",
        "T, T, T\n",
        "T, T, F\n",
        "T, F, T\n",
        "T, F, F\n",
        "F, T, T\n",
        "F, T, F\n",
        "F, F, T\n",
        "F, F, F\n",
        "```\n",
        "\n"
      ]
    },
    {
      "cell_type": "code",
      "metadata": {
        "id": "mWrenjVay-_n"
      },
      "source": [
        "ready_string = \"Ready to lecture.\"\n",
        "no_time_string = \"No time to get ready. Start lecturing now.\"\n",
        "get_water_string = \"Get your water bottle.\"\n",
        "make_bed_string = \"Go make your bed.\"\n",
        "\n",
        "assert(ready_to_lecture(True, True, True) == ready_string)\n",
        "assert(ready_to_lecture(True, True, False) == get_water_string)\n",
        "assert(ready_to_lecture(True, False, True) == make_bed_string)\n",
        "assert(ready_to_lecture(True, False, False) == make_bed_string) # on time, bed not made, no water --> Which message? Bed first, then water.\n",
        "assert(ready_to_lecture(False, True, True) == ready_string)\n",
        "assert(ready_to_lecture(False, True, False) == no_time_string)\n",
        "assert(ready_to_lecture(False, False, True) == no_time_string)\n",
        "assert(ready_to_lecture(False, False, False) == no_time_string)"
      ],
      "execution_count": 48,
      "outputs": []
    },
    {
      "cell_type": "code",
      "metadata": {
        "id": "vda1LsfWwYcC"
      },
      "source": [
        "def ready_to_lecture(on_time, bed_made, has_water):\n",
        "  if bed_made and has_water:\n",
        "    return \"Ready to lecture.\"\n",
        "  elif not(bed_made) and not(has_water) and on_time:\n",
        "    return \"Go make your bed.\"\n",
        "  elif not(bed_made) and on_time:\n",
        "    return \"Go make your bed.\"\n",
        "  elif not(has_water) and on_time:\n",
        "    return \"Get your water bottle.\"\n",
        "  else:\n",
        "    return \"No time to get ready. Start lecturing now.\""
      ],
      "execution_count": 47,
      "outputs": []
    },
    {
      "cell_type": "markdown",
      "metadata": {
        "id": "3262a-LbwQqC"
      },
      "source": [
        "# Collections (part 1)"
      ]
    },
    {
      "cell_type": "markdown",
      "metadata": {
        "id": "RaeMy89GiFLU"
      },
      "source": [
        "## Lists\n"
      ]
    },
    {
      "cell_type": "markdown",
      "metadata": {
        "id": "HUeCv4hAugmM"
      },
      "source": [
        "You have 4 students in the class. Create variables to store their project grades."
      ]
    },
    {
      "cell_type": "code",
      "metadata": {
        "id": "9aOzh4rdupjV"
      },
      "source": [
        "student1_project_grade = 65\n",
        "student2_project_grade = 75\n",
        "student3_project_grade = 91\n",
        "student4_project_grade = 52"
      ],
      "execution_count": null,
      "outputs": []
    },
    {
      "cell_type": "markdown",
      "metadata": {
        "id": "k1M9jmPNup-v"
      },
      "source": [
        "What happens when you have 10 students in the class? Or 100? I hear there's at least one COMP course with 1000 students.\n",
        "\n",
        "Lists are:\n",
        "* Used to store multiple items in one variable\n",
        "* Created using square brackets (eg `my_list = []`)\n",
        "* Ordered\n",
        "* Changeable\n",
        "* Allow duplicate values\n",
        "\n",
        "As always (in Python), lists are indexed from 0."
      ]
    },
    {
      "cell_type": "markdown",
      "metadata": {
        "id": "bk5LeZx1w86r"
      },
      "source": [
        "Create a list. (Topic suggestions welcome in chat.)"
      ]
    },
    {
      "cell_type": "code",
      "metadata": {
        "id": "rg87Uv7GxB5N"
      },
      "source": [
        "movies = []"
      ],
      "execution_count": 52,
      "outputs": []
    },
    {
      "cell_type": "markdown",
      "metadata": {
        "id": "LW4qFumaxCMB"
      },
      "source": [
        "Print the list."
      ]
    },
    {
      "cell_type": "code",
      "metadata": {
        "id": "z6dzDLfUxDro",
        "colab": {
          "base_uri": "https://localhost:8080/"
        },
        "outputId": "fa7aa564-cd92-4e7b-9a2d-a7fb2a5c9203"
      },
      "source": [
        "print(movies)"
      ],
      "execution_count": 53,
      "outputs": [
        {
          "output_type": "stream",
          "text": [
            "[]\n"
          ],
          "name": "stdout"
        }
      ]
    },
    {
      "cell_type": "markdown",
      "metadata": {
        "id": "6f_HAVrixD6C"
      },
      "source": [
        "Append (add to the end) an element to the list. (And print it again.)"
      ]
    },
    {
      "cell_type": "code",
      "metadata": {
        "id": "XdekkgFAxHUC",
        "colab": {
          "base_uri": "https://localhost:8080/"
        },
        "outputId": "c9e6f9c9-b392-4f82-b7b6-9ec55b4d3ab0"
      },
      "source": [
        "movies.append(\"The Lion King\")\n",
        "print(movies)"
      ],
      "execution_count": 54,
      "outputs": [
        {
          "output_type": "stream",
          "text": [
            "['The Lion King']\n"
          ],
          "name": "stdout"
        }
      ]
    },
    {
      "cell_type": "markdown",
      "metadata": {
        "id": "voyImQ32xHh9"
      },
      "source": [
        "Print out the length of the list."
      ]
    },
    {
      "cell_type": "code",
      "metadata": {
        "id": "9yIMJl71xOxc",
        "colab": {
          "base_uri": "https://localhost:8080/"
        },
        "outputId": "5893f4de-d1b9-42fd-d159-d5658a94a4ac"
      },
      "source": [
        "len(movies)"
      ],
      "execution_count": 55,
      "outputs": [
        {
          "output_type": "execute_result",
          "data": {
            "text/plain": [
              "1"
            ]
          },
          "metadata": {
            "tags": []
          },
          "execution_count": 55
        }
      ]
    },
    {
      "cell_type": "markdown",
      "metadata": {
        "id": "VkORFqtgxO_Z"
      },
      "source": [
        "Add some more elements to the list (using `append` and `insert`). Sort the list. (And print it again.)"
      ]
    },
    {
      "cell_type": "code",
      "metadata": {
        "id": "NOOvVMV3xVVo"
      },
      "source": [
        "movies.append(\"Shrek\")\n",
        "movies.append(\"Cheaper By The Dozen\")\n",
        "movies.append(\"Intersteller\")"
      ],
      "execution_count": 56,
      "outputs": []
    },
    {
      "cell_type": "code",
      "metadata": {
        "id": "KCfnri6Mx8an",
        "outputId": "e0db4442-6e4b-4ef7-cdcd-7bf34c42c541",
        "colab": {
          "base_uri": "https://localhost:8080/"
        }
      },
      "source": [
        "print(movies)"
      ],
      "execution_count": 57,
      "outputs": [
        {
          "output_type": "stream",
          "text": [
            "['The Lion King', 'Shrek', 'Cheaper By The Dozen', 'Intersteller']\n"
          ],
          "name": "stdout"
        }
      ]
    },
    {
      "cell_type": "code",
      "metadata": {
        "id": "Lwm99IBjyAC2"
      },
      "source": [
        "movies.insert(0, \"Crazy Rich Asians\")"
      ],
      "execution_count": 58,
      "outputs": []
    },
    {
      "cell_type": "code",
      "metadata": {
        "id": "nSRvPsN8yHf5",
        "outputId": "1480b5ff-c4a1-4629-a56a-f581ad4b0366",
        "colab": {
          "base_uri": "https://localhost:8080/"
        }
      },
      "source": [
        "print(movies)"
      ],
      "execution_count": 59,
      "outputs": [
        {
          "output_type": "stream",
          "text": [
            "['Crazy Rich Asians', 'The Lion King', 'Shrek', 'Cheaper By The Dozen', 'Intersteller']\n"
          ],
          "name": "stdout"
        }
      ]
    },
    {
      "cell_type": "code",
      "metadata": {
        "id": "Kg4_d-kkyLCK",
        "outputId": "5397b7a1-e4cc-43d6-e33d-c7e13713aeac",
        "colab": {
          "base_uri": "https://localhost:8080/"
        }
      },
      "source": [
        "movies.insert(3, \"Star Wars\")\n",
        "print(movies)"
      ],
      "execution_count": 60,
      "outputs": [
        {
          "output_type": "stream",
          "text": [
            "['Crazy Rich Asians', 'The Lion King', 'Shrek', 'Star Wars', 'Cheaper By The Dozen', 'Intersteller']\n"
          ],
          "name": "stdout"
        }
      ]
    },
    {
      "cell_type": "code",
      "metadata": {
        "id": "zgakeSTuySkt",
        "outputId": "75b357af-5ca5-45e1-8bfe-d8527308d708",
        "colab": {
          "base_uri": "https://localhost:8080/"
        }
      },
      "source": [
        "movies.sort()\n",
        "print(movies)"
      ],
      "execution_count": 61,
      "outputs": [
        {
          "output_type": "stream",
          "text": [
            "['Cheaper By The Dozen', 'Crazy Rich Asians', 'Intersteller', 'Shrek', 'Star Wars', 'The Lion King']\n"
          ],
          "name": "stdout"
        }
      ]
    },
    {
      "cell_type": "markdown",
      "metadata": {
        "id": "wCJ1e5zF2_aS"
      },
      "source": [
        "Can we sort the list backwards?"
      ]
    },
    {
      "cell_type": "code",
      "metadata": {
        "id": "ELI6p-973CNB",
        "colab": {
          "base_uri": "https://localhost:8080/"
        },
        "outputId": "34e752f7-0ae7-4337-c6f8-98ac9656f507"
      },
      "source": [
        "movies.sort(reverse=True)\n",
        "print(movies)"
      ],
      "execution_count": 62,
      "outputs": [
        {
          "output_type": "stream",
          "text": [
            "['The Lion King', 'Star Wars', 'Shrek', 'Intersteller', 'Crazy Rich Asians', 'Cheaper By The Dozen']\n"
          ],
          "name": "stdout"
        }
      ]
    },
    {
      "cell_type": "markdown",
      "metadata": {
        "id": "PEcj09doxVho"
      },
      "source": [
        "Count the number of times an element occurs in the list."
      ]
    },
    {
      "cell_type": "code",
      "metadata": {
        "id": "VWcz8liqxbRx",
        "colab": {
          "base_uri": "https://localhost:8080/"
        },
        "outputId": "7fd60bb2-6335-407e-8d9b-2485339c6c97"
      },
      "source": [
        "num_lion_king = movies.count(\"The Lion King\")\n",
        "num_frozen = movies.count(\"Frozen\")\n",
        "print(\"The Lion King: \" + str(num_lion_king))\n",
        "print(\"Frozen: \" + str(num_frozen))"
      ],
      "execution_count": 65,
      "outputs": [
        {
          "output_type": "stream",
          "text": [
            "The Lion King: 1\n",
            "Frozen: 0\n"
          ],
          "name": "stdout"
        }
      ]
    },
    {
      "cell_type": "markdown",
      "metadata": {
        "id": "eQyuUSomxajH"
      },
      "source": [
        "Print out the element at index 2."
      ]
    },
    {
      "cell_type": "code",
      "metadata": {
        "id": "JKJUW7KSxfSn",
        "colab": {
          "base_uri": "https://localhost:8080/",
          "height": 35
        },
        "outputId": "60bb8e88-52df-4fe4-e01f-c05ee753668a"
      },
      "source": [
        "movies[2]"
      ],
      "execution_count": 66,
      "outputs": [
        {
          "output_type": "execute_result",
          "data": {
            "application/vnd.google.colaboratory.intrinsic+json": {
              "type": "string"
            },
            "text/plain": [
              "'Shrek'"
            ]
          },
          "metadata": {
            "tags": []
          },
          "execution_count": 66
        }
      ]
    },
    {
      "cell_type": "markdown",
      "metadata": {
        "id": "AVRzoOUsKFx-"
      },
      "source": [
        "What happens if we try to print (or access, or assign) an index which is larger than the length of the list?"
      ]
    },
    {
      "cell_type": "code",
      "metadata": {
        "id": "D6LgrhIbKMoz",
        "colab": {
          "base_uri": "https://localhost:8080/",
          "height": 165
        },
        "outputId": "c84eee43-6caf-4e04-8888-910996312008"
      },
      "source": [
        "print(movies[50])"
      ],
      "execution_count": 67,
      "outputs": [
        {
          "output_type": "error",
          "ename": "IndexError",
          "evalue": "ignored",
          "traceback": [
            "\u001b[0;31m---------------------------------------------------------------------------\u001b[0m",
            "\u001b[0;31mIndexError\u001b[0m                                Traceback (most recent call last)",
            "\u001b[0;32m<ipython-input-67-18e10761efb9>\u001b[0m in \u001b[0;36m<module>\u001b[0;34m()\u001b[0m\n\u001b[0;32m----> 1\u001b[0;31m \u001b[0mprint\u001b[0m\u001b[0;34m(\u001b[0m\u001b[0mmovies\u001b[0m\u001b[0;34m[\u001b[0m\u001b[0;36m50\u001b[0m\u001b[0;34m]\u001b[0m\u001b[0;34m)\u001b[0m\u001b[0;34m\u001b[0m\u001b[0;34m\u001b[0m\u001b[0m\n\u001b[0m",
            "\u001b[0;31mIndexError\u001b[0m: list index out of range"
          ]
        }
      ]
    },
    {
      "cell_type": "markdown",
      "metadata": {
        "id": "0c-uAIBoxe1H"
      },
      "source": [
        "Change the element at index 1 to be different. Print the list again."
      ]
    },
    {
      "cell_type": "code",
      "metadata": {
        "id": "0FQoRCYzxa3e",
        "colab": {
          "base_uri": "https://localhost:8080/"
        },
        "outputId": "bd855144-f9cb-457c-984b-dc15e975e2f3"
      },
      "source": [
        "movies[1] = \"Toy Story\"\n",
        "print(movies)"
      ],
      "execution_count": 68,
      "outputs": [
        {
          "output_type": "stream",
          "text": [
            "['The Lion King', 'Toy Story', 'Shrek', 'Intersteller', 'Crazy Rich Asians', 'Cheaper By The Dozen']\n"
          ],
          "name": "stdout"
        }
      ]
    },
    {
      "cell_type": "markdown",
      "metadata": {
        "id": "iegUWlUmzZIe"
      },
      "source": [
        "Remove some elements from the list. (Removing by element, popping by index.) (Printing the list each time.) Remove by element and by index."
      ]
    },
    {
      "cell_type": "code",
      "metadata": {
        "id": "GFfXBgzyzyRu",
        "colab": {
          "base_uri": "https://localhost:8080/"
        },
        "outputId": "4d2e8896-9d63-409c-f74c-1d4695e323c8"
      },
      "source": [
        "movies.remove(\"Intersteller\")\n",
        "print(movies)"
      ],
      "execution_count": 69,
      "outputs": [
        {
          "output_type": "stream",
          "text": [
            "['The Lion King', 'Toy Story', 'Shrek', 'Crazy Rich Asians', 'Cheaper By The Dozen']\n"
          ],
          "name": "stdout"
        }
      ]
    },
    {
      "cell_type": "code",
      "metadata": {
        "id": "lC4AgEByz0rt",
        "outputId": "1ea6f114-9963-44b0-fafd-66e48c3ef447",
        "colab": {
          "base_uri": "https://localhost:8080/"
        }
      },
      "source": [
        "movies.pop()\n",
        "print(movies)"
      ],
      "execution_count": 70,
      "outputs": [
        {
          "output_type": "stream",
          "text": [
            "['The Lion King', 'Toy Story', 'Shrek', 'Crazy Rich Asians']\n"
          ],
          "name": "stdout"
        }
      ]
    },
    {
      "cell_type": "code",
      "metadata": {
        "id": "lIqJ-092z8au",
        "outputId": "d80b1d63-393b-462b-8a52-b28a142806e0",
        "colab": {
          "base_uri": "https://localhost:8080/"
        }
      },
      "source": [
        "movies.pop(2)\n",
        "print(movies)"
      ],
      "execution_count": 71,
      "outputs": [
        {
          "output_type": "stream",
          "text": [
            "['The Lion King', 'Toy Story', 'Crazy Rich Asians']\n"
          ],
          "name": "stdout"
        }
      ]
    },
    {
      "cell_type": "markdown",
      "metadata": {
        "id": "PkHrOJCGxlfS"
      },
      "source": [
        "Clear the list. (And print it again.)"
      ]
    },
    {
      "cell_type": "code",
      "metadata": {
        "id": "SrYAu8LFyeE8",
        "colab": {
          "base_uri": "https://localhost:8080/"
        },
        "outputId": "6bd221ff-5d4b-42b6-c9a5-0d422091679c"
      },
      "source": [
        "movies.clear()\n",
        "print(movies)"
      ],
      "execution_count": 72,
      "outputs": [
        {
          "output_type": "stream",
          "text": [
            "[]\n"
          ],
          "name": "stdout"
        }
      ]
    },
    {
      "cell_type": "markdown",
      "metadata": {
        "id": "X1uFcCdDr-F2"
      },
      "source": [
        "# Feedback"
      ]
    },
    {
      "cell_type": "markdown",
      "metadata": {
        "id": "gVsDn4SRruXO"
      },
      "source": [
        "Lecture: 2.1 Python Introduction - part 4\n",
        "\n",
        "![](https://i.imgur.com/5FKvgmw.png)\n",
        "\n",
        "\n",
        "[Link to feedback form](https://forms.gle/NdAhw7ZMJ2eBEydd7)"
      ]
    }
  ]
}