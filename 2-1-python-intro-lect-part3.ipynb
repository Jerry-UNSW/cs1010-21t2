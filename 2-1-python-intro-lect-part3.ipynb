{
  "nbformat": 4,
  "nbformat_minor": 0,
  "metadata": {
    "colab": {
      "name": "2-1-python-intro-lect-part3.ipynb",
      "provenance": [],
      "collapsed_sections": [
        "DbEnqaUnwfZp",
        "KhmKoARh8t28",
        "vOBvioy3WDO_",
        "CRQgX47vM5nU",
        "6uBUEwM2UaHc",
        "pVufceYcpugu",
        "clMhQF4k6wx-",
        "g-n6ohsr-2Z_",
        "2vG33InB4wPG",
        "RASu1vuRz8Bf",
        "TKpGsue7Mi2z",
        "qyzkVycOp7Cb",
        "o_7e49apRLPS",
        "693LDbk6uCQY",
        "MK7ri_tSt05T",
        "Dty2p3QOyP7V",
        "YkNbABqZcwVC",
        "4KXXnG4tfj35",
        "MZ9ug9b_DNs3",
        "obYBHYlwN0nl"
      ],
      "toc_visible": true,
      "include_colab_link": true
    },
    "kernelspec": {
      "name": "python3",
      "display_name": "Python 3"
    },
    "language_info": {
      "name": "python"
    }
  },
  "cells": [
    {
      "cell_type": "markdown",
      "metadata": {
        "id": "view-in-github",
        "colab_type": "text"
      },
      "source": [
        "<a href=\"https://colab.research.google.com/github/sim-mautner/cs1010-21t2/blob/main/2-1-python-intro-lect-part3.ipynb\" target=\"_parent\"><img src=\"https://colab.research.google.com/assets/colab-badge.svg\" alt=\"Open In Colab\"/></a>"
      ]
    },
    {
      "cell_type": "markdown",
      "metadata": {
        "id": "johv5jTzr1Vm"
      },
      "source": [
        "> Python Introduction<br>\n",
        "> COMP1010 2021 T2<br>\n",
        "> Week 2-3"
      ]
    },
    {
      "cell_type": "markdown",
      "metadata": {
        "id": "qi4uVP7WVrcL"
      },
      "source": [
        "This lecture starts right near the end of the Conditionals section over [here](#eg_ready_to_lecture_cell), in part d of the example."
      ]
    },
    {
      "cell_type": "markdown",
      "metadata": {
        "id": "0368ktSurcTf"
      },
      "source": [
        "# Conditionals"
      ]
    },
    {
      "cell_type": "markdown",
      "metadata": {
        "id": "o_7e49apRLPS"
      },
      "source": [
        "## if\n",
        "\n",
        "```\n",
        "if condition:\n",
        "  code_to_execute_if_condition_is_true\n",
        "```\n",
        "\n",
        "\n",
        "\n",
        "What happens if the condition is `True`?"
      ]
    },
    {
      "cell_type": "code",
      "metadata": {
        "id": "ujDJWU7hrJTI"
      },
      "source": [
        ""
      ],
      "execution_count": null,
      "outputs": []
    },
    {
      "cell_type": "markdown",
      "metadata": {
        "id": "Ls5OhTbhr3gN"
      },
      "source": [
        "What happens if the condition is `False`?"
      ]
    },
    {
      "cell_type": "code",
      "metadata": {
        "id": "-3JVINAbr6YR"
      },
      "source": [
        ""
      ],
      "execution_count": null,
      "outputs": []
    },
    {
      "cell_type": "markdown",
      "metadata": {
        "id": "0rLJlS15s1TQ"
      },
      "source": [
        "Can we have multiple lines of code to execute?"
      ]
    },
    {
      "cell_type": "code",
      "metadata": {
        "id": "5GVhji6AtRmj"
      },
      "source": [
        ""
      ],
      "execution_count": null,
      "outputs": []
    },
    {
      "cell_type": "markdown",
      "metadata": {
        "id": "qSDrVBLHr8tU"
      },
      "source": [
        "Does the indentation matter?"
      ]
    },
    {
      "cell_type": "code",
      "metadata": {
        "id": "x6kpZjREtRW-"
      },
      "source": [
        ""
      ],
      "execution_count": null,
      "outputs": []
    },
    {
      "cell_type": "markdown",
      "metadata": {
        "id": "693LDbk6uCQY"
      },
      "source": [
        "## Testing Variables and Creating Conditions"
      ]
    },
    {
      "cell_type": "markdown",
      "metadata": {
        "id": "nt-AoOUruhyK"
      },
      "source": [
        "Can we create a variable with a boolean to test?\n",
        "\n",
        "* `not`"
      ]
    },
    {
      "cell_type": "code",
      "metadata": {
        "colab": {
          "base_uri": "https://localhost:8080/"
        },
        "id": "TTS8JF7uuoZp",
        "outputId": "5b1aaaed-906d-4f20-974e-304d8774980b"
      },
      "source": [
        ""
      ],
      "execution_count": null,
      "outputs": [
        {
          "output_type": "stream",
          "text": [
            "here\n"
          ],
          "name": "stdout"
        }
      ]
    },
    {
      "cell_type": "markdown",
      "metadata": {
        "id": "A-DTcDRpuoqG"
      },
      "source": [
        "Can we create an integer to test?\n",
        "\n",
        "* ==\n",
        "* !=\n",
        "* \\>\n",
        "* <\n",
        "* <=\n",
        "* \\>="
      ]
    },
    {
      "cell_type": "code",
      "metadata": {
        "id": "Kci8FX_juhX9"
      },
      "source": [
        ""
      ],
      "execution_count": null,
      "outputs": []
    },
    {
      "cell_type": "markdown",
      "metadata": {
        "id": "hh8PwWRmwLYH"
      },
      "source": [
        "Can we create a string to test?\n",
        "\n",
        "* ==\n",
        "* !="
      ]
    },
    {
      "cell_type": "code",
      "metadata": {
        "id": "bzgFtvsWwN4H"
      },
      "source": [
        "\n"
      ],
      "execution_count": null,
      "outputs": []
    },
    {
      "cell_type": "markdown",
      "metadata": {
        "id": "vL6uZVZjwt6d"
      },
      "source": [
        "What happens if we use > and < on strings?"
      ]
    },
    {
      "cell_type": "code",
      "metadata": {
        "id": "IO7URFOJww7b"
      },
      "source": [
        ""
      ],
      "execution_count": null,
      "outputs": []
    },
    {
      "cell_type": "markdown",
      "metadata": {
        "id": "MK7ri_tSt05T"
      },
      "source": [
        "## else\n",
        "\n",
        "```\n",
        "if condition:\n",
        "  code_if_true\n",
        "else:\n",
        "  code_if_false\n",
        "```\n",
        "\n"
      ]
    },
    {
      "cell_type": "markdown",
      "metadata": {
        "id": "Dty2p3QOyP7V"
      },
      "source": [
        "## elif\n",
        "\n",
        "```\n",
        "if condition:\n",
        "  code_if_true\n",
        "elif condition_2:\n",
        "  code_if_condition1_false_and_condition2_true \n",
        "else:\n",
        "  code_if_false\n",
        "```\n",
        "\n",
        "* You must have exactly one `if`.\n",
        "* You may have 0 or more (as many as you'd like) `elif`.\n",
        "* You may have 0 or 1 `else`.\n",
        "* The order matters. Both for `if`, `elif`, `else` and for the order of the `elif`s."
      ]
    },
    {
      "cell_type": "markdown",
      "metadata": {
        "id": "335MMrGxBpup"
      },
      "source": [
        "<a name='eg_ready_to_lecture_cell'></a>\n",
        "## Example: Getting Ready to Lecture Online\n",
        "\n",
        "Lecturing from home means that I have my bed in the background of my webcam. This means that each day, before I lecture, I prefer to make my bed.\n",
        "\n",
        "(a) Write some code which:\n",
        "1. Declares a boolean `bed_made` to be `True` or `False`.\n",
        "2. Depending on the value of `bed_made`, display \"Go make your bed.\" or \"Ready to lecture.\""
      ]
    },
    {
      "cell_type": "code",
      "metadata": {
        "id": "2kooY55xCCv4"
      },
      "source": [
        ""
      ],
      "execution_count": null,
      "outputs": []
    },
    {
      "cell_type": "markdown",
      "metadata": {
        "id": "-7TjfhgZCDD5"
      },
      "source": [
        "(Continuing from previous question...)\n",
        "\n",
        "(b) Some days, I'm running late and I don't have time to make my bed, and end up giving lectures even if my bed is still unmade.\n",
        "\n",
        "Copy the code from the previous question and:\n",
        "1. Add a boolean `on_time` to be `True` or `False`.\n",
        "2. Depending on the values of `bed_made` and `on_time` display \"Go make your bed.\", \"Ready to lecture.\" or \"No time to make your bed. Go lecture anyway.\""
      ]
    },
    {
      "cell_type": "code",
      "metadata": {
        "id": "sI6nSImnCh9I"
      },
      "source": [
        ""
      ],
      "execution_count": null,
      "outputs": []
    },
    {
      "cell_type": "markdown",
      "metadata": {
        "id": "bvqyuwoDCiU5"
      },
      "source": [
        "(c) Can you implement the above code in a different way? (Enter at least 4 different ways of implementing the code.)\n",
        "\n"
      ]
    },
    {
      "cell_type": "code",
      "metadata": {
        "id": "3EUy369TClD4"
      },
      "source": [
        ""
      ],
      "execution_count": null,
      "outputs": []
    },
    {
      "cell_type": "markdown",
      "metadata": {
        "id": "BnwzKHfrEXIh"
      },
      "source": [
        "**A note about plagiarism in writing computer programs.**"
      ]
    },
    {
      "cell_type": "markdown",
      "metadata": {
        "id": "QTO1tK_dCzWE"
      },
      "source": [
        "(d) Implement the above code, but take into consideration that I also like to have a water bottle on my desk before I start lecturing.\n",
        "\n",
        "The outputs are now:\n",
        "* No time to get ready. Start lecturing now.\n",
        "* Ready to lecture.\n",
        "* Get your water bottle.\n",
        "* Go make your bed."
      ]
    },
    {
      "cell_type": "code",
      "metadata": {
        "id": "bdpdieZYrAIz"
      },
      "source": [
        ""
      ],
      "execution_count": null,
      "outputs": []
    },
    {
      "cell_type": "markdown",
      "metadata": {
        "id": "Dq6fWE4oY9_P"
      },
      "source": [
        "# User Text Input\n",
        "\n",
        "* Get input from the user:\n",
        "`input()`\n",
        "* Put a prompt telling the user what they should be entering:\n",
        "`input(prompt)`\n",
        "* Save what the user inputs:\n",
        "`variable = input()`"
      ]
    },
    {
      "cell_type": "code",
      "metadata": {
        "id": "z-8NF2xdZCub"
      },
      "source": [
        ""
      ],
      "execution_count": null,
      "outputs": []
    },
    {
      "cell_type": "code",
      "metadata": {
        "id": "EAwF-3-DAaQo"
      },
      "source": [
        ""
      ],
      "execution_count": null,
      "outputs": []
    },
    {
      "cell_type": "markdown",
      "metadata": {
        "id": "fvKZYreWZcrQ"
      },
      "source": [
        "Write some code which asks the user for their name. If they enter \"Sim\", then say \"Hello Sim\". If they enter any other name, say \"Goodbye\"."
      ]
    },
    {
      "cell_type": "code",
      "metadata": {
        "id": "50fqNw9xBBGI"
      },
      "source": [
        ""
      ],
      "execution_count": null,
      "outputs": []
    },
    {
      "cell_type": "markdown",
      "metadata": {
        "id": "mBrpzl21BBZ_"
      },
      "source": [
        "Write some code which asks the user for their name. If they enter one word (no spaces) display \"Hello \\<name\\>\". If they enter more than one word, display \"Goodbye\"."
      ]
    },
    {
      "cell_type": "code",
      "metadata": {
        "id": "I1aiz-OUBQqO"
      },
      "source": [
        ""
      ],
      "execution_count": null,
      "outputs": []
    },
    {
      "cell_type": "markdown",
      "metadata": {
        "id": "DnbfNtyZPwBp"
      },
      "source": [
        "Write some code which asks the user for their name. If they enter \"Sim\", then say \"Hello Sim\". If they enter any other name, say \"Goodbye\"."
      ]
    },
    {
      "cell_type": "code",
      "metadata": {
        "id": "-8gVbANjPwBp"
      },
      "source": [
        ""
      ],
      "execution_count": null,
      "outputs": []
    },
    {
      "cell_type": "markdown",
      "metadata": {
        "id": "WT4FAD9TPwBq"
      },
      "source": [
        "Write some code which asks the user for their name. If they enter one word (no spaces) display \"Hello \\<name\\>\". If they enter more than one word, display \"Goodbye\"."
      ]
    },
    {
      "cell_type": "code",
      "metadata": {
        "id": "eAoVaGCsPwBq"
      },
      "source": [
        ""
      ],
      "execution_count": null,
      "outputs": []
    },
    {
      "cell_type": "markdown",
      "metadata": {
        "id": "Gle9bA2XwlK-"
      },
      "source": [
        "Example: Password Evaluator\n",
        "<a name='eg_password_evaluator_cell'></a>\n",
        "\n",
        "Write some code which asks the user to suggest a password, and then displays:\n",
        "* \"Strong\" if the password is 12 or more characters, and contains both upper and lower case characters\n",
        "* \"Weak\" if the password satisfies only one of the above conditions\n",
        "* \"Very weak\" if the password satisfies neither of the above conditions."
      ]
    },
    {
      "cell_type": "code",
      "metadata": {
        "id": "59M-Wcf1wrVJ"
      },
      "source": [
        ""
      ],
      "execution_count": null,
      "outputs": []
    },
    {
      "cell_type": "markdown",
      "metadata": {
        "id": "YkNbABqZcwVC"
      },
      "source": [
        "# Loops"
      ]
    },
    {
      "cell_type": "markdown",
      "metadata": {
        "id": "-4TeqaL8CRM9"
      },
      "source": [
        "## While Loops\n",
        "\n",
        "```\n",
        "while condition:\n",
        "  code_to_execute_while_condition_is_true\n",
        "```\n",
        "\n",
        "Following on from the [password evaluator](#eg_password_evaluator_cell) example, what happens if the user enters a password which doesn't satisfy the requirements? Can we ask them to keep entering passwords until they choose a \"strong\" password?"
      ]
    },
    {
      "cell_type": "code",
      "metadata": {
        "id": "GEpm1mgveFOJ"
      },
      "source": [
        ""
      ],
      "execution_count": null,
      "outputs": []
    },
    {
      "cell_type": "markdown",
      "metadata": {
        "id": "qK27eu5W59Xl"
      },
      "source": [
        "Is there a better way to do this?\n",
        "\n",
        "In short, we want to keep doing the same thing over and over again, until a condition is met.\n",
        "\n",
        "> Demo:\n",
        "> * Control flow in loops in general\n",
        "> * Control flow in this example\n",
        "\n"
      ]
    },
    {
      "cell_type": "code",
      "metadata": {
        "id": "WN_9P0QF6G3T"
      },
      "source": [
        ""
      ],
      "execution_count": null,
      "outputs": []
    },
    {
      "cell_type": "markdown",
      "metadata": {
        "id": "4KXXnG4tfj35"
      },
      "source": [
        "<a name='eg_square_numbers_cell'></a>\n",
        "### Example: Square Numbers\n",
        "\n",
        "> Demo:\n",
        "> * What are square numbers? How do we calculate them?\n",
        "> * How do we write this code?\n",
        "\n",
        "Write some code which takes in a number from the user, and prints out the numbers from 1 up to that number, and the squares of those numbers.\n",
        "\n",
        "```\n",
        "Enter a number: 5\n",
        "\n",
        "1 1\n",
        "2 4\n",
        "3 9\n",
        "4 16\n",
        "```"
      ]
    },
    {
      "cell_type": "code",
      "metadata": {
        "id": "rWytniVuDNXz"
      },
      "source": [
        ""
      ],
      "execution_count": null,
      "outputs": []
    },
    {
      "cell_type": "markdown",
      "metadata": {
        "id": "MZ9ug9b_DNs3"
      },
      "source": [
        "<a name='eg_triangular_numbers_cell'></a>\n",
        "### Example: Triangular Numbers\n",
        "\n",
        "> Demo:\n",
        "> * What are triangular numbers? How do we calculate them? (This is more of an aside.)\n",
        "> * How do we write this code?\n",
        "\n",
        "Write some code which takes in a number from the user, and prints out the sum of the numbers from 1 up to and including that number. (ie 3 --> 1+2+3 = 6)\n",
        "\n",
        "```\n",
        "Enter a number: 3\n",
        "\n",
        "6\n",
        "```"
      ]
    },
    {
      "cell_type": "code",
      "metadata": {
        "id": "xc7A6Pp9JApm"
      },
      "source": [
        ""
      ],
      "execution_count": null,
      "outputs": []
    },
    {
      "cell_type": "markdown",
      "metadata": {
        "id": "32MS8qvuDklj"
      },
      "source": [
        "## For Loops\n",
        "\n",
        "```\n",
        "for ... in ...:\n",
        "  code_to_execute_on_each_value\n",
        "```"
      ]
    },
    {
      "cell_type": "markdown",
      "metadata": {
        "id": "o2g7udMkDpMd"
      },
      "source": [
        "Redo the [square numbers](#eg_square_numbers_cell) example and the [triangular numbers](#eg_triangular_numbers_cell) example using for loops instead of while loops."
      ]
    },
    {
      "cell_type": "code",
      "metadata": {
        "id": "LxAjyoYFDv3z"
      },
      "source": [
        ""
      ],
      "execution_count": null,
      "outputs": []
    },
    {
      "cell_type": "code",
      "metadata": {
        "id": "H2AVVV3ZDwKE"
      },
      "source": [
        ""
      ],
      "execution_count": null,
      "outputs": []
    },
    {
      "cell_type": "markdown",
      "metadata": {
        "id": "obYBHYlwN0nl"
      },
      "source": [
        "### Example: Strings - one letter at a time.\n",
        "\n",
        "Write some code which prints out the letters of a string one at a time."
      ]
    },
    {
      "cell_type": "code",
      "metadata": {
        "id": "ftJ3bHMyOLk-"
      },
      "source": [
        "# Using a counter to access individual elements (while loop or for loop)"
      ],
      "execution_count": null,
      "outputs": []
    },
    {
      "cell_type": "code",
      "metadata": {
        "id": "jq4lduglOOQt"
      },
      "source": [
        "# Using the features of a string as an iterator (for loop)"
      ],
      "execution_count": null,
      "outputs": []
    },
    {
      "cell_type": "markdown",
      "metadata": {
        "id": "6bFZtlVK567M"
      },
      "source": [
        "## A warning about loops\n",
        "\n",
        "Changing a list (or other collection), while looping over it, can cause unwanted results."
      ]
    },
    {
      "cell_type": "code",
      "metadata": {
        "id": "cRMvNKmA6PDy"
      },
      "source": [
        ""
      ],
      "execution_count": null,
      "outputs": []
    },
    {
      "cell_type": "markdown",
      "metadata": {
        "id": "Dsm5N-CGLh7S"
      },
      "source": [
        "# Bringing it all together\n",
        "\n",
        "Example: Guess my number\n",
        "\n",
        "Write a program (piece of python code) which:\n",
        "1. Asks the user to choose a number between 1 and 100 (but not enter it).\n",
        "2. The program then guesses the user's number, and asks if the user's number is higher or lower than their guess.\n",
        "3. The user then enters `H` for higher, `L` for lower or `C` for correct, depending on whether or not the program has guessed their number.\n",
        "4. The program keeps repeating steps 2 and 3 until it manages to guess the number."
      ]
    },
    {
      "cell_type": "code",
      "metadata": {
        "id": "uXw-qkGuRAdp"
      },
      "source": [
        ""
      ],
      "execution_count": null,
      "outputs": []
    },
    {
      "cell_type": "markdown",
      "metadata": {
        "id": "k9cMFgGkuuDK"
      },
      "source": [
        "# Functions"
      ]
    },
    {
      "cell_type": "markdown",
      "metadata": {
        "id": "6_6ffqy8OolO"
      },
      "source": [
        "Purposes of functions:\n",
        "\n",
        "* Re-use code (\"Every line of code you don't write is bug free.\")\n",
        "* Testing\n",
        "* Abstraction / readability\n",
        "* Re-use code with different parameters\n",
        "\n"
      ]
    },
    {
      "cell_type": "markdown",
      "metadata": {
        "id": "MZIdfUIcgHcs"
      },
      "source": [
        "Do you remember this box?\n",
        "\n",
        "Can we create a string with this box in it?\n",
        "\n",
        "```\n",
        "+-----+\n",
        "|     |\n",
        "|     |\n",
        "|     |\n",
        "+-----+\n",
        "```"
      ]
    },
    {
      "cell_type": "code",
      "metadata": {
        "id": "-CsBtFSHgWXm"
      },
      "source": [
        ""
      ],
      "execution_count": null,
      "outputs": []
    },
    {
      "cell_type": "markdown",
      "metadata": {
        "id": "Hci2yRlggWua"
      },
      "source": [
        "Can we create this box too?\n",
        "\n",
        "```\n",
        "+----------+\n",
        "|          |\n",
        "|          |\n",
        "|          |\n",
        "+----------+\n",
        "```"
      ]
    },
    {
      "cell_type": "code",
      "metadata": {
        "id": "GwxjSEeygg4m"
      },
      "source": [
        ""
      ],
      "execution_count": null,
      "outputs": []
    },
    {
      "cell_type": "markdown",
      "metadata": {
        "id": "MEPnCq72ghPn"
      },
      "source": [
        "And this one too?\n",
        "\n",
        "```\n",
        "+----------+\n",
        "|          |\n",
        "+----------+\n",
        "```"
      ]
    },
    {
      "cell_type": "markdown",
      "metadata": {
        "id": "xyPLKx0JgqcX"
      },
      "source": [
        "By looking at what the code in each situation has in common, we can write a function which will work for any size box."
      ]
    },
    {
      "cell_type": "code",
      "metadata": {
        "id": "2-5_gU7zgxW4"
      },
      "source": [
        ""
      ],
      "execution_count": null,
      "outputs": []
    },
    {
      "cell_type": "markdown",
      "metadata": {
        "id": "ODCWq1Ydhhha"
      },
      "source": [
        "## Returning values from functions"
      ]
    },
    {
      "cell_type": "markdown",
      "metadata": {
        "id": "AQ9aOqsThOKE"
      },
      "source": [
        "Write a function `my_len()` which takes in a string as a parameter and returns the length of the string. (You can do this using the `len()` function, but the exercise is to do it without it.)"
      ]
    },
    {
      "cell_type": "code",
      "metadata": {
        "id": "x5ZGVZ1chPok"
      },
      "source": [
        ""
      ],
      "execution_count": null,
      "outputs": []
    },
    {
      "cell_type": "markdown",
      "metadata": {
        "id": "m0tGIH5uhP6B"
      },
      "source": [
        "Write your own function `my_count()` which takes in a string and a character and returns the number of times that character occurs in that string."
      ]
    },
    {
      "cell_type": "code",
      "metadata": {
        "id": "qEUo2lyIh7-l"
      },
      "source": [
        ""
      ],
      "execution_count": null,
      "outputs": []
    },
    {
      "cell_type": "markdown",
      "metadata": {
        "id": "8MmJvOZTi3PV"
      },
      "source": [
        "# Testing (an introduction)\n",
        "\n",
        "When testing if a piece of code works, we need to check all the different pathways our execution could take, and that each one produces the expected result.\n",
        "\n",
        "`assert(condition)`"
      ]
    },
    {
      "cell_type": "markdown",
      "metadata": {
        "id": "kP7wjZyvji7H"
      },
      "source": [
        "What does it look like when an `assert` passes?"
      ]
    },
    {
      "cell_type": "code",
      "metadata": {
        "id": "kWMcPKYAjl6B"
      },
      "source": [
        ""
      ],
      "execution_count": null,
      "outputs": []
    },
    {
      "cell_type": "markdown",
      "metadata": {
        "id": "P29RUnTkjmNU"
      },
      "source": [
        "What does it look like when an `assert` fails?"
      ]
    },
    {
      "cell_type": "markdown",
      "metadata": {
        "id": "6zQkNeE_jKW2"
      },
      "source": [
        "Write some tests for your my_len() function you wrote above."
      ]
    },
    {
      "cell_type": "code",
      "metadata": {
        "id": "PaPLzML0jHLH"
      },
      "source": [
        ""
      ],
      "execution_count": null,
      "outputs": []
    },
    {
      "cell_type": "markdown",
      "metadata": {
        "id": "9eLH9VV1kS_Z"
      },
      "source": [
        "## Test-Driven Development (TDD)"
      ]
    },
    {
      "cell_type": "markdown",
      "metadata": {
        "id": "L0ryHmlfkDPY"
      },
      "source": [
        "Test-Driven Development (TDD) is an approach to programming whereby the requirements or specification of the project are converted into test cases before the software is written."
      ]
    },
    {
      "cell_type": "markdown",
      "metadata": {
        "id": "b0dIARVrj972"
      },
      "source": [
        "<a name='eg_months_cell'></a>\n",
        "### Example: Months of the Year\n",
        "\n",
        "Consider a function which takes in a number and returns a string with the month of the year that that number corresponds to.\n",
        "\n",
        "1. What cases need to be considered?\n",
        "2. Write some tests which cover these cases.\n",
        "3. Implement the function.\n",
        "4. Implement the function using a switch statement."
      ]
    },
    {
      "cell_type": "code",
      "metadata": {
        "id": "TcMRz7KYlYBR"
      },
      "source": [
        ""
      ],
      "execution_count": null,
      "outputs": []
    },
    {
      "cell_type": "code",
      "metadata": {
        "id": "DWDwbR85lX1t"
      },
      "source": [
        ""
      ],
      "execution_count": null,
      "outputs": []
    },
    {
      "cell_type": "code",
      "metadata": {
        "id": "uBQZ-otplXhV"
      },
      "source": [
        ""
      ],
      "execution_count": null,
      "outputs": []
    },
    {
      "cell_type": "markdown",
      "metadata": {
        "id": "w4PYn6-vx3if"
      },
      "source": [
        "### Example: Ready to Lecture (part 2)\n",
        "\n",
        "Consider the [Getting Ready to Lecture](#eg_ready_to_lecture_cell) example.\n",
        "\n",
        "1. Write tests to check whether or not your code was correct.\n",
        "2. Convert your code into a function which takes in booleans and returns a string.\n",
        "3. Run your tests on your code.\n",
        "\n",
        "This example makes it clear, how much easier it is to test every possible condition, rather than changing the value of the variables with the code."
      ]
    },
    {
      "cell_type": "code",
      "metadata": {
        "id": "mWrenjVay-_n"
      },
      "source": [
        ""
      ],
      "execution_count": null,
      "outputs": []
    },
    {
      "cell_type": "markdown",
      "metadata": {
        "id": "3262a-LbwQqC"
      },
      "source": [
        "# Collections (part 1)"
      ]
    },
    {
      "cell_type": "markdown",
      "metadata": {
        "id": "RaeMy89GiFLU"
      },
      "source": [
        "## Lists\n"
      ]
    },
    {
      "cell_type": "markdown",
      "metadata": {
        "id": "HUeCv4hAugmM"
      },
      "source": [
        "You have 4 students in the class. Create variables to store their project grades."
      ]
    },
    {
      "cell_type": "code",
      "metadata": {
        "id": "9aOzh4rdupjV"
      },
      "source": [
        ""
      ],
      "execution_count": null,
      "outputs": []
    },
    {
      "cell_type": "markdown",
      "metadata": {
        "id": "k1M9jmPNup-v"
      },
      "source": [
        "What happens when you have 10 students in the class? Or 100? I hear there's at least one COMP course with 1000 students.\n",
        "\n",
        "Lists are:\n",
        "* Used to store multiple items in one variable\n",
        "* Created using square brackets (eg `my_list = []`)\n",
        "* Ordered\n",
        "* Changeable\n",
        "* Allow duplicate values\n",
        "\n",
        "As always (in Python), lists are indexed from 0."
      ]
    },
    {
      "cell_type": "markdown",
      "metadata": {
        "id": "bk5LeZx1w86r"
      },
      "source": [
        "Create a list. (Topic suggestions welcome in chat.)"
      ]
    },
    {
      "cell_type": "code",
      "metadata": {
        "id": "rg87Uv7GxB5N"
      },
      "source": [
        ""
      ],
      "execution_count": null,
      "outputs": []
    },
    {
      "cell_type": "markdown",
      "metadata": {
        "id": "LW4qFumaxCMB"
      },
      "source": [
        "Print the list."
      ]
    },
    {
      "cell_type": "code",
      "metadata": {
        "id": "z6dzDLfUxDro"
      },
      "source": [
        ""
      ],
      "execution_count": null,
      "outputs": []
    },
    {
      "cell_type": "markdown",
      "metadata": {
        "id": "6f_HAVrixD6C"
      },
      "source": [
        "Append (add to the end) an element to the list. (And print it again.)"
      ]
    },
    {
      "cell_type": "code",
      "metadata": {
        "id": "XdekkgFAxHUC"
      },
      "source": [
        ""
      ],
      "execution_count": null,
      "outputs": []
    },
    {
      "cell_type": "markdown",
      "metadata": {
        "id": "voyImQ32xHh9"
      },
      "source": [
        "Print out the length of the list."
      ]
    },
    {
      "cell_type": "code",
      "metadata": {
        "id": "9yIMJl71xOxc"
      },
      "source": [
        ""
      ],
      "execution_count": null,
      "outputs": []
    },
    {
      "cell_type": "markdown",
      "metadata": {
        "id": "VkORFqtgxO_Z"
      },
      "source": [
        "Add some more elements to the list (using `append` and `insert`). Sort the list. (And print it again.)"
      ]
    },
    {
      "cell_type": "code",
      "metadata": {
        "id": "NOOvVMV3xVVo"
      },
      "source": [
        ""
      ],
      "execution_count": null,
      "outputs": []
    },
    {
      "cell_type": "markdown",
      "metadata": {
        "id": "wCJ1e5zF2_aS"
      },
      "source": [
        "Can we sort the list backwards?"
      ]
    },
    {
      "cell_type": "code",
      "metadata": {
        "id": "ELI6p-973CNB"
      },
      "source": [
        ""
      ],
      "execution_count": null,
      "outputs": []
    },
    {
      "cell_type": "markdown",
      "metadata": {
        "id": "PEcj09doxVho"
      },
      "source": [
        "Count the number of times an element occurs in the list."
      ]
    },
    {
      "cell_type": "code",
      "metadata": {
        "id": "VWcz8liqxbRx"
      },
      "source": [
        ""
      ],
      "execution_count": null,
      "outputs": []
    },
    {
      "cell_type": "markdown",
      "metadata": {
        "id": "eQyuUSomxajH"
      },
      "source": [
        "Print out the element at index 2."
      ]
    },
    {
      "cell_type": "code",
      "metadata": {
        "id": "JKJUW7KSxfSn"
      },
      "source": [
        ""
      ],
      "execution_count": null,
      "outputs": []
    },
    {
      "cell_type": "markdown",
      "metadata": {
        "id": "AVRzoOUsKFx-"
      },
      "source": [
        "What happens if we try to print (or access, or assign) an index which is larger than the length of the list?"
      ]
    },
    {
      "cell_type": "code",
      "metadata": {
        "id": "D6LgrhIbKMoz"
      },
      "source": [
        ""
      ],
      "execution_count": null,
      "outputs": []
    },
    {
      "cell_type": "markdown",
      "metadata": {
        "id": "0c-uAIBoxe1H"
      },
      "source": [
        "Change the element at index 1 to be different. Print the list again."
      ]
    },
    {
      "cell_type": "code",
      "metadata": {
        "id": "0FQoRCYzxa3e"
      },
      "source": [
        ""
      ],
      "execution_count": null,
      "outputs": []
    },
    {
      "cell_type": "markdown",
      "metadata": {
        "id": "iegUWlUmzZIe"
      },
      "source": [
        "Remove some elements from the list. (Removing by element, popping by index.) (Printing the list each time.) Remove by element and by index."
      ]
    },
    {
      "cell_type": "code",
      "metadata": {
        "id": "GFfXBgzyzyRu"
      },
      "source": [
        ""
      ],
      "execution_count": null,
      "outputs": []
    },
    {
      "cell_type": "markdown",
      "metadata": {
        "id": "PkHrOJCGxlfS"
      },
      "source": [
        "Clear the list. (And print it again.)"
      ]
    },
    {
      "cell_type": "code",
      "metadata": {
        "id": "SrYAu8LFyeE8"
      },
      "source": [
        ""
      ],
      "execution_count": null,
      "outputs": []
    },
    {
      "cell_type": "markdown",
      "metadata": {
        "id": "HdDMv-Dmjplx"
      },
      "source": [
        "Lists are also handy in some other situations. For example, can we use use a list to simplify our [months of the year](#eg_months_cell) example?\n"
      ]
    },
    {
      "cell_type": "code",
      "metadata": {
        "id": "ClhVtCO6uf_C"
      },
      "source": [
        ""
      ],
      "execution_count": null,
      "outputs": []
    },
    {
      "cell_type": "markdown",
      "metadata": {
        "id": "n1h5s_Nf2Ghn"
      },
      "source": [
        "Can we find out if an element is in the list? (Without searching through the list one by one.)"
      ]
    },
    {
      "cell_type": "code",
      "metadata": {
        "id": "h6FE_Ydu2aLl"
      },
      "source": [
        "\n"
      ],
      "execution_count": null,
      "outputs": []
    },
    {
      "cell_type": "markdown",
      "metadata": {
        "id": "6Cne1Az42sQP"
      },
      "source": [
        "Can we loop through the list one by one?"
      ]
    },
    {
      "cell_type": "code",
      "metadata": {
        "id": "Qw3_2DVz25oL"
      },
      "source": [
        ""
      ],
      "execution_count": null,
      "outputs": []
    },
    {
      "cell_type": "markdown",
      "metadata": {
        "id": "y8G0n6U43Mls"
      },
      "source": [
        "Can we join two lists together? (aka What happens when we + two lists?)"
      ]
    },
    {
      "cell_type": "code",
      "metadata": {
        "id": "xKc-75uZ3RuI"
      },
      "source": [
        ""
      ],
      "execution_count": null,
      "outputs": []
    },
    {
      "cell_type": "markdown",
      "metadata": {
        "id": "YvnK2MFF4fCj"
      },
      "source": [
        "Can lists contain lists? How would we access it? How would we print it? Could we make the game Tic Tac Toe?"
      ]
    },
    {
      "cell_type": "code",
      "metadata": {
        "id": "rQn3E3zK4mmx"
      },
      "source": [
        ""
      ],
      "execution_count": null,
      "outputs": []
    },
    {
      "cell_type": "markdown",
      "metadata": {
        "id": "eZqAulgMz2dj"
      },
      "source": [
        "## Dictionaries"
      ]
    },
    {
      "cell_type": "markdown",
      "metadata": {
        "id": "kbq1or8az6w6"
      },
      "source": [
        "In the real world, dictionaries let us look up *words* and find *meanings*.\n",
        "In Python, dictionaries let us look up *keys* and find *values*.\n",
        "\n",
        "Like a list, but with meaningful keys instead of indexes 0, 1, 2..."
      ]
    },
    {
      "cell_type": "markdown",
      "metadata": {
        "id": "U5BF1VcLWLmn"
      },
      "source": [
        "Create a dictionary mapping classes to tutor or lecturer."
      ]
    },
    {
      "cell_type": "code",
      "metadata": {
        "id": "Rxuh3oyZ8Nc0"
      },
      "source": [
        ""
      ],
      "execution_count": null,
      "outputs": []
    },
    {
      "cell_type": "markdown",
      "metadata": {
        "id": "qNXUH1KZ8NtW"
      },
      "source": [
        "Which tutor teaches H12A?"
      ]
    },
    {
      "cell_type": "code",
      "metadata": {
        "id": "Wh9N6fL28PRq"
      },
      "source": [
        ""
      ],
      "execution_count": null,
      "outputs": []
    },
    {
      "cell_type": "markdown",
      "metadata": {
        "id": "c5VR6-uiWZkg"
      },
      "source": [
        "Can we add another class to the dictionary?"
      ]
    },
    {
      "cell_type": "code",
      "metadata": {
        "id": "4vGiJTroWeL1"
      },
      "source": [
        ""
      ],
      "execution_count": null,
      "outputs": []
    },
    {
      "cell_type": "markdown",
      "metadata": {
        "id": "y5LAY7lZWeYn"
      },
      "source": [
        "Can we change which tutor takes a class?"
      ]
    },
    {
      "cell_type": "code",
      "metadata": {
        "id": "UqDcwA4NWkxf"
      },
      "source": [
        ""
      ],
      "execution_count": null,
      "outputs": []
    },
    {
      "cell_type": "markdown",
      "metadata": {
        "id": "F9DTDyLJWlCf"
      },
      "source": [
        "Two tutors have swapped classes. How would we go about updating the dictionary?"
      ]
    },
    {
      "cell_type": "code",
      "metadata": {
        "id": "hHthwW21XDii"
      },
      "source": [
        ""
      ],
      "execution_count": null,
      "outputs": []
    },
    {
      "cell_type": "markdown",
      "metadata": {
        "id": "EqBIuOzqXDzR"
      },
      "source": [
        "Dictionaries are:\n",
        "* ordered*\n",
        "* changeable\n",
        "* does not allow duplicates\n",
        "\n",
        "Note: As of Python version 3.7, dictionaries are ordered. In Python 3.6 and earlier, dictionaries are unordered."
      ]
    },
    {
      "cell_type": "markdown",
      "metadata": {
        "id": "kD2fo7X4RDhd"
      },
      "source": [
        "What happens if we try and put a duplicate entry into a dictionary?"
      ]
    },
    {
      "cell_type": "code",
      "metadata": {
        "id": "04XcJENJRJbO"
      },
      "source": [
        ""
      ],
      "execution_count": null,
      "outputs": []
    },
    {
      "cell_type": "markdown",
      "metadata": {
        "id": "l3wd6RG-8oXI"
      },
      "source": [
        "# Modules and Libraries\n"
      ]
    },
    {
      "cell_type": "markdown",
      "metadata": {
        "id": "2HccA5Zg8zEb"
      },
      "source": [
        "\n",
        "Why do we have them?\n",
        "\n",
        "Where can I find more? [PyPI - Python Package Index](https://pypi.org/)"
      ]
    },
    {
      "cell_type": "markdown",
      "metadata": {
        "id": "axgGxbd35JVg"
      },
      "source": [
        "# Datetime"
      ]
    },
    {
      "cell_type": "markdown",
      "metadata": {
        "id": "1HQ9OmH8BxVO"
      },
      "source": [
        "Can we get the current datetime?\n"
      ]
    },
    {
      "cell_type": "code",
      "metadata": {
        "id": "vEXQz60eDuGg"
      },
      "source": [
        ""
      ],
      "execution_count": null,
      "outputs": []
    },
    {
      "cell_type": "markdown",
      "metadata": {
        "id": "4uIVMAMIDuY_"
      },
      "source": [
        "Can we create an object with a specific datetime?"
      ]
    },
    {
      "cell_type": "code",
      "metadata": {
        "id": "ravghWwj7o2L"
      },
      "source": [
        ""
      ],
      "execution_count": null,
      "outputs": []
    },
    {
      "cell_type": "markdown",
      "metadata": {
        "id": "bsydqR0UDrjP"
      },
      "source": [
        "Can we print out the current date and time, in the format:\n",
        "\n",
        "> Today is Wednesday, 30/04/2021\n",
        "\n",
        "Some useful/common formats:\n",
        "* %a\tWeekday, short version\tWed\t\n",
        "* %A\tWeekday, full version\tWednesday\t\t\n",
        "* %d\tDay of month 01-31\t31\t\n",
        "* %b\tMonth name, short version\tDec\t\n",
        "* %B\tMonth name, full version\tDecember\t\n",
        "* %m\tMonth as a number 01-12\t12\t\n",
        "* %y\tYear, short version, without century\t18\t\n",
        "* %Y\tYear, full version\t2018\t\n",
        "* %H\tHour 00-23\t17\t\n",
        "* %I\tHour 00-12\t05\t\n",
        "* %p\tAM/PM\tPM\t\n",
        "* %M\tMinute 00-59\t41\t\n",
        "* %S\tSecond 00-59\t08\n",
        "\n",
        "([complete list of formats](https://www.w3schools.com/python/python_datetime.asp))"
      ]
    },
    {
      "cell_type": "code",
      "metadata": {
        "id": "BdHisgwGDs0I"
      },
      "source": [
        ""
      ],
      "execution_count": null,
      "outputs": []
    },
    {
      "cell_type": "markdown",
      "metadata": {
        "id": "pmyZPba6Aztc"
      },
      "source": [
        "# Random\n",
        "\n"
      ]
    },
    {
      "cell_type": "markdown",
      "metadata": {
        "id": "yq3sKbWq1YuI"
      },
      "source": [
        "Write a function which simulates the rolling of a 6-sided dice."
      ]
    },
    {
      "cell_type": "code",
      "metadata": {
        "id": "cOqnLS0OBZp3"
      },
      "source": [
        ""
      ],
      "execution_count": null,
      "outputs": []
    },
    {
      "cell_type": "markdown",
      "metadata": {
        "id": "tQUL7Lts1frh"
      },
      "source": [
        "Writie a function which takes in an integer n, and simulates the rolling of an n-sided dice."
      ]
    },
    {
      "cell_type": "code",
      "metadata": {
        "id": "S4jaGJ_F1kD8"
      },
      "source": [
        ""
      ],
      "execution_count": null,
      "outputs": []
    },
    {
      "cell_type": "markdown",
      "metadata": {
        "id": "ZEFihde3_aXd"
      },
      "source": [
        "# Images"
      ]
    },
    {
      "cell_type": "markdown",
      "metadata": {
        "id": "Kvxtudo1_kHk"
      },
      "source": [
        "Important info:\n",
        "* An image is a width x height grid of pixels\n",
        "* Each pixel has a Red, Green, and Blue component"
      ]
    },
    {
      "cell_type": "markdown",
      "metadata": {
        "id": "SeQyXNX4_vdT"
      },
      "source": [
        "Using the [Pillow](https://python-pillow.org/) library in python allows us to create and manipulate images.\n",
        "\n",
        "**Note:** This is not something we will be covering in depth in this course, so don't feel you have to memorise how to manipulate images."
      ]
    },
    {
      "cell_type": "markdown",
      "metadata": {
        "id": "23RbVs1EYKG8"
      },
      "source": [
        "# Pandas and Plotly (a detour into Musk tweets)"
      ]
    },
    {
      "cell_type": "markdown",
      "metadata": {
        "id": "5iONl3mxYRzF"
      },
      "source": [
        "This code cell creates a list from some of Elon Musk's tweets. \n",
        "\n",
        "*You're not expected to completely understand this code yet. It's only here to give us interesting data*."
      ]
    },
    {
      "cell_type": "code",
      "metadata": {
        "id": "T2UcZXKtYXBb"
      },
      "source": [
        "import pandas\n",
        "\n",
        "raw_tweets = pandas.read_csv('https://raw.githubusercontent.com/sim-mautner/cs1010-21t2/main/data/elonmusk.csv')\n",
        "elon_tweets = list(raw_tweets.tweet)"
      ],
      "execution_count": null,
      "outputs": []
    },
    {
      "cell_type": "markdown",
      "metadata": {
        "id": "SSEDVtEdQ1o9"
      },
      "source": [
        "How many tweets are there in our dataset?"
      ]
    },
    {
      "cell_type": "code",
      "metadata": {
        "id": "9IH7gp4PQ4Ko"
      },
      "source": [
        ""
      ],
      "execution_count": null,
      "outputs": []
    },
    {
      "cell_type": "markdown",
      "metadata": {
        "id": "3-x1Sk2AaR9q"
      },
      "source": [
        "In what tweets has Elon Musk said \"simulation\"?"
      ]
    },
    {
      "cell_type": "code",
      "metadata": {
        "id": "RTKak5pvaXDo"
      },
      "source": [
        ""
      ],
      "execution_count": null,
      "outputs": []
    },
    {
      "cell_type": "markdown",
      "metadata": {
        "id": "HUVyHkreaOz7"
      },
      "source": [
        "What emoji does Elon Musk use?"
      ]
    },
    {
      "cell_type": "code",
      "metadata": {
        "id": "3w8EAUQaaoGz"
      },
      "source": [
        ""
      ],
      "execution_count": null,
      "outputs": []
    },
    {
      "cell_type": "markdown",
      "metadata": {
        "id": "Yzz3BH7ia4VY"
      },
      "source": [
        "Can we build a dictionary counting how often Elon Musk uses each Emoji?"
      ]
    },
    {
      "cell_type": "code",
      "metadata": {
        "id": "YNYeEqDYa_Hw"
      },
      "source": [
        ""
      ],
      "execution_count": null,
      "outputs": []
    },
    {
      "cell_type": "markdown",
      "metadata": {
        "id": "tCkMvSwwbI3H"
      },
      "source": [
        "Can we plot it?"
      ]
    },
    {
      "cell_type": "code",
      "metadata": {
        "id": "cr0SzU9WbKBW"
      },
      "source": [
        ""
      ],
      "execution_count": null,
      "outputs": []
    },
    {
      "cell_type": "markdown",
      "metadata": {
        "id": "EXteVdg6czQQ"
      },
      "source": [
        "What about only the most frequently used ones?"
      ]
    },
    {
      "cell_type": "code",
      "metadata": {
        "id": "Mqz1ozAKbYvG"
      },
      "source": [
        ""
      ],
      "execution_count": null,
      "outputs": []
    },
    {
      "cell_type": "markdown",
      "metadata": {
        "id": "1owyir8N2Vu5"
      },
      "source": [
        "# Lists and Dictionaries Examples\n",
        "\n"
      ]
    },
    {
      "cell_type": "markdown",
      "metadata": {
        "id": "ZaZ9EXVaRvdV"
      },
      "source": [
        "For the exercises below, there are three stages.\n",
        "\n",
        "1. Design the data structures you're going to use.\n",
        "2. Write the tests. (For now, we will only create one sample situation, though you're encouraged to write a more complete set of tests.)\n",
        "2. Implement the program."
      ]
    },
    {
      "cell_type": "markdown",
      "metadata": {
        "id": "k_OBiivEQRjt"
      },
      "source": [
        "## Splitting the Bill\n",
        "\n",
        "(This references the spreadsheet example with the same name from Week 1.)\n",
        "\n",
        "When eating out, sometimes the situation arises when we want to split the bill evenly amongst sub-groups of the people eating together. "
      ]
    },
    {
      "cell_type": "markdown",
      "metadata": {
        "id": "Ov-uD3Qg9jYI"
      },
      "source": [
        "## Gym Class Timetable\n",
        "\n",
        "Use lists and dictionaries to store the details of a gym class timetable.\n",
        "\n",
        "Also consider if there are different ways to store it which might make it easier to display to the user."
      ]
    },
    {
      "cell_type": "markdown",
      "metadata": {
        "id": "DrDu2oIX_YLD"
      },
      "source": [
        "## TV Show Chooser\n",
        "\n",
        "Housemates in a share house want a system to, based on their preferences of tv shows, and genres, choose the best tv show to watch for whichever combination of people are home at the time."
      ]
    },
    {
      "cell_type": "markdown",
      "metadata": {
        "id": "h7YI1WKq20s6"
      },
      "source": [
        "# Topics for later:\n",
        "List comprehension\n",
        "Tuples and Sets"
      ]
    },
    {
      "cell_type": "markdown",
      "metadata": {
        "id": "X1uFcCdDr-F2"
      },
      "source": [
        "# Feedback"
      ]
    },
    {
      "cell_type": "markdown",
      "metadata": {
        "id": "gVsDn4SRruXO"
      },
      "source": [
        "Lecture: 2.1 Python Introduction\n",
        "\n",
        "![](https://i.imgur.com/5FKvgmw.png)\n",
        "\n",
        "\n",
        "[Link to feedback form](https://forms.gle/NdAhw7ZMJ2eBEydd7)"
      ]
    }
  ]
}