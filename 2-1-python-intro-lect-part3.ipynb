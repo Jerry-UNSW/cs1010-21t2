{
  "nbformat": 4,
  "nbformat_minor": 0,
  "metadata": {
    "colab": {
      "name": "2-1-python-intro-lect-part3.ipynb",
      "provenance": [],
      "collapsed_sections": [
        "DbEnqaUnwfZp",
        "KhmKoARh8t28",
        "vOBvioy3WDO_",
        "CRQgX47vM5nU",
        "6uBUEwM2UaHc",
        "pVufceYcpugu",
        "clMhQF4k6wx-",
        "g-n6ohsr-2Z_",
        "2vG33InB4wPG",
        "RASu1vuRz8Bf",
        "TKpGsue7Mi2z",
        "qyzkVycOp7Cb",
        "o_7e49apRLPS",
        "693LDbk6uCQY",
        "MK7ri_tSt05T",
        "Dty2p3QOyP7V",
        "YkNbABqZcwVC",
        "4KXXnG4tfj35",
        "MZ9ug9b_DNs3",
        "obYBHYlwN0nl"
      ],
      "toc_visible": true,
      "include_colab_link": true
    },
    "kernelspec": {
      "name": "python3",
      "display_name": "Python 3"
    },
    "language_info": {
      "name": "python"
    }
  },
  "cells": [
    {
      "cell_type": "markdown",
      "metadata": {
        "id": "view-in-github",
        "colab_type": "text"
      },
      "source": [
        "<a href=\"https://colab.research.google.com/github/sim-mautner/cs1010-21t2/blob/main/2-1-python-intro-lect-part3.ipynb\" target=\"_parent\"><img src=\"https://colab.research.google.com/assets/colab-badge.svg\" alt=\"Open In Colab\"/></a>"
      ]
    },
    {
      "cell_type": "markdown",
      "metadata": {
        "id": "johv5jTzr1Vm"
      },
      "source": [
        "> Python Introduction<br>\n",
        "> COMP1010 2021 T2<br>\n",
        "> Week 2-3"
      ]
    },
    {
      "cell_type": "markdown",
      "metadata": {
        "id": "DzXUl3Ynf2A_"
      },
      "source": [
        "# Announcements\n",
        "\n",
        "* Same Zoom link from now on."
      ]
    },
    {
      "cell_type": "markdown",
      "metadata": {
        "id": "qi4uVP7WVrcL"
      },
      "source": [
        "This lecture starts right near the end of the Conditionals section over [here](#starting_point_cell)."
      ]
    },
    {
      "cell_type": "markdown",
      "metadata": {
        "id": "0368ktSurcTf"
      },
      "source": [
        "# Conditionals"
      ]
    },
    {
      "cell_type": "markdown",
      "metadata": {
        "id": "o_7e49apRLPS"
      },
      "source": [
        "## if\n",
        "\n",
        "```\n",
        "if condition:\n",
        "  code_to_execute_if_condition_is_true\n",
        "```\n",
        "\n",
        "\n",
        "\n",
        "What happens if the condition is `True`?"
      ]
    },
    {
      "cell_type": "code",
      "metadata": {
        "id": "ujDJWU7hrJTI"
      },
      "source": [
        ""
      ],
      "execution_count": null,
      "outputs": []
    },
    {
      "cell_type": "markdown",
      "metadata": {
        "id": "Ls5OhTbhr3gN"
      },
      "source": [
        "What happens if the condition is `False`?"
      ]
    },
    {
      "cell_type": "code",
      "metadata": {
        "id": "-3JVINAbr6YR"
      },
      "source": [
        ""
      ],
      "execution_count": null,
      "outputs": []
    },
    {
      "cell_type": "markdown",
      "metadata": {
        "id": "0rLJlS15s1TQ"
      },
      "source": [
        "Can we have multiple lines of code to execute?"
      ]
    },
    {
      "cell_type": "code",
      "metadata": {
        "id": "5GVhji6AtRmj"
      },
      "source": [
        ""
      ],
      "execution_count": null,
      "outputs": []
    },
    {
      "cell_type": "markdown",
      "metadata": {
        "id": "qSDrVBLHr8tU"
      },
      "source": [
        "Does the indentation matter?"
      ]
    },
    {
      "cell_type": "code",
      "metadata": {
        "id": "x6kpZjREtRW-"
      },
      "source": [
        ""
      ],
      "execution_count": null,
      "outputs": []
    },
    {
      "cell_type": "markdown",
      "metadata": {
        "id": "693LDbk6uCQY"
      },
      "source": [
        "## Testing Variables and Creating Conditions"
      ]
    },
    {
      "cell_type": "markdown",
      "metadata": {
        "id": "nt-AoOUruhyK"
      },
      "source": [
        "Can we create a variable with a boolean to test?\n",
        "\n",
        "* `not`"
      ]
    },
    {
      "cell_type": "code",
      "metadata": {
        "colab": {
          "base_uri": "https://localhost:8080/"
        },
        "id": "TTS8JF7uuoZp",
        "outputId": "5b1aaaed-906d-4f20-974e-304d8774980b"
      },
      "source": [
        ""
      ],
      "execution_count": null,
      "outputs": [
        {
          "output_type": "stream",
          "text": [
            "here\n"
          ],
          "name": "stdout"
        }
      ]
    },
    {
      "cell_type": "markdown",
      "metadata": {
        "id": "A-DTcDRpuoqG"
      },
      "source": [
        "Can we create an integer to test?\n",
        "\n",
        "* ==\n",
        "* !=\n",
        "* \\>\n",
        "* <\n",
        "* <=\n",
        "* \\>="
      ]
    },
    {
      "cell_type": "code",
      "metadata": {
        "id": "Kci8FX_juhX9"
      },
      "source": [
        ""
      ],
      "execution_count": null,
      "outputs": []
    },
    {
      "cell_type": "markdown",
      "metadata": {
        "id": "hh8PwWRmwLYH"
      },
      "source": [
        "Can we create a string to test?\n",
        "\n",
        "* ==\n",
        "* !="
      ]
    },
    {
      "cell_type": "code",
      "metadata": {
        "id": "bzgFtvsWwN4H"
      },
      "source": [
        "\n"
      ],
      "execution_count": null,
      "outputs": []
    },
    {
      "cell_type": "markdown",
      "metadata": {
        "id": "vL6uZVZjwt6d"
      },
      "source": [
        "What happens if we use > and < on strings?"
      ]
    },
    {
      "cell_type": "code",
      "metadata": {
        "id": "IO7URFOJww7b"
      },
      "source": [
        ""
      ],
      "execution_count": null,
      "outputs": []
    },
    {
      "cell_type": "markdown",
      "metadata": {
        "id": "MK7ri_tSt05T"
      },
      "source": [
        "## else\n",
        "\n",
        "```\n",
        "if condition:\n",
        "  code_if_true\n",
        "else:\n",
        "  code_if_false\n",
        "```\n",
        "\n"
      ]
    },
    {
      "cell_type": "markdown",
      "metadata": {
        "id": "Dty2p3QOyP7V"
      },
      "source": [
        "## elif\n",
        "\n",
        "```\n",
        "if condition:\n",
        "  code_if_true\n",
        "elif condition_2:\n",
        "  code_if_condition1_false_and_condition2_true \n",
        "else:\n",
        "  code_if_false\n",
        "```\n",
        "\n",
        "* You must have exactly one `if`.\n",
        "* You may have 0 or more (as many as you'd like) `elif`.\n",
        "* You may have 0 or 1 `else`.\n",
        "* The order matters. Both for `if`, `elif`, `else` and for the order of the `elif`s."
      ]
    },
    {
      "cell_type": "markdown",
      "metadata": {
        "id": "335MMrGxBpup"
      },
      "source": [
        "<a name='eg_ready_to_lecture_cell'></a>\n",
        "## Example: Getting Ready to Lecture Online\n",
        "\n",
        "Lecturing from home means that I have my bed in the background of my webcam. This means that each day, before I lecture, I prefer to make my bed.\n",
        "\n",
        "(a) Write some code which:\n",
        "1. Declares a boolean `bed_made` to be `True` or `False`.\n",
        "2. Depending on the value of `bed_made`, display \"Go make your bed.\" or \"Ready to lecture.\""
      ]
    },
    {
      "cell_type": "code",
      "metadata": {
        "id": "2kooY55xCCv4"
      },
      "source": [
        ""
      ],
      "execution_count": null,
      "outputs": []
    },
    {
      "cell_type": "markdown",
      "metadata": {
        "id": "-7TjfhgZCDD5"
      },
      "source": [
        "(Continuing from previous question...)\n",
        "\n",
        "(b) Some days, I'm running late and I don't have time to make my bed, and end up giving lectures even if my bed is still unmade.\n",
        "\n",
        "Copy the code from the previous question and:\n",
        "1. Add a boolean `on_time` to be `True` or `False`.\n",
        "2. Depending on the values of `bed_made` and `on_time` display \"Go make your bed.\", \"Ready to lecture.\" or \"No time to make your bed. Go lecture anyway.\""
      ]
    },
    {
      "cell_type": "code",
      "metadata": {
        "id": "sI6nSImnCh9I"
      },
      "source": [
        ""
      ],
      "execution_count": null,
      "outputs": []
    },
    {
      "cell_type": "markdown",
      "metadata": {
        "id": "bvqyuwoDCiU5"
      },
      "source": [
        "(c) Can you implement the above code in a different way? (Enter at least 4 different ways of implementing the code.)\n",
        "\n"
      ]
    },
    {
      "cell_type": "code",
      "metadata": {
        "id": "3EUy369TClD4"
      },
      "source": [
        ""
      ],
      "execution_count": null,
      "outputs": []
    },
    {
      "cell_type": "markdown",
      "metadata": {
        "id": "BnwzKHfrEXIh"
      },
      "source": [
        "**A note about plagiarism in writing computer programs.**"
      ]
    },
    {
      "cell_type": "markdown",
      "metadata": {
        "id": "QTO1tK_dCzWE"
      },
      "source": [
        "<a name='starting_point_cell'></a>\n",
        "(d) Implement the above code, but take into consideration that I also like to have a water bottle on my desk before I start lecturing.\n",
        "\n",
        "The outputs are now:\n",
        "* No time to get ready. Start lecturing now.\n",
        "* Ready to lecture.\n",
        "* Get your water bottle.\n",
        "* Go make your bed."
      ]
    },
    {
      "cell_type": "code",
      "metadata": {
        "id": "bdpdieZYrAIz",
        "colab": {
          "base_uri": "https://localhost:8080/"
        },
        "outputId": "2a14d8b8-a80b-45b3-a369-e81cd15ab2ed"
      },
      "source": [
        "bed_made = False\n",
        "on_time = True\n",
        "has_water = False\n",
        "\n",
        "if bed_made and has_water:\n",
        "  print(\"Ready to lecture.\")\n",
        "elif not(bed_made) and not(has_water) and on_time:\n",
        "  print(\"Go make your bed and get your water bottle.\")\n",
        "elif not(bed_made) and on_time:\n",
        "  print(\"Go make your bed.\")\n",
        "elif not(has_water) and on_time:\n",
        "  print(\"Get your water bottle.\")\n",
        "else:\n",
        "  print(\"No time to get ready. Start lecturing now.\")"
      ],
      "execution_count": 5,
      "outputs": [
        {
          "output_type": "stream",
          "text": [
            "Go make your bed and get your water bottle.\n"
          ],
          "name": "stdout"
        }
      ]
    },
    {
      "cell_type": "markdown",
      "metadata": {
        "id": "naQaIHEni1WC"
      },
      "source": [
        "```\n",
        "bed_made, on_time, has_water\n",
        "\n",
        "T, T, T\n",
        "T, T, F\n",
        "T, F, T\n",
        "T, F, F\n",
        "F, T, T\n",
        "F, T, F\n",
        "F, F, T\n",
        "F, F, F\n",
        "```\n",
        "\n"
      ]
    },
    {
      "cell_type": "markdown",
      "metadata": {
        "id": "2Z8Sqb-WYkEI"
      },
      "source": [
        "### Obfuscation\n",
        "\n",
        "Solve the problem described in this text.\n",
        "\n",
        "> Oh no, somaona hes dona somathing tarribla to my writing. Thay'va sweppad eround tha lattar 'e' end tha lattar 'a'"
      ]
    },
    {
      "cell_type": "code",
      "metadata": {
        "colab": {
          "base_uri": "https://localhost:8080/"
        },
        "id": "DZ90CgWbjlE-",
        "outputId": "38ea0a75-1f6a-4fae-8f8a-7e452c664161"
      },
      "source": [
        "obfuscated_string = \"Oh no, somaona hes dona somathing tarribla to my writing. Thay'va sweppad eround tha lattar 'e' end tha lattar 'a'\"\n",
        "obfuscated_string = obfuscated_string.replace('e', '$') # save all the e's into $\n",
        "obfuscated_string = obfuscated_string.replace('a', 'e') # replace all a's with e's\n",
        "obfuscated_string = obfuscated_string.replace('$', 'a') # replace all the $ with a's\n",
        "print(obfuscated_string)"
      ],
      "execution_count": 9,
      "outputs": [
        {
          "output_type": "stream",
          "text": [
            "Oh no, someone has done something terrible to my writing. They've swapped around the letter 'a' and the letter 'e'\n"
          ],
          "name": "stdout"
        }
      ]
    },
    {
      "cell_type": "markdown",
      "metadata": {
        "id": "Dq6fWE4oY9_P"
      },
      "source": [
        "# User Text Input\n",
        "\n",
        "* Get input from the user:\n",
        "`input()`\n",
        "* Put a prompt telling the user what they should be entering:\n",
        "`input(prompt)`\n",
        "* Save what the user inputs:\n",
        "`variable = input()`"
      ]
    },
    {
      "cell_type": "code",
      "metadata": {
        "id": "z-8NF2xdZCub",
        "colab": {
          "base_uri": "https://localhost:8080/",
          "height": 53
        },
        "outputId": "e20d6825-12ba-4c46-f784-a2fe725783a6"
      },
      "source": [
        "input()"
      ],
      "execution_count": 10,
      "outputs": [
        {
          "output_type": "stream",
          "text": [
            "hello\n"
          ],
          "name": "stdout"
        },
        {
          "output_type": "execute_result",
          "data": {
            "application/vnd.google.colaboratory.intrinsic+json": {
              "type": "string"
            },
            "text/plain": [
              "'hello'"
            ]
          },
          "metadata": {
            "tags": []
          },
          "execution_count": 10
        }
      ]
    },
    {
      "cell_type": "code",
      "metadata": {
        "id": "EAwF-3-DAaQo",
        "colab": {
          "base_uri": "https://localhost:8080/",
          "height": 53
        },
        "outputId": "8aed330e-5efd-42f7-aadf-a2fb848322ce"
      },
      "source": [
        "input(\"What's your name? \")"
      ],
      "execution_count": 11,
      "outputs": [
        {
          "output_type": "stream",
          "text": [
            "What's your name? Sim\n"
          ],
          "name": "stdout"
        },
        {
          "output_type": "execute_result",
          "data": {
            "application/vnd.google.colaboratory.intrinsic+json": {
              "type": "string"
            },
            "text/plain": [
              "'Sim'"
            ]
          },
          "metadata": {
            "tags": []
          },
          "execution_count": 11
        }
      ]
    },
    {
      "cell_type": "code",
      "metadata": {
        "colab": {
          "base_uri": "https://localhost:8080/"
        },
        "id": "yPsJ7C0xk5cs",
        "outputId": "e6adb6ae-c5c0-4ca6-9019-8557b33f0815"
      },
      "source": [
        "name = input(\"What's your name? \")"
      ],
      "execution_count": 13,
      "outputs": [
        {
          "output_type": "stream",
          "text": [
            "What's your name? Sim.\n"
          ],
          "name": "stdout"
        }
      ]
    },
    {
      "cell_type": "markdown",
      "metadata": {
        "id": "fvKZYreWZcrQ"
      },
      "source": [
        "Write some code which asks the user for their name. If they enter \"Sim\", then say \"Hello Sim\". If they enter any other name, say \"Goodbye\"."
      ]
    },
    {
      "cell_type": "code",
      "metadata": {
        "id": "50fqNw9xBBGI",
        "colab": {
          "base_uri": "https://localhost:8080/"
        },
        "outputId": "6c944df8-c125-45bb-aad2-26b07d3030ae"
      },
      "source": [
        "name = input(\"What's your name? \")\n",
        "if name == \"Sim\":\n",
        "  print(\"Hello Sim.\")\n",
        "else:\n",
        "  print(\"Goodbye.\")"
      ],
      "execution_count": 16,
      "outputs": [
        {
          "output_type": "stream",
          "text": [
            "What's your name? Kai\n",
            "Goodbye.\n"
          ],
          "name": "stdout"
        }
      ]
    },
    {
      "cell_type": "markdown",
      "metadata": {
        "id": "mBrpzl21BBZ_"
      },
      "source": [
        "Write some code which asks the user for their name. If they enter one word (no spaces) display \"Hello \\<name\\>\". If they enter more than one word, display \"Goodbye\"."
      ]
    },
    {
      "cell_type": "code",
      "metadata": {
        "id": "I1aiz-OUBQqO"
      },
      "source": [
        "name = input(\"What's your name? \")\n",
        "if name.count(' ') > 0:\n",
        "  print(\"Goodbye.\")\n",
        "else:\n",
        "  print(\"Hello \" + name)"
      ],
      "execution_count": null,
      "outputs": []
    },
    {
      "cell_type": "code",
      "metadata": {
        "colab": {
          "base_uri": "https://localhost:8080/"
        },
        "id": "XMWkmLZklhiS",
        "outputId": "4d592db4-ed23-4275-82c6-7b022b2f5375"
      },
      "source": [
        "name = input(\"What's your name? \")\n",
        "if ' ' in name:\n",
        "  print(\"Goodbye\")\n",
        "else:\n",
        "  print(\"Hello \" + name)\n"
      ],
      "execution_count": 18,
      "outputs": [
        {
          "output_type": "stream",
          "text": [
            "What's your name? Sim\n",
            "Hello Sim\n"
          ],
          "name": "stdout"
        }
      ]
    },
    {
      "cell_type": "markdown",
      "metadata": {
        "id": "Gle9bA2XwlK-"
      },
      "source": [
        "Example: Password Evaluator\n",
        "<a name='eg_password_evaluator_cell'></a>\n",
        "\n",
        "Write some code which asks the user to suggest a password, and then displays:\n",
        "* \"Strong\" if the password is 12 or more characters, and contains both upper and lower case characters\n",
        "* \"Weak\" if the password satisfies only one of the above conditions\n",
        "* \"Very weak\" if the password satisfies neither of the above conditions."
      ]
    },
    {
      "cell_type": "code",
      "metadata": {
        "id": "59M-Wcf1wrVJ",
        "colab": {
          "base_uri": "https://localhost:8080/"
        },
        "outputId": "0558d371-253a-40d8-a510-5c5ca6722eef"
      },
      "source": [
        "password = input(\"Enter a password: \")\n",
        "if len(password) >= 12 and not(password.islower()) and not(password.isupper()):\n",
        "  print(\"Strong\")\n",
        "elif len(password) >= 12 or (not(password.islower()) and not(password.isupper())):\n",
        "  print(\"Weak\")\n",
        "else:\n",
        "  print(\"Very weak\")"
      ],
      "execution_count": 23,
      "outputs": [
        {
          "output_type": "stream",
          "text": [
            "Enter a password: 121212121212121212121\n",
            "Strong\n"
          ],
          "name": "stdout"
        }
      ]
    },
    {
      "cell_type": "markdown",
      "metadata": {
        "id": "B7wcaqzfnBUd"
      },
      "source": [
        "Improve this so that it covers cases such as:\n",
        "* all numbers\n",
        "* all special case characters\n",
        "* all the same characters (aAaA)"
      ]
    },
    {
      "cell_type": "markdown",
      "metadata": {
        "id": "YkNbABqZcwVC"
      },
      "source": [
        "# Loops"
      ]
    },
    {
      "cell_type": "markdown",
      "metadata": {
        "id": "-4TeqaL8CRM9"
      },
      "source": [
        "## While Loops\n",
        "\n",
        "```\n",
        "while condition:\n",
        "  code_to_execute_while_condition_is_true\n",
        "```\n",
        "\n",
        "Following on from the [password evaluator](#eg_password_evaluator_cell) example, what happens if the user enters a password which doesn't satisfy the requirements? Can we ask them to keep entering passwords until they choose a \"strong\" password?"
      ]
    },
    {
      "cell_type": "code",
      "metadata": {
        "id": "GEpm1mgveFOJ"
      },
      "source": [
        "password = input(\"Enter a password: \")\n",
        "if len(password) >= 12 and not(password.islower()) and not(password.isupper()):\n",
        "  print(\"Strong\")\n",
        "else:\n",
        "  if len(password) >= 12 or (not(password.islower()) and not(password.isupper())):\n",
        "    print(\"Weak\")\n",
        "  else:\n",
        "    print(\"Very weak\")\n",
        "  password = input(\"Enter a password: \")\n",
        "  if len(password) >= 12 and not(password.islower()) and not(password.isupper()):\n",
        "    print(\"Strong\")\n",
        "  else:\n",
        "    if len(password) >= 12 or (not(password.islower()) and not(password.isupper())):\n",
        "      print(\"Weak\")\n",
        "    else:\n",
        "      print(\"Very weak\")\n",
        "    password = input(\"Enter a password: \")\n",
        "    if len(password) >= 12 and not(password.islower()) and not(password.isupper()):\n",
        "      print(\"Strong\")\n",
        "    else:\n",
        "      if len(password) >= 12 or (not(password.islower()) and not(password.isupper())):\n",
        "        print(\"Weak\")\n",
        "      else:\n",
        "        print(\"Very weak\")"
      ],
      "execution_count": null,
      "outputs": []
    },
    {
      "cell_type": "markdown",
      "metadata": {
        "id": "qK27eu5W59Xl"
      },
      "source": [
        "Is there a better way to do this?\n",
        "\n",
        "In short, we want to keep doing the same thing over and over again, until a condition is met.\n",
        "\n",
        "> Demo:\n",
        "> * Control flow in loops in general\n",
        "> * Control flow in this example\n",
        "\n"
      ]
    },
    {
      "cell_type": "code",
      "metadata": {
        "id": "WN_9P0QF6G3T"
      },
      "source": [
        "while --------- :\n",
        "  # do this\n",
        "  # then that\n",
        "  # then this\n",
        "# once the condition is no longer true, we do this."
      ],
      "execution_count": null,
      "outputs": []
    },
    {
      "cell_type": "code",
      "metadata": {
        "colab": {
          "base_uri": "https://localhost:8080/"
        },
        "id": "WpnhDYX3ohb9",
        "outputId": "68c086d5-ca22-4d88-fe29-30ca1516a5b2"
      },
      "source": [
        "password = input(\"Enter a password: \")\n",
        "while not(len(password) >= 12 and not(password.islower()) and not(password.isupper())):\n",
        "\n",
        "  if len(password) < 12:\n",
        "    print(\"Please enter a password at least 12 characters long.\")\n",
        "  if password.islower() or password.isupper():\n",
        "    print(\"Please enter a password with both upper and lowercase characters.\")\n",
        "\n",
        "  password = input(\"Enter a password: \")\n",
        "\n",
        "print(\"Thank you for entering a strong password.\")"
      ],
      "execution_count": 26,
      "outputs": [
        {
          "output_type": "stream",
          "text": [
            "Enter a password: hello\n",
            "Please enter a password at least 12 characters long.\n",
            "Please enter a password with both upper and lowercase characters.\n",
            "Enter a password: hellohellohello\n",
            "Please enter a password with both upper and lowercase characters.\n",
            "Enter a password: okAY I will DO THAT THEN!!\n",
            "Thank you for entering a strong password.\n"
          ],
          "name": "stdout"
        }
      ]
    },
    {
      "cell_type": "code",
      "metadata": {
        "id": "kiXGDlFGpmaQ"
      },
      "source": [
        "# What if it's never false?\n",
        "\n",
        "while True:\n",
        "  print(\"What if it's never false?\")"
      ],
      "execution_count": 28,
      "outputs": []
    },
    {
      "cell_type": "markdown",
      "metadata": {
        "id": "4KXXnG4tfj35"
      },
      "source": [
        "<a name='eg_square_numbers_cell'></a>\n",
        "### Example: Square Numbers\n",
        "\n",
        "> Demo:\n",
        "> * What are square numbers? How do we calculate them?\n",
        "> * How do we write this code?\n",
        "\n",
        "Write some code which takes in a number from the user, and prints out the numbers from 1 up to that number, and the squares of those numbers.\n",
        "\n",
        "```\n",
        "Enter a number: 5\n",
        "\n",
        "1 1\n",
        "2 4\n",
        "3 9\n",
        "4 16\n",
        "```"
      ]
    },
    {
      "cell_type": "markdown",
      "metadata": {
        "id": "2F2n0TwUp-wL"
      },
      "source": [
        "\n",
        "\n",
        "```\n",
        "*\n",
        "\n",
        "* *\n",
        "* *\n",
        "\n",
        "* * *\n",
        "* * *\n",
        "* * *\n",
        "\n",
        "```\n",
        "\n"
      ]
    },
    {
      "cell_type": "code",
      "metadata": {
        "id": "rWytniVuDNXz",
        "colab": {
          "base_uri": "https://localhost:8080/"
        },
        "outputId": "e0f86cb2-eeee-435c-b3dc-0355844a6465"
      },
      "source": [
        "num_requested = int(input(\"Enter a number: \"))\n",
        "\n",
        "num_up_to = 1\n",
        "while num_up_to < num_requested:\n",
        "  # Display one more line\n",
        "  print(f\"{num_up_to} {num_up_to*num_up_to}\")\n",
        "  # Another way: print(f\"{num_up_to} {num_up_to**2}\")\n",
        "\n",
        "  # Don't forget to update the condition!!!!\n",
        "  num_up_to = num_up_to + 1\n"
      ],
      "execution_count": 33,
      "outputs": [
        {
          "output_type": "stream",
          "text": [
            "Enter a number: 20\n",
            "1 1\n",
            "2 4\n",
            "3 9\n",
            "4 16\n",
            "5 25\n",
            "6 36\n",
            "7 49\n",
            "8 64\n",
            "9 81\n",
            "10 100\n",
            "11 121\n",
            "12 144\n",
            "13 169\n",
            "14 196\n",
            "15 225\n",
            "16 256\n",
            "17 289\n",
            "18 324\n",
            "19 361\n"
          ],
          "name": "stdout"
        }
      ]
    },
    {
      "cell_type": "markdown",
      "metadata": {
        "id": "MZ9ug9b_DNs3"
      },
      "source": [
        "<a name='eg_triangular_numbers_cell'></a>\n",
        "### Example: Triangular Numbers\n",
        "\n",
        "> Demo:\n",
        "> * What are triangular numbers? How do we calculate them? (This is more of an aside.)\n",
        "> * How do we write this code?\n",
        "\n",
        "Write some code which takes in a number from the user, and prints out the sum of the numbers from 1 up to and including that number. (ie 3 --> 1+2+3 = 6)\n",
        "\n",
        "```\n",
        "Enter a number: 3\n",
        "\n",
        "6\n",
        "```"
      ]
    },
    {
      "cell_type": "markdown",
      "metadata": {
        "id": "pp8F7Nb8rWgm"
      },
      "source": [
        "\n",
        "\n",
        "```\n",
        "*\n",
        "0 + 1\n",
        "\n",
        "*\n",
        "* *\n",
        "0 + 1 + 2 = 3\n",
        "\n",
        "*\n",
        "* *\n",
        "* * *\n",
        "0 + 1 + 2 + 3 = 6\n",
        "\n",
        "*\n",
        "* *\n",
        "* * *\n",
        "* * * *\n",
        "0 + 1 + 2 + 3 + 4 = 10\n",
        "```\n",
        "\n"
      ]
    },
    {
      "cell_type": "code",
      "metadata": {
        "id": "xc7A6Pp9JApm",
        "colab": {
          "base_uri": "https://localhost:8080/"
        },
        "outputId": "adc454c0-4dc8-4970-a6f2-a5493b34e5ac"
      },
      "source": [
        "num_requested = int(input(\"Enter a number: \"))\n",
        "num_up_to = 1\n",
        "total = 0\n",
        "\n",
        "while num_up_to <= num_requested:\n",
        "  total = total + num_up_to\n",
        "  num_up_to = num_up_to + 1\n",
        "\n",
        "print(f\"The {num_requested}th triangular number is {total}.\")\n",
        "print(\"The \" + str(num_requested) + \"th triangular number is \" + str(total))\n"
      ],
      "execution_count": 44,
      "outputs": [
        {
          "output_type": "stream",
          "text": [
            "Enter a number: 4\n",
            "The 4th triangular number is 10.\n"
          ],
          "name": "stdout"
        }
      ]
    },
    {
      "cell_type": "markdown",
      "metadata": {
        "id": "JzxjAnfeuCho"
      },
      "source": [
        "End of first hour"
      ]
    },
    {
      "cell_type": "markdown",
      "metadata": {
        "id": "32MS8qvuDklj"
      },
      "source": [
        "## For Loops\n",
        "\n",
        "```\n",
        "for ... in ...:\n",
        "  code_to_execute_on_each_value\n",
        "```"
      ]
    },
    {
      "cell_type": "markdown",
      "metadata": {
        "id": "o2g7udMkDpMd"
      },
      "source": [
        "Redo the [square numbers](#eg_square_numbers_cell) example and the [triangular numbers](#eg_triangular_numbers_cell) example using for loops instead of while loops."
      ]
    },
    {
      "cell_type": "code",
      "metadata": {
        "colab": {
          "base_uri": "https://localhost:8080/"
        },
        "id": "bQcfV_wJxXiA",
        "outputId": "91b211e5-3662-4389-cb99-57bf934e4789"
      },
      "source": [
        "for i in range(5):\n",
        "  print(i)"
      ],
      "execution_count": 45,
      "outputs": [
        {
          "output_type": "stream",
          "text": [
            "0\n",
            "1\n",
            "2\n",
            "3\n",
            "4\n"
          ],
          "name": "stdout"
        }
      ]
    },
    {
      "cell_type": "code",
      "metadata": {
        "colab": {
          "base_uri": "https://localhost:8080/"
        },
        "id": "ippH1hVGyHF0",
        "outputId": "212d97d5-f05a-4e30-d7e4-aba81ea4860e"
      },
      "source": [
        "print(range(5))"
      ],
      "execution_count": 50,
      "outputs": [
        {
          "output_type": "stream",
          "text": [
            "range(0, 5)\n"
          ],
          "name": "stdout"
        }
      ]
    },
    {
      "cell_type": "code",
      "metadata": {
        "colab": {
          "base_uri": "https://localhost:8080/"
        },
        "id": "3EX0nfppyZTD",
        "outputId": "854e8129-04ca-42cb-beff-528ec439c27e"
      },
      "source": [
        "print(range(1,5,1))"
      ],
      "execution_count": 53,
      "outputs": [
        {
          "output_type": "stream",
          "text": [
            "range(1, 5, 2)\n"
          ],
          "name": "stdout"
        }
      ]
    },
    {
      "cell_type": "code",
      "metadata": {
        "colab": {
          "base_uri": "https://localhost:8080/"
        },
        "id": "No1jnhVGyfe8",
        "outputId": "d8fca3f7-be8f-4820-d995-46262cf16934"
      },
      "source": [
        "for i in range(1,10,2):\n",
        "  print(i)"
      ],
      "execution_count": 54,
      "outputs": [
        {
          "output_type": "stream",
          "text": [
            "1\n",
            "3\n",
            "5\n",
            "7\n",
            "9\n"
          ],
          "name": "stdout"
        }
      ]
    },
    {
      "cell_type": "code",
      "metadata": {
        "id": "LxAjyoYFDv3z",
        "colab": {
          "base_uri": "https://localhost:8080/"
        },
        "outputId": "4cad621a-8236-442c-e920-bc2d29417dfd"
      },
      "source": [
        "num_requested = int(input(\"Enter a number: \"))\n",
        "\n",
        "for i in range(num_requested-1):\n",
        "  num_up_to = i+1\n",
        "  # Display one more line\n",
        "  print(f\"{num_up_to} {num_up_to*num_up_to}\")\n",
        "  # Another way: print(f\"{num_up_to} {num_up_to**2}\")\n",
        "\n",
        "  # Don't forget to update the condition!!!!\n",
        "  num_up_to = num_up_to + 1"
      ],
      "execution_count": 48,
      "outputs": [
        {
          "output_type": "stream",
          "text": [
            "Enter a number: 5\n",
            "1 1\n",
            "2 4\n",
            "3 9\n",
            "4 16\n"
          ],
          "name": "stdout"
        }
      ]
    },
    {
      "cell_type": "code",
      "metadata": {
        "id": "H2AVVV3ZDwKE",
        "colab": {
          "base_uri": "https://localhost:8080/"
        },
        "outputId": "f5e0ac34-220e-4cc5-e39f-f4549b676d9e"
      },
      "source": [
        "num_requested = int(input(\"Enter a number: \"))\n",
        "num_up_to = 1\n",
        "total = 0\n",
        "\n",
        "for i in range(num_requested):\n",
        "  num_up_to = i+1\n",
        "  total = total + num_up_to\n",
        "\n",
        "print(f\"The {num_requested}th triangular number is {total}.\")\n",
        "print(\"The \" + str(num_requested) + \"th triangular number is \" + str(total) + \".\")"
      ],
      "execution_count": 49,
      "outputs": [
        {
          "output_type": "stream",
          "text": [
            "Enter a number: 3\n",
            "The 3th triangular number is 6.\n",
            "The 3th triangular number is 6\n"
          ],
          "name": "stdout"
        }
      ]
    },
    {
      "cell_type": "markdown",
      "metadata": {
        "id": "obYBHYlwN0nl"
      },
      "source": [
        "### Example: Strings - one letter at a time.\n",
        "\n",
        "Write some code which prints out the letters of a string one at a time."
      ]
    },
    {
      "cell_type": "code",
      "metadata": {
        "id": "ftJ3bHMyOLk-"
      },
      "source": [
        "# Using a counter to access individual elements (while loop or for loop)"
      ],
      "execution_count": null,
      "outputs": []
    },
    {
      "cell_type": "code",
      "metadata": {
        "colab": {
          "base_uri": "https://localhost:8080/"
        },
        "id": "yD7VRnZrysYN",
        "outputId": "879ea30f-9145-40b7-a05d-3edf7469c139"
      },
      "source": [
        "my_string = \"Thinking about lunch...\"\n",
        "\n",
        "# print(my_string[0])\n",
        "# print(my_string[1])\n",
        "# print(my_string[2])\n",
        "\n",
        "i = 0\n",
        "while i < len(my_string):\n",
        "  print(my_string[i], end=\"\") # end=\"\" tells print to not put a newline '\\n' character at the end of the line\n",
        "  i = i + 1"
      ],
      "execution_count": 59,
      "outputs": [
        {
          "output_type": "stream",
          "text": [
            "Thinking about lunch..."
          ],
          "name": "stdout"
        }
      ]
    },
    {
      "cell_type": "code",
      "metadata": {
        "colab": {
          "base_uri": "https://localhost:8080/"
        },
        "id": "dxMWdPOLztIO",
        "outputId": "abc41f95-eec9-47b8-c0fc-0d912df1e31e"
      },
      "source": [
        "for i in range(len(my_string)):\n",
        "  print(my_string[i], end=\"\")"
      ],
      "execution_count": 60,
      "outputs": [
        {
          "output_type": "stream",
          "text": [
            "Thinking about lunch..."
          ],
          "name": "stdout"
        }
      ]
    },
    {
      "cell_type": "code",
      "metadata": {
        "id": "jq4lduglOOQt"
      },
      "source": [
        "# Using the features of a string as an iterator (for loop)"
      ],
      "execution_count": null,
      "outputs": []
    },
    {
      "cell_type": "code",
      "metadata": {
        "colab": {
          "base_uri": "https://localhost:8080/"
        },
        "id": "qTWrLXh9z0nu",
        "outputId": "2ef36f73-a1e1-4ec8-d88c-98cbcd982438"
      },
      "source": [
        "for character in my_string:\n",
        "  print(character, end=\"\")"
      ],
      "execution_count": 61,
      "outputs": [
        {
          "output_type": "stream",
          "text": [
            "Thinking about lunch..."
          ],
          "name": "stdout"
        }
      ]
    },
    {
      "cell_type": "markdown",
      "metadata": {
        "id": "CETsJRCCYufZ"
      },
      "source": [
        "### Obfuscation\n",
        "\n",
        "Is there another way to solve this problem?\n",
        "\n",
        "> Oh no, somaona hes dona somathing tarribla to my writing. Thay'va sweppad eround tha lattar 'e' end tha lattar 'a'"
      ]
    },
    {
      "cell_type": "code",
      "metadata": {
        "colab": {
          "base_uri": "https://localhost:8080/"
        },
        "id": "zZ7hRyq2YzN-",
        "outputId": "4dee5ac3-d804-4450-dc29-97278ce1556f"
      },
      "source": [
        "obfuscated_string = \"Oh no, somaona hes dona somathing tarribla to my writing. Thay'va sweppad eround tha lattar 'e' end tha lattar 'a'\"\n",
        "\n",
        "decoded_string = \"\"\n",
        "for character in obfuscated_string:\n",
        "  if character == 'a':\n",
        "    decoded_string = decoded_string + 'e'\n",
        "  elif character == 'e':\n",
        "    decoded_string = decoded_string + 'a'\n",
        "  else:\n",
        "    decoded_string = decoded_string + character\n",
        "\n",
        "print(decoded_string)"
      ],
      "execution_count": 63,
      "outputs": [
        {
          "output_type": "stream",
          "text": [
            "Oh no, someone has done something terrible to my writing. They've swapped around the letter 'a' and the letter 'e'\n"
          ],
          "name": "stdout"
        }
      ]
    },
    {
      "cell_type": "markdown",
      "metadata": {
        "id": "6bFZtlVK567M"
      },
      "source": [
        "## A warning about loops\n",
        "\n",
        "Changing a list (or other collection), while looping over it, can cause unwanted results."
      ]
    },
    {
      "cell_type": "code",
      "metadata": {
        "id": "cRMvNKmA6PDy"
      },
      "source": [
        "# Skipping this for now. It'll come up later."
      ],
      "execution_count": null,
      "outputs": []
    },
    {
      "cell_type": "markdown",
      "metadata": {
        "id": "Dsm5N-CGLh7S"
      },
      "source": [
        "# Bringing it all together\n",
        "\n",
        "Example: Guess my number\n",
        "\n",
        "Write a program (piece of python code) which:\n",
        "1. Asks the user to choose a number between 1 and 100 (but not enter it).\n",
        "2. The program then guesses the user's number, and asks if the user's number is higher or lower than their guess.\n",
        "3. The user then enters `H` for higher, `L` for lower or `C` for correct, depending on whether or not the program has guessed their number.\n",
        "4. The program keeps repeating steps 2 and 3 until it manages to guess the number."
      ]
    },
    {
      "cell_type": "code",
      "metadata": {
        "colab": {
          "base_uri": "https://localhost:8080/"
        },
        "id": "xDmUBveg3Puk",
        "outputId": "c1bd7a01-0700-4955-dcb4-ebd83d00eb33"
      },
      "source": [
        "my_str = \"hello\"\n",
        "print(f\"The first character is: {my_str[0]}\")\n",
        "print(f\"The second character is: {my_str[1]}\")"
      ],
      "execution_count": 65,
      "outputs": [
        {
          "output_type": "stream",
          "text": [
            "The first character is: h\n",
            "The second character is: e\n"
          ],
          "name": "stdout"
        }
      ]
    },
    {
      "cell_type": "code",
      "metadata": {
        "id": "uXw-qkGuRAdp",
        "colab": {
          "base_uri": "https://localhost:8080/"
        },
        "outputId": "72045462-2971-4fdf-fbb0-c80d9fc3ff42"
      },
      "source": [
        "print(\"Choose a number between 1 and 100.\")\n",
        "low = 1\n",
        "high = 100\n",
        "answer = ''\n",
        "\n",
        "while answer != 'C': # != means \"is not equal to\"\n",
        "  guess = round((low + high)/2) # Rounds the number to the nearest integer.\n",
        "\n",
        "  # Get input from user. Check that it's at least one character long.\n",
        "  answer_string = input(f\"Is your number {guess}? (H, L, C) \")\n",
        "  while len(answer_string) < 1:\n",
        "    answer_string = input(f\"Is your number {guess}? (H, L, C) \")\n",
        "  answer = answer_string[0]\n",
        "\n",
        "  # Update our low/high\n",
        "  if answer == 'H':\n",
        "    low = guess + 1\n",
        "  elif answer == 'L':\n",
        "    high = guess - 1\n",
        "  elif answer != 'C':\n",
        "    print(\"Dude!! Enter H, L or C!!\")\n",
        "\n",
        "print(\"Wow, I'm awesome!! I guessed it!!\")\n",
        "\n"
      ],
      "execution_count": 70,
      "outputs": [
        {
          "output_type": "stream",
          "text": [
            "Choose a number between 1 and 100.\n",
            "Is your number 50? (H, L, C) L\n",
            "Is your number 25? (H, L, C) H\n",
            "Is your number 38? (H, L, C) H\n",
            "Is your number 44? (H, L, C) L\n",
            "Is your number 41? (H, L, C) H\n",
            "Is your number 42? (H, L, C) C\n",
            "Wow, I'm awesome!! I guessed it!!\n"
          ],
          "name": "stdout"
        }
      ]
    },
    {
      "cell_type": "markdown",
      "metadata": {
        "id": "X1uFcCdDr-F2"
      },
      "source": [
        "# Feedback"
      ]
    },
    {
      "cell_type": "markdown",
      "metadata": {
        "id": "gVsDn4SRruXO"
      },
      "source": [
        "Lecture: 2.1 Python Introduction - part 3 Week 2 Wednesday\n",
        "\n",
        "![](https://i.imgur.com/5FKvgmw.png)\n",
        "\n",
        "\n",
        "[Link to feedback form](https://forms.gle/NdAhw7ZMJ2eBEydd7)"
      ]
    }
  ]
}