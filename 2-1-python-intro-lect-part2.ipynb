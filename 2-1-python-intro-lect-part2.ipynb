{
  "nbformat": 4,
  "nbformat_minor": 0,
  "metadata": {
    "colab": {
      "name": "2-1-python-intro-lect-part2.ipynb",
      "provenance": [],
      "collapsed_sections": [
        "DbEnqaUnwfZp",
        "KhmKoARh8t28",
        "vOBvioy3WDO_",
        "CRQgX47vM5nU",
        "6uBUEwM2UaHc",
        "pVufceYcpugu",
        "clMhQF4k6wx-",
        "g-n6ohsr-2Z_",
        "2vG33InB4wPG",
        "RASu1vuRz8Bf",
        "TKpGsue7Mi2z",
        "qyzkVycOp7Cb",
        "o_7e49apRLPS",
        "693LDbk6uCQY",
        "MK7ri_tSt05T",
        "Dty2p3QOyP7V",
        "YkNbABqZcwVC",
        "4KXXnG4tfj35",
        "MZ9ug9b_DNs3",
        "obYBHYlwN0nl"
      ],
      "toc_visible": true,
      "include_colab_link": true
    },
    "kernelspec": {
      "name": "python3",
      "display_name": "Python 3"
    },
    "language_info": {
      "name": "python"
    }
  },
  "cells": [
    {
      "cell_type": "markdown",
      "metadata": {
        "id": "view-in-github",
        "colab_type": "text"
      },
      "source": [
        "<a href=\"https://colab.research.google.com/github/sim-mautner/cs1010-21t2/blob/main/2-1-python-intro-lect-part2.ipynb\" target=\"_parent\"><img src=\"https://colab.research.google.com/assets/colab-badge.svg\" alt=\"Open In Colab\"/></a>"
      ]
    },
    {
      "cell_type": "markdown",
      "metadata": {
        "id": "johv5jTzr1Vm"
      },
      "source": [
        "> Python Introduction<br>\n",
        "> COMP1010 2021 T2<br>\n",
        "> Week 2-3"
      ]
    },
    {
      "cell_type": "markdown",
      "metadata": {
        "id": "oyucLDw3O-4z"
      },
      "source": [
        "# Announcements\n",
        "\n",
        "* Lectures are now available on Echo360.\n",
        "* Colab document reload problem. (Description and solution on the forum.)\n",
        "* Tutorial and lab work for this week has now been released.\n",
        "* Reminder to please post questions on the forum:\n",
        "  * Quicker replies as tutors can answer too.\n",
        "  * You can post so other students don't see your name (anonymously).\n",
        "  * You can post so only staff see your post (private).\n",
        "  * Then I don't have to answer all the questions (as tutors can answer too).\n",
        "  * Then I don't have to answer questions repeatedly, as all the students can see my answer the first time I write it.\n",
        "* How do I post on the forum? [Here!! :)](https://edstem.org/courses/5953/discussion/)"
      ]
    },
    {
      "cell_type": "markdown",
      "metadata": {
        "id": "UnEB3_T8PP5h"
      },
      "source": [
        "# Recap"
      ]
    },
    {
      "cell_type": "markdown",
      "metadata": {
        "id": "6uBUEwM2UaHc"
      },
      "source": [
        "## Back to Strings"
      ]
    },
    {
      "cell_type": "markdown",
      "metadata": {
        "id": "uasiOS9wUdNL"
      },
      "source": [
        "Can we extract parts of strings?"
      ]
    },
    {
      "cell_type": "code",
      "metadata": {
        "id": "2mMKFhcbUgKb",
        "colab": {
          "base_uri": "https://localhost:8080/",
          "height": 35
        },
        "outputId": "cb37dd61-6f0a-453d-be87-46ad961f84fd"
      },
      "source": [
        "sentence = \"The quick brown fox jumped over the lazy dogs.\"\n",
        "sentence[5:15]"
      ],
      "execution_count": 2,
      "outputs": [
        {
          "output_type": "execute_result",
          "data": {
            "application/vnd.google.colaboratory.intrinsic+json": {
              "type": "string"
            },
            "text/plain": [
              "'uick brown'"
            ]
          },
          "metadata": {
            "tags": []
          },
          "execution_count": 2
        }
      ]
    },
    {
      "cell_type": "code",
      "metadata": {
        "colab": {
          "base_uri": "https://localhost:8080/",
          "height": 35
        },
        "id": "1ogHHYSCYTBu",
        "outputId": "d2e441af-7f09-494b-bd73-c598d43d9465"
      },
      "source": [
        "sentence[0]"
      ],
      "execution_count": 3,
      "outputs": [
        {
          "output_type": "execute_result",
          "data": {
            "application/vnd.google.colaboratory.intrinsic+json": {
              "type": "string"
            },
            "text/plain": [
              "'T'"
            ]
          },
          "metadata": {
            "tags": []
          },
          "execution_count": 3
        }
      ]
    },
    {
      "cell_type": "markdown",
      "metadata": {
        "id": "qaBmGTxrUf1r"
      },
      "source": [
        "What happens if we put a negative number in as the index?"
      ]
    },
    {
      "cell_type": "code",
      "metadata": {
        "id": "War6Wm7lV9Wl",
        "colab": {
          "base_uri": "https://localhost:8080/",
          "height": 35
        },
        "outputId": "5c3aa407-b0e9-4bde-ef3a-934013635087"
      },
      "source": [
        "sentence[-1]"
      ],
      "execution_count": null,
      "outputs": [
        {
          "output_type": "execute_result",
          "data": {
            "application/vnd.google.colaboratory.intrinsic+json": {
              "type": "string"
            },
            "text/plain": [
              "'.'"
            ]
          },
          "metadata": {
            "tags": []
          },
          "execution_count": 31
        }
      ]
    },
    {
      "cell_type": "code",
      "metadata": {
        "colab": {
          "base_uri": "https://localhost:8080/",
          "height": 35
        },
        "id": "u0Z6RUEIz01_",
        "outputId": "c7b8fe51-1a11-4286-dda2-dd03c39b0a44"
      },
      "source": [
        "sentence[-3:-1]"
      ],
      "execution_count": null,
      "outputs": [
        {
          "output_type": "execute_result",
          "data": {
            "application/vnd.google.colaboratory.intrinsic+json": {
              "type": "string"
            },
            "text/plain": [
              "'gs'"
            ]
          },
          "metadata": {
            "tags": []
          },
          "execution_count": 36
        }
      ]
    },
    {
      "cell_type": "code",
      "metadata": {
        "colab": {
          "base_uri": "https://localhost:8080/",
          "height": 35
        },
        "id": "sAQGF2NJz5Qj",
        "outputId": "ca864d26-0d83-4a7f-8807-79876afc72ce"
      },
      "source": [
        "sentence[-3:5]"
      ],
      "execution_count": null,
      "outputs": [
        {
          "output_type": "execute_result",
          "data": {
            "application/vnd.google.colaboratory.intrinsic+json": {
              "type": "string"
            },
            "text/plain": [
              "''"
            ]
          },
          "metadata": {
            "tags": []
          },
          "execution_count": 34
        }
      ]
    },
    {
      "cell_type": "markdown",
      "metadata": {
        "id": "JzPhzMxp6rAr"
      },
      "source": [
        "Can we get the length of a string?"
      ]
    },
    {
      "cell_type": "code",
      "metadata": {
        "id": "cc5vOO5G6wHz",
        "colab": {
          "base_uri": "https://localhost:8080/"
        },
        "outputId": "8bf3672f-dc80-4687-ffd5-fd648456bdfe"
      },
      "source": [
        "len(\"boxes\")"
      ],
      "execution_count": null,
      "outputs": [
        {
          "output_type": "execute_result",
          "data": {
            "text/plain": [
              "5"
            ]
          },
          "metadata": {
            "tags": []
          },
          "execution_count": 37
        }
      ]
    },
    {
      "cell_type": "code",
      "metadata": {
        "colab": {
          "base_uri": "https://localhost:8080/"
        },
        "id": "0QWFp1Rp0JZ_",
        "outputId": "7651eb94-ff28-4288-950b-af03ad5780e0"
      },
      "source": [
        "len(\"happy birthday\")"
      ],
      "execution_count": null,
      "outputs": [
        {
          "output_type": "execute_result",
          "data": {
            "text/plain": [
              "14"
            ]
          },
          "metadata": {
            "tags": []
          },
          "execution_count": 38
        }
      ]
    },
    {
      "cell_type": "code",
      "metadata": {
        "colab": {
          "base_uri": "https://localhost:8080/"
        },
        "id": "ileql4Z-0M77",
        "outputId": "ab2e3a91-ff78-4d87-eb45-11294bf4e713"
      },
      "source": [
        "len(sentence)"
      ],
      "execution_count": null,
      "outputs": [
        {
          "output_type": "execute_result",
          "data": {
            "text/plain": [
              "46"
            ]
          },
          "metadata": {
            "tags": []
          },
          "execution_count": 39
        }
      ]
    },
    {
      "cell_type": "markdown",
      "metadata": {
        "id": "sxobJv-Y8dlW"
      },
      "source": [
        "Can we count the number of e's in a string?"
      ]
    },
    {
      "cell_type": "code",
      "metadata": {
        "id": "8kE89xQQ9fgE",
        "colab": {
          "base_uri": "https://localhost:8080/"
        },
        "outputId": "8642cb30-f325-40ca-8c0e-4a542aff7a22"
      },
      "source": [
        "sentence.count('e')"
      ],
      "execution_count": null,
      "outputs": [
        {
          "output_type": "execute_result",
          "data": {
            "text/plain": [
              "4"
            ]
          },
          "metadata": {
            "tags": []
          },
          "execution_count": 40
        }
      ]
    },
    {
      "cell_type": "code",
      "metadata": {
        "colab": {
          "base_uri": "https://localhost:8080/"
        },
        "id": "eEw_WOKi0XnR",
        "outputId": "04550336-585f-4c27-823b-c7ac9f2bc855"
      },
      "source": [
        "\"boxes\".count('e')"
      ],
      "execution_count": null,
      "outputs": [
        {
          "output_type": "execute_result",
          "data": {
            "text/plain": [
              "1"
            ]
          },
          "metadata": {
            "tags": []
          },
          "execution_count": 41
        }
      ]
    },
    {
      "cell_type": "markdown",
      "metadata": {
        "id": "26pq6sCa9f1D"
      },
      "source": [
        "Can we replace the the e's with a's?"
      ]
    },
    {
      "cell_type": "code",
      "metadata": {
        "id": "apa0ykn_AKjk",
        "colab": {
          "base_uri": "https://localhost:8080/",
          "height": 35
        },
        "outputId": "79877fc2-dbb4-41ab-97de-1ad2d2656da1"
      },
      "source": [
        "sentence.replace('e', 'a')"
      ],
      "execution_count": null,
      "outputs": [
        {
          "output_type": "execute_result",
          "data": {
            "application/vnd.google.colaboratory.intrinsic+json": {
              "type": "string"
            },
            "text/plain": [
              "'Tha quick brown fox jumpad ovar tha lazy dogs.'"
            ]
          },
          "metadata": {
            "tags": []
          },
          "execution_count": 42
        }
      ]
    },
    {
      "cell_type": "code",
      "metadata": {
        "colab": {
          "base_uri": "https://localhost:8080/",
          "height": 35
        },
        "id": "tG-f8xui0kc3",
        "outputId": "e7e93b81-4bd5-4ba8-d577-68f0155420ed"
      },
      "source": [
        "sentence"
      ],
      "execution_count": null,
      "outputs": [
        {
          "output_type": "execute_result",
          "data": {
            "application/vnd.google.colaboratory.intrinsic+json": {
              "type": "string"
            },
            "text/plain": [
              "'Tha quick brown fox jumpad ovar tha lazy dogs.'"
            ]
          },
          "metadata": {
            "tags": []
          },
          "execution_count": 45
        }
      ]
    },
    {
      "cell_type": "code",
      "metadata": {
        "id": "U6hT-FTa0pGy"
      },
      "source": [
        "sentence = sentence.replace('e', 'a')"
      ],
      "execution_count": null,
      "outputs": []
    },
    {
      "cell_type": "code",
      "metadata": {
        "id": "Jx4hXV7K01L3"
      },
      "source": [
        "# What actually works\n",
        "\n",
        "len(sentence)\n",
        "sentence.count('e')\n",
        "\n",
        "# What would make more sense\n",
        "\n",
        "len(sentence)\n",
        "count(sentence, 'e')\n",
        "\n",
        "# OR\n",
        "\n",
        "sentence.len()\n",
        "sentence.count('e')\n"
      ],
      "execution_count": null,
      "outputs": []
    },
    {
      "cell_type": "markdown",
      "metadata": {
        "id": "_jf5dRhSPKo3"
      },
      "source": [
        "**Aside: Functions vs Methods**\n",
        "\n",
        "Functions:\n",
        "* **len** is one of the **built-in functions** in Python\n",
        "* other built-in functions can be found [here](https://www.w3schools.com/python/python_ref_functions.asp)\n",
        "* to call (use) a function: `function_name(variable)`\n",
        "* functions either display or return a value\n",
        "\n",
        "Methods:\n",
        "* **count** is one of the methods which can be executed on a string in Python\n",
        "* other string methods can be found [here](https://www.w3schools.com/python/python_ref_string.asp)\n",
        "* to call (use) a method: `variable.function_name()` or `variable.function_name(other, parameters, here)`"
      ]
    },
    {
      "cell_type": "markdown",
      "metadata": {
        "id": "pVufceYcpugu"
      },
      "source": [
        "# Functions and Methods"
      ]
    },
    {
      "cell_type": "markdown",
      "metadata": {
        "id": "clMhQF4k6wx-"
      },
      "source": [
        "## Aside: Functions vs Methods\n",
        "\n",
        "Functions:\n",
        "* **len** is one of the **built-in functions** in Python\n",
        "* other built-in functions can be found [here](https://www.w3schools.com/python/python_ref_functions.asp)\n",
        "* to call (use) a function: `function_name(variable)`\n",
        "* functions either display or return a value\n",
        "\n",
        "Methods:\n",
        "* **count** is one of the methods which can be executed on a string in Python\n",
        "* other string methods can be found [here](https://www.w3schools.com/python/python_ref_string.asp)\n",
        "* to call (use) a method: `variable.function_name()` or `variable.function_name(other, parameters, here)`"
      ]
    },
    {
      "cell_type": "markdown",
      "metadata": {
        "id": "g-n6ohsr-2Z_"
      },
      "source": [
        "## Storing the Results of a Function or Method Call"
      ]
    },
    {
      "cell_type": "markdown",
      "metadata": {
        "id": "PjPzefX1_AX4"
      },
      "source": [
        "Can we get the length of a string and store it in a variable?"
      ]
    },
    {
      "cell_type": "code",
      "metadata": {
        "id": "SKlkLvgb_EH_",
        "colab": {
          "base_uri": "https://localhost:8080/"
        },
        "outputId": "9b4abf5e-c34d-4b18-e502-f0d159d178b6"
      },
      "source": [
        "demo_string = \"Hello and happy Tuesday!!!\"\n",
        "len_demo_string = len(demo_string)\n",
        "len_demo_string"
      ],
      "execution_count": 5,
      "outputs": [
        {
          "output_type": "execute_result",
          "data": {
            "text/plain": [
              "26"
            ]
          },
          "metadata": {
            "tags": []
          },
          "execution_count": 5
        }
      ]
    },
    {
      "cell_type": "markdown",
      "metadata": {
        "id": "dw3cCmbJ_Ear"
      },
      "source": [
        "Can we count the number of e's in a string and store it in a variable?"
      ]
    },
    {
      "cell_type": "code",
      "metadata": {
        "id": "LBtV3WHX_H-o",
        "colab": {
          "base_uri": "https://localhost:8080/"
        },
        "outputId": "682c425f-3e3e-4064-f4b5-a66b380ce106"
      },
      "source": [
        "num_e_demo_string = demo_string.count('e')\n",
        "num_e_demo_string"
      ],
      "execution_count": 6,
      "outputs": [
        {
          "output_type": "execute_result",
          "data": {
            "text/plain": [
              "2"
            ]
          },
          "metadata": {
            "tags": []
          },
          "execution_count": 6
        }
      ]
    },
    {
      "cell_type": "markdown",
      "metadata": {
        "id": "wpNiuzY9ZaSC"
      },
      "source": [
        "Find number of non-e characters?"
      ]
    },
    {
      "cell_type": "code",
      "metadata": {
        "colab": {
          "base_uri": "https://localhost:8080/"
        },
        "id": "nxs84ftNZdml",
        "outputId": "db496e18-7ee1-4ed9-ca88-184fb8d75dc6"
      },
      "source": [
        "len_demo_string - num_e_demo_string"
      ],
      "execution_count": 7,
      "outputs": [
        {
          "output_type": "execute_result",
          "data": {
            "text/plain": [
              "24"
            ]
          },
          "metadata": {
            "tags": []
          },
          "execution_count": 7
        }
      ]
    },
    {
      "cell_type": "markdown",
      "metadata": {
        "id": "2vG33InB4wPG"
      },
      "source": [
        "# Printing Literals and Variables\n",
        "\n",
        "* Until now we could only display one thing at the end of each code block.\n",
        "* To display more frequently, we can use the `print()` function.\n",
        "* `print()` is a built-in function, so the \"stuff to print\" goes inside the brackets.\n"
      ]
    },
    {
      "cell_type": "code",
      "metadata": {
        "id": "NyiNJbCQAVE8",
        "colab": {
          "base_uri": "https://localhost:8080/"
        },
        "outputId": "c184910b-d88b-4209-ea1a-8f9bdab1643d"
      },
      "source": [
        "print(\"Hello World\")\n",
        "print(\"My demo string is: \" + demo_string)"
      ],
      "execution_count": 9,
      "outputs": [
        {
          "output_type": "stream",
          "text": [
            "Hello World\n",
            "My demo string is: Hello and happy Tuesday!!!\n"
          ],
          "name": "stdout"
        }
      ]
    },
    {
      "cell_type": "markdown",
      "metadata": {
        "id": "ULFZC2P1AfCY"
      },
      "source": [
        "# Special Characters\n",
        "\n"
      ]
    },
    {
      "cell_type": "markdown",
      "metadata": {
        "id": "D0qihz2Ru_ba"
      },
      "source": [
        "Strings can contain special characters that either can't be visualised or can't be typed on most keyboards.\n",
        "\n",
        "These include:\n",
        "* The \"newline\" character.\n",
        "  * Indicates that any characters after it should go on a new line.\n",
        "  * Written as \"\\n\"\n",
        "* Characters from alphabets other than the \"latin\" alphabet.\n",
        "* Emoji!\n",
        "  * Written as \"\\N{name of the emoji}\"\n",
        "  * You can look up names [here](https://emojipedia.org)"
      ]
    },
    {
      "cell_type": "markdown",
      "metadata": {
        "id": "1R2lqXZXBDaW"
      },
      "source": [
        "Can we create a string with this box in it?\n",
        "\n",
        "```\n",
        "+-----+\n",
        "|     |\n",
        "|     |\n",
        "|     |\n",
        "+-----+\n",
        "```"
      ]
    },
    {
      "cell_type": "code",
      "metadata": {
        "id": "xzOzW8jQBFPm",
        "colab": {
          "base_uri": "https://localhost:8080/"
        },
        "outputId": "d8ef79f1-f85f-49e4-d67f-e2dbcc06a4dc"
      },
      "source": [
        "top_and_bottom_row = '+' + '-'*5 + '+' + '\\n'\n",
        "#print(\"Top and bottom row: \" + top_and_bottom_row)\n",
        "middle_row = '|' + ' '*5 + '|' + '\\n'\n",
        "#print(\"Middle row: \" + middle_row)\n",
        "box_string = top_and_bottom_row + middle_row*3 + top_and_bottom_row\n",
        "print(box_string)"
      ],
      "execution_count": 18,
      "outputs": [
        {
          "output_type": "stream",
          "text": [
            "+-----+\n",
            "|     |\n",
            "|     |\n",
            "|     |\n",
            "+-----+\n",
            "\n"
          ],
          "name": "stdout"
        }
      ]
    },
    {
      "cell_type": "markdown",
      "metadata": {
        "id": "vuYuvdUB_RdE"
      },
      "source": [
        "What if we actually want to print \"\\n\"?"
      ]
    },
    {
      "cell_type": "code",
      "metadata": {
        "id": "lb51dsvu_XnK",
        "colab": {
          "base_uri": "https://localhost:8080/"
        },
        "outputId": "1596f298-996f-44a2-d5f8-df0b51cfdd5c"
      },
      "source": [
        "print(\"This is a newline character: \\\\n\")"
      ],
      "execution_count": 20,
      "outputs": [
        {
          "output_type": "stream",
          "text": [
            "This is a newline character: \\n\n"
          ],
          "name": "stdout"
        }
      ]
    },
    {
      "cell_type": "markdown",
      "metadata": {
        "id": "gC5bW8iN_alR"
      },
      "source": [
        "Can we take a string with spaces between the words, and change it so that each word appears on a different line?"
      ]
    },
    {
      "cell_type": "code",
      "metadata": {
        "id": "uOvJsRlMAWlj",
        "colab": {
          "base_uri": "https://localhost:8080/"
        },
        "outputId": "5b9c8311-4901-42e9-94ec-c6371b99b238"
      },
      "source": [
        "demo_string = demo_string.replace(' ', '\\n')\n",
        "print(demo_string)"
      ],
      "execution_count": 24,
      "outputs": [
        {
          "output_type": "stream",
          "text": [
            "Hello\n",
            "and\n",
            "happy\n",
            "Tuesday!!!\n"
          ],
          "name": "stdout"
        }
      ]
    },
    {
      "cell_type": "markdown",
      "metadata": {
        "id": "1z-ORJW1_kIp"
      },
      "source": [
        "Can we change it back?"
      ]
    },
    {
      "cell_type": "code",
      "metadata": {
        "id": "9zyVMm9kAXHk",
        "colab": {
          "base_uri": "https://localhost:8080/"
        },
        "outputId": "599fe146-a8d7-4405-b242-3c7c5ab0e6bb"
      },
      "source": [
        "demo_string = demo_string.replace('\\n', ' ')\n",
        "print(demo_string)"
      ],
      "execution_count": 25,
      "outputs": [
        {
          "output_type": "stream",
          "text": [
            "Hello and happy Tuesday!!!\n"
          ],
          "name": "stdout"
        }
      ]
    },
    {
      "cell_type": "markdown",
      "metadata": {
        "id": "lWLq3uupBIUe"
      },
      "source": [
        "Can we describe 2020 with Emoji?"
      ]
    },
    {
      "cell_type": "code",
      "metadata": {
        "id": "_OtIm8NRI1AY",
        "colab": {
          "base_uri": "https://localhost:8080/"
        },
        "outputId": "945341a4-9673-463a-ef72-d7f28c9f3fb0"
      },
      "source": [
        "#!pip install emoji\n",
        "import emoji\n",
        "\n",
        "print(\"\\N{Loudly Crying Face} \\N{Face with Medical Mask}\")\n",
        "#print(\"\\N{Zzz}\")\n",
        "#print(\"\\N{Yawning Face}\")\n",
        "#print(\"\\N{Face with Medical Mask} \\N{Face with Steam From Nose} \\N{Face with Thermometer}\")"
      ],
      "execution_count": 43,
      "outputs": [
        {
          "output_type": "stream",
          "text": [
            "😭 😷\n"
          ],
          "name": "stdout"
        }
      ]
    },
    {
      "cell_type": "markdown",
      "metadata": {
        "id": "RASu1vuRz8Bf"
      },
      "source": [
        "# Data Types\n",
        "\n",
        "* Each variable has a **data type**.\n",
        "* So far we have looked at **ints** (numbers) and **strings** (text).\n",
        "* The type of the variable determines its behaviour. (Eg the difference between adding two ints together, or adding two strings together.)\n",
        "* A list of data types in Python can be found here: [https://www.w3schools.com/python/python_datatypes.asp](https://www.w3schools.com/python/python_datatypes.asp)"
      ]
    },
    {
      "cell_type": "markdown",
      "metadata": {
        "id": "oFgEchGk0inf"
      },
      "source": [
        "Make some variables and display their types."
      ]
    },
    {
      "cell_type": "code",
      "metadata": {
        "id": "esPqHWBi0nDF",
        "colab": {
          "base_uri": "https://localhost:8080/"
        },
        "outputId": "73003a05-7d13-4802-c824-4d4394a18a18"
      },
      "source": [
        "a = 5\n",
        "b = \"hello\"\n",
        "c = 10.141592653\n",
        "d = True\n",
        "e = \"5\"\n",
        "\n",
        "print(type(a))\n",
        "print(type(b))\n",
        "print(type(c))\n",
        "print(type(d))\n",
        "print(type(e))"
      ],
      "execution_count": 56,
      "outputs": [
        {
          "output_type": "stream",
          "text": [
            "<class 'int'>\n",
            "<class 'str'>\n",
            "<class 'float'>\n",
            "<class 'bool'>\n",
            "<class 'str'>\n"
          ],
          "name": "stdout"
        }
      ]
    },
    {
      "cell_type": "markdown",
      "metadata": {
        "id": "vzOFenKi1LZs"
      },
      "source": [
        "What happens when we try to add two values together, when they are of different types?"
      ]
    },
    {
      "cell_type": "code",
      "metadata": {
        "id": "1MObB3dB1K91",
        "colab": {
          "base_uri": "https://localhost:8080/",
          "height": 165
        },
        "outputId": "60260bb5-fc3a-437f-a298-30ff55ea3f29"
      },
      "source": [
        "a + b"
      ],
      "execution_count": 46,
      "outputs": [
        {
          "output_type": "error",
          "ename": "TypeError",
          "evalue": "ignored",
          "traceback": [
            "\u001b[0;31m---------------------------------------------------------------------------\u001b[0m",
            "\u001b[0;31mTypeError\u001b[0m                                 Traceback (most recent call last)",
            "\u001b[0;32m<ipython-input-46-bd58363a63fc>\u001b[0m in \u001b[0;36m<module>\u001b[0;34m()\u001b[0m\n\u001b[0;32m----> 1\u001b[0;31m \u001b[0ma\u001b[0m \u001b[0;34m+\u001b[0m \u001b[0mb\u001b[0m\u001b[0;34m\u001b[0m\u001b[0;34m\u001b[0m\u001b[0m\n\u001b[0m",
            "\u001b[0;31mTypeError\u001b[0m: unsupported operand type(s) for +: 'int' and 'str'"
          ]
        }
      ]
    },
    {
      "cell_type": "code",
      "metadata": {
        "colab": {
          "base_uri": "https://localhost:8080/"
        },
        "id": "yGOp0Zc0fDsT",
        "outputId": "8381ec26-edc7-4822-a26b-73663f75a79a"
      },
      "source": [
        "a + c"
      ],
      "execution_count": 49,
      "outputs": [
        {
          "output_type": "execute_result",
          "data": {
            "text/plain": [
              "15.141592653"
            ]
          },
          "metadata": {
            "tags": []
          },
          "execution_count": 49
        }
      ]
    },
    {
      "cell_type": "code",
      "metadata": {
        "colab": {
          "base_uri": "https://localhost:8080/",
          "height": 165
        },
        "id": "K_o4S3x0fNuT",
        "outputId": "23df7647-7da3-4c19-be76-37b300083a9d"
      },
      "source": [
        "b + d"
      ],
      "execution_count": 50,
      "outputs": [
        {
          "output_type": "error",
          "ename": "TypeError",
          "evalue": "ignored",
          "traceback": [
            "\u001b[0;31m---------------------------------------------------------------------------\u001b[0m",
            "\u001b[0;31mTypeError\u001b[0m                                 Traceback (most recent call last)",
            "\u001b[0;32m<ipython-input-50-a11f5566dca2>\u001b[0m in \u001b[0;36m<module>\u001b[0;34m()\u001b[0m\n\u001b[0;32m----> 1\u001b[0;31m \u001b[0mb\u001b[0m \u001b[0;34m+\u001b[0m \u001b[0md\u001b[0m\u001b[0;34m\u001b[0m\u001b[0;34m\u001b[0m\u001b[0m\n\u001b[0m",
            "\u001b[0;31mTypeError\u001b[0m: can only concatenate str (not \"bool\") to str"
          ]
        }
      ]
    },
    {
      "cell_type": "code",
      "metadata": {
        "colab": {
          "base_uri": "https://localhost:8080/"
        },
        "id": "_W7ZYVYEfRle",
        "outputId": "368f54e6-8acd-44ef-d6db-582c7cecd08a"
      },
      "source": [
        "a + d"
      ],
      "execution_count": 55,
      "outputs": [
        {
          "output_type": "execute_result",
          "data": {
            "text/plain": [
              "6"
            ]
          },
          "metadata": {
            "tags": []
          },
          "execution_count": 55
        }
      ]
    },
    {
      "cell_type": "markdown",
      "metadata": {
        "id": "QCJuEgL01csp"
      },
      "source": [
        "Can we change the type of a variable?"
      ]
    },
    {
      "cell_type": "code",
      "metadata": {
        "id": "LmGWAsqT2OXj",
        "colab": {
          "base_uri": "https://localhost:8080/"
        },
        "outputId": "0b1d234f-7d7a-4ac0-b7ed-af2796e31e61"
      },
      "source": [
        "new_a = str(a) # turn 5 into \"5\"\n",
        "new_d = int(d) # turn True into 1\n",
        "new_e = int(e) # turn \"5\" into 5\n",
        "\n",
        "print(new_a)\n",
        "print(type(new_a))\n",
        "print(new_d)\n",
        "print(type(new_d))\n",
        "print(new_e)\n",
        "print(type(new_e))"
      ],
      "execution_count": 57,
      "outputs": [
        {
          "output_type": "stream",
          "text": [
            "5\n",
            "<class 'str'>\n",
            "1\n",
            "<class 'int'>\n",
            "5\n",
            "<class 'int'>\n"
          ],
          "name": "stdout"
        }
      ]
    },
    {
      "cell_type": "markdown",
      "metadata": {
        "id": "BFdvZ-aygO9Y"
      },
      "source": [
        "**Note: Booleans and ints**\n",
        "* True ----> Anything that's not zero (including negative numbers).\n",
        "* False ---> 0.\n",
        "\n"
      ]
    },
    {
      "cell_type": "code",
      "metadata": {
        "colab": {
          "base_uri": "https://localhost:8080/"
        },
        "id": "yqDhw0jJgZK_",
        "outputId": "87178743-3cbc-4778-9763-85c499c227d3"
      },
      "source": [
        "bool(-1)"
      ],
      "execution_count": 64,
      "outputs": [
        {
          "output_type": "execute_result",
          "data": {
            "text/plain": [
              "True"
            ]
          },
          "metadata": {
            "tags": []
          },
          "execution_count": 64
        }
      ]
    },
    {
      "cell_type": "markdown",
      "metadata": {
        "id": "uHWmiGBz385u"
      },
      "source": [
        "Changing the type of a variable is called **casting**. We can cast variables to different types, as long as they can be converted.\n",
        "\n",
        "What happens if we try to cast a variable to a type it is incompatible with?"
      ]
    },
    {
      "cell_type": "code",
      "metadata": {
        "id": "t54J_n2M4OJR",
        "colab": {
          "base_uri": "https://localhost:8080/",
          "height": 165
        },
        "outputId": "a4df6f7f-07d4-469b-8645-f6603ed80250"
      },
      "source": [
        "int(\"hello\")"
      ],
      "execution_count": 66,
      "outputs": [
        {
          "output_type": "error",
          "ename": "ValueError",
          "evalue": "ignored",
          "traceback": [
            "\u001b[0;31m---------------------------------------------------------------------------\u001b[0m",
            "\u001b[0;31mValueError\u001b[0m                                Traceback (most recent call last)",
            "\u001b[0;32m<ipython-input-66-a6f1987f81d0>\u001b[0m in \u001b[0;36m<module>\u001b[0;34m()\u001b[0m\n\u001b[0;32m----> 1\u001b[0;31m \u001b[0mint\u001b[0m\u001b[0;34m(\u001b[0m\u001b[0;34m\"hello\"\u001b[0m\u001b[0;34m)\u001b[0m\u001b[0;34m\u001b[0m\u001b[0;34m\u001b[0m\u001b[0m\n\u001b[0m",
            "\u001b[0;31mValueError\u001b[0m: invalid literal for int() with base 10: 'hello'"
          ]
        }
      ]
    },
    {
      "cell_type": "markdown",
      "metadata": {
        "id": "6BnpalugR263"
      },
      "source": [
        "Can you combine strings and variables of different data types in a `print()` statement without casting?"
      ]
    },
    {
      "cell_type": "code",
      "metadata": {
        "colab": {
          "base_uri": "https://localhost:8080/"
        },
        "id": "GAgiP-XahZcr",
        "outputId": "5ed6a0cd-cfe9-4c35-c0da-0279f3587033"
      },
      "source": [
        "# Couldn't do this: print(\"My favourite number is \" + 5)\n",
        "\n",
        "print(f\"My favourite number is {5}\")\n",
        "favourite_number = 5\n",
        "print(f\"My favourite number is {favourite_number}.\")"
      ],
      "execution_count": 77,
      "outputs": [
        {
          "output_type": "stream",
          "text": [
            "My favourite number is 5\n",
            "My favourite number is 5.\n"
          ],
          "name": "stdout"
        }
      ]
    },
    {
      "cell_type": "code",
      "metadata": {
        "id": "PVNiAWCJSA1F",
        "colab": {
          "base_uri": "https://localhost:8080/"
        },
        "outputId": "619867de-47e9-4aa4-b5d1-c089517a08fe"
      },
      "source": [
        "# Couldn't do this: print(\"variable a has type \" + type(a))\n",
        "\n",
        "print(f\"variable a has type {type(a)}\")"
      ],
      "execution_count": 75,
      "outputs": [
        {
          "output_type": "stream",
          "text": [
            "variable a has type <class 'str'>\n"
          ],
          "name": "stdout"
        }
      ]
    },
    {
      "cell_type": "code",
      "metadata": {
        "colab": {
          "base_uri": "https://localhost:8080/"
        },
        "id": "QWOzuoWmhy2t",
        "outputId": "871a36d8-2f7a-4eb8-8d95-120cfe020bef"
      },
      "source": [
        "name = \"Sim\"\n",
        "year = 2021\n",
        "print(f\"\"\"Hi my name is {name}.\n",
        "And I enjoy teaching computer programming.\n",
        "{year} is the current year.\"\"\")"
      ],
      "execution_count": 72,
      "outputs": [
        {
          "output_type": "stream",
          "text": [
            "Hi my name is Sim.\n",
            "And I enjoy teaching computer programming.\n",
            "2021 is the current year.\n"
          ],
          "name": "stdout"
        }
      ]
    },
    {
      "cell_type": "markdown",
      "metadata": {
        "id": "IilEe6SRSsY4"
      },
      "source": [
        "More information about f-strings can be found [here](https://realpython.com/python-f-strings/#f-strings-a-new-and-improved-way-to-format-strings-in-python)."
      ]
    },
    {
      "cell_type": "markdown",
      "metadata": {
        "id": "CAdV3zsti21T"
      },
      "source": [
        "Lecture Timing Note: End of hour 1"
      ]
    },
    {
      "cell_type": "markdown",
      "metadata": {
        "id": "TKpGsue7Mi2z"
      },
      "source": [
        "# Modulo Operator\n",
        "\n",
        "So far we have covered +, -, *, / with integers.\n",
        "\n",
        "The modulo operator, %, returns the remainder when we divide by a number."
      ]
    },
    {
      "cell_type": "code",
      "metadata": {
        "id": "4xeXpFrqNDqE",
        "colab": {
          "base_uri": "https://localhost:8080/"
        },
        "outputId": "7f562468-036f-4689-e23a-18080452a2a0"
      },
      "source": [
        "5 % 3"
      ],
      "execution_count": 78,
      "outputs": [
        {
          "output_type": "execute_result",
          "data": {
            "text/plain": [
              "2"
            ]
          },
          "metadata": {
            "tags": []
          },
          "execution_count": 78
        }
      ]
    },
    {
      "cell_type": "code",
      "metadata": {
        "id": "upYUPtC9mnsN",
        "outputId": "4732f329-9576-40be-aff6-bc10eb476af3",
        "colab": {
          "base_uri": "https://localhost:8080/"
        }
      },
      "source": [
        "16 % 5"
      ],
      "execution_count": 79,
      "outputs": [
        {
          "output_type": "execute_result",
          "data": {
            "text/plain": [
              "1"
            ]
          },
          "metadata": {
            "tags": []
          },
          "execution_count": 79
        }
      ]
    },
    {
      "cell_type": "markdown",
      "metadata": {
        "id": "qyzkVycOp7Cb"
      },
      "source": [
        "# Data Types: Boolean\n",
        "\n",
        "* Include `True` and `False` values."
      ]
    },
    {
      "cell_type": "code",
      "metadata": {
        "id": "-X5GArZsYp8q"
      },
      "source": [
        "# We covered this above."
      ],
      "execution_count": null,
      "outputs": []
    },
    {
      "cell_type": "markdown",
      "metadata": {
        "id": "0368ktSurcTf"
      },
      "source": [
        "# Conditionals"
      ]
    },
    {
      "cell_type": "markdown",
      "metadata": {
        "id": "o_7e49apRLPS"
      },
      "source": [
        "## if\n",
        "\n",
        "```\n",
        "if condition:\n",
        "  code_to_execute_if_condition_is_true\n",
        "```\n",
        "\n",
        "\n",
        "\n",
        "What happens if the condition is `True`?"
      ]
    },
    {
      "cell_type": "code",
      "metadata": {
        "id": "ujDJWU7hrJTI",
        "colab": {
          "base_uri": "https://localhost:8080/"
        },
        "outputId": "ed1562c7-ec8a-46a5-a519-037a7f55270e"
      },
      "source": [
        "if True:\n",
        "  print(\"it was true\")"
      ],
      "execution_count": 82,
      "outputs": [
        {
          "output_type": "stream",
          "text": [
            "it was true\n"
          ],
          "name": "stdout"
        }
      ]
    },
    {
      "cell_type": "markdown",
      "metadata": {
        "id": "Ls5OhTbhr3gN"
      },
      "source": [
        "What happens if the condition is `False`?"
      ]
    },
    {
      "cell_type": "code",
      "metadata": {
        "id": "-3JVINAbr6YR"
      },
      "source": [
        "if False:\n",
        "  print(\"it was true\")"
      ],
      "execution_count": 83,
      "outputs": []
    },
    {
      "cell_type": "markdown",
      "metadata": {
        "id": "0rLJlS15s1TQ"
      },
      "source": [
        "Can we have multiple lines of code to execute?"
      ]
    },
    {
      "cell_type": "code",
      "metadata": {
        "id": "5GVhji6AtRmj",
        "colab": {
          "base_uri": "https://localhost:8080/"
        },
        "outputId": "3dc5fa51-6807-4d0b-bac4-c3c6afc580e7"
      },
      "source": [
        "if True:\n",
        "  print(\"this is my first line\")\n",
        "  print(\"this is my second line\")\n",
        "  print(\"and a third line\")"
      ],
      "execution_count": 86,
      "outputs": [
        {
          "output_type": "stream",
          "text": [
            "this is my first line\n",
            "this is my second line\n",
            "and a third line\n"
          ],
          "name": "stdout"
        }
      ]
    },
    {
      "cell_type": "code",
      "metadata": {
        "id": "R39E5LBZnWwo"
      },
      "source": [
        "if False:\n",
        "  print(\"this is my first line\")\n",
        "  print(\"this is my second line\")\n",
        "  print(\"and a third line\")"
      ],
      "execution_count": 87,
      "outputs": []
    },
    {
      "cell_type": "markdown",
      "metadata": {
        "id": "qSDrVBLHr8tU"
      },
      "source": [
        "Does the indentation matter?"
      ]
    },
    {
      "cell_type": "code",
      "metadata": {
        "id": "x6kpZjREtRW-",
        "colab": {
          "base_uri": "https://localhost:8080/"
        },
        "outputId": "29dfb633-b20d-4e41-8a95-450792ef6803"
      },
      "source": [
        "if True:\n",
        "  print(\"this is my first line\")\n",
        "  print(\"this is my second line\")\n",
        "print(\"and a third line\")"
      ],
      "execution_count": 88,
      "outputs": [
        {
          "output_type": "stream",
          "text": [
            "this is my first line\n",
            "this is my second line\n",
            "and a third line\n"
          ],
          "name": "stdout"
        }
      ]
    },
    {
      "cell_type": "code",
      "metadata": {
        "id": "fjt2fhprnaFX",
        "outputId": "dc3f82fe-e6dc-488e-bed0-3e80f2d9586e",
        "colab": {
          "base_uri": "https://localhost:8080/"
        }
      },
      "source": [
        "if False:\n",
        "  print(\"this is my first line\")\n",
        "  print(\"this is my second line\")\n",
        "print(\"and a third line\")"
      ],
      "execution_count": 89,
      "outputs": [
        {
          "output_type": "stream",
          "text": [
            "and a third line\n"
          ],
          "name": "stdout"
        }
      ]
    },
    {
      "cell_type": "markdown",
      "metadata": {
        "id": "693LDbk6uCQY"
      },
      "source": [
        "## Testing Variables and Creating Conditions"
      ]
    },
    {
      "cell_type": "markdown",
      "metadata": {
        "id": "nt-AoOUruhyK"
      },
      "source": [
        "Can we create a variable with a boolean to test?\n",
        "\n",
        "* `not`"
      ]
    },
    {
      "cell_type": "code",
      "metadata": {
        "colab": {
          "base_uri": "https://localhost:8080/"
        },
        "id": "TTS8JF7uuoZp",
        "outputId": "40b83787-2784-444a-9f77-72b3a6c49c8a"
      },
      "source": [
        "a = 17\n",
        "if a > 5:\n",
        "  print(\"Bigger than 5\")"
      ],
      "execution_count": 93,
      "outputs": [
        {
          "output_type": "stream",
          "text": [
            "Bigger than 5\n"
          ],
          "name": "stdout"
        }
      ]
    },
    {
      "cell_type": "code",
      "metadata": {
        "id": "tYgeH05Rn00s",
        "outputId": "f200390e-8844-4270-f7c1-18e477c03211",
        "colab": {
          "base_uri": "https://localhost:8080/"
        }
      },
      "source": [
        "a = 17\n",
        "a_bigger_than_5 = a > 5\n",
        "if a_bigger_than_5:\n",
        "  print(\"Bigger than 5\")"
      ],
      "execution_count": 92,
      "outputs": [
        {
          "output_type": "stream",
          "text": [
            "Bigger than 5\n"
          ],
          "name": "stdout"
        }
      ]
    },
    {
      "cell_type": "code",
      "metadata": {
        "id": "ot1mzeJxoAPF",
        "outputId": "ca42bfaf-713a-47a7-e316-af2fed9a3783",
        "colab": {
          "base_uri": "https://localhost:8080/"
        }
      },
      "source": [
        "a = 3\n",
        "a_bigger_than_5 = a > 5\n",
        "if not(a_bigger_than_5):\n",
        "  print(\"Not bigger than 5\")"
      ],
      "execution_count": 95,
      "outputs": [
        {
          "output_type": "stream",
          "text": [
            "Not bigger than 5\n"
          ],
          "name": "stdout"
        }
      ]
    },
    {
      "cell_type": "code",
      "metadata": {
        "id": "rdTWXqaWoNN2",
        "outputId": "f5a28624-9a0f-4915-b350-daf4472dd896",
        "colab": {
          "base_uri": "https://localhost:8080/"
        }
      },
      "source": [
        "print(not(False))"
      ],
      "execution_count": 96,
      "outputs": [
        {
          "output_type": "stream",
          "text": [
            "True\n"
          ],
          "name": "stdout"
        }
      ]
    },
    {
      "cell_type": "markdown",
      "metadata": {
        "id": "A-DTcDRpuoqG"
      },
      "source": [
        "Can we create an integer to test?\n",
        "\n",
        "* ==\n",
        "* !=\n",
        "* \\>\n",
        "* <\n",
        "* <=\n",
        "* \\>="
      ]
    },
    {
      "cell_type": "code",
      "metadata": {
        "id": "Kci8FX_juhX9"
      },
      "source": [
        "a = 3 #           = --> \"Let a be equal to 3\"\n",
        "if a == 5: #     == --> \"Is a equal to 5?\"\n",
        "  print(\"a is equal to 5\")"
      ],
      "execution_count": 100,
      "outputs": []
    },
    {
      "cell_type": "markdown",
      "metadata": {
        "id": "M0Fl0Y-yo0jB"
      },
      "source": [
        "* =\n",
        "  * assigns\n",
        "  * \"Let it be equal to...\"\n",
        "* ==\n",
        "  * compares\n",
        "  * \"Is it equal to?\""
      ]
    },
    {
      "cell_type": "code",
      "metadata": {
        "id": "o1wbHKWyoyc4",
        "outputId": "ceb299b7-0ea7-49de-89c5-aab855e111a5",
        "colab": {
          "base_uri": "https://localhost:8080/"
        }
      },
      "source": [
        "a = 3\n",
        "if a != 5:\n",
        "  print(\"a was not equal to 5\")"
      ],
      "execution_count": 101,
      "outputs": [
        {
          "output_type": "stream",
          "text": [
            "a was not equal to 5\n"
          ],
          "name": "stdout"
        }
      ]
    },
    {
      "cell_type": "markdown",
      "metadata": {
        "id": "hh8PwWRmwLYH"
      },
      "source": [
        "Can we create a string to test?\n",
        "\n",
        "* ==\n",
        "* !="
      ]
    },
    {
      "cell_type": "code",
      "metadata": {
        "id": "bzgFtvsWwN4H",
        "colab": {
          "base_uri": "https://localhost:8080/"
        },
        "outputId": "05569c2a-fc87-4783-fe71-b5ce97e7c0fb"
      },
      "source": [
        "password1 = \"pass\"\n",
        "if password1 == \"pass\":\n",
        "  print(\"You got it!!\")"
      ],
      "execution_count": 102,
      "outputs": [
        {
          "output_type": "stream",
          "text": [
            "You got it!!\n"
          ],
          "name": "stdout"
        }
      ]
    },
    {
      "cell_type": "markdown",
      "metadata": {
        "id": "vL6uZVZjwt6d"
      },
      "source": [
        "What happens if we use > and < on strings?"
      ]
    },
    {
      "cell_type": "code",
      "metadata": {
        "id": "IO7URFOJww7b",
        "colab": {
          "base_uri": "https://localhost:8080/"
        },
        "outputId": "b86bbfc2-8f9f-41ea-d082-6368b7b37446"
      },
      "source": [
        "if \"giraffe\" > \"hippopotamus\":\n",
        "  print(\"giraffe is bigger\")\n",
        "\n",
        "if \"hippo\" > \"giraffe\":\n",
        "  print(\"hippo is bigger\")\n",
        "\n",
        "# > .... greater than ... later than it in the alphabet\n",
        "# < .... smaller than ... before it in the alphabet"
      ],
      "execution_count": 103,
      "outputs": [
        {
          "output_type": "stream",
          "text": [
            "hippo is bigger\n"
          ],
          "name": "stdout"
        }
      ]
    },
    {
      "cell_type": "markdown",
      "metadata": {
        "id": "MK7ri_tSt05T"
      },
      "source": [
        "## else\n",
        "\n",
        "```\n",
        "if condition:\n",
        "  code_if_true\n",
        "else:\n",
        "  code_if_false\n",
        "```\n",
        "\n"
      ]
    },
    {
      "cell_type": "code",
      "metadata": {
        "colab": {
          "base_uri": "https://localhost:8080/"
        },
        "id": "4Rls4VT7p8-i",
        "outputId": "07a03b5a-3855-4ad8-d8ef-f143f396715c"
      },
      "source": [
        "a = 5\n",
        "if a > 5:\n",
        "  print(\"a is greater than 5\")\n",
        "else:\n",
        "  print(\"a is NOT greater than 5\")"
      ],
      "execution_count": 106,
      "outputs": [
        {
          "output_type": "stream",
          "text": [
            "a is NOT greater than 5\n"
          ],
          "name": "stdout"
        }
      ]
    },
    {
      "cell_type": "markdown",
      "metadata": {
        "id": "Dty2p3QOyP7V"
      },
      "source": [
        "## elif\n",
        "\n",
        "```\n",
        "if condition:\n",
        "  code_if_true\n",
        "elif condition_2:\n",
        "  code_if_condition1_false_and_condition2_true \n",
        "else:\n",
        "  code_if_false\n",
        "```\n",
        "\n",
        "* You must have exactly one `if`.\n",
        "* You may have 0 or more (as many as you'd like) `elif`.\n",
        "* You may have 0 or 1 `else`.\n",
        "* The order matters. Both for `if`, `elif`, `else` and for the order of the `elif`s."
      ]
    },
    {
      "cell_type": "code",
      "metadata": {
        "colab": {
          "base_uri": "https://localhost:8080/"
        },
        "id": "2y8sHt41qKy4",
        "outputId": "07a03b5a-3855-4ad8-d8ef-f143f396715c"
      },
      "source": [
        "a = 5\n",
        "if a > 5:\n",
        "  print(\"a is greater than 5\")\n",
        "elif a < 5:\n",
        "  print(\"a is less than 5\")\n",
        "else:\n",
        "  print(\"a is equal to 5\")"
      ],
      "execution_count": null,
      "outputs": [
        {
          "output_type": "stream",
          "text": [
            "a is NOT greater than 5\n"
          ],
          "name": "stdout"
        }
      ]
    },
    {
      "cell_type": "code",
      "metadata": {
        "id": "JLIF0UhJqw4W"
      },
      "source": [
        "a = 5\n",
        "if a > 5:\n",
        "  print(\"a is greater than 5\")\n",
        "elif a < 5:\n",
        "  print(\"a is less than 5\")\n",
        "elif a == 5:\n",
        "  print(\"a is equal to 5\")\n",
        "\n",
        "  ## We don't need an 'else' section', to achieve the same result"
      ],
      "execution_count": null,
      "outputs": []
    },
    {
      "cell_type": "markdown",
      "metadata": {
        "id": "DlTzS12lq5vU"
      },
      "source": [
        "else: \"if I've forgotten any condition, then do this.\""
      ]
    },
    {
      "cell_type": "markdown",
      "metadata": {
        "id": "335MMrGxBpup"
      },
      "source": [
        "## Example: Getting Ready to Lecture Online\n",
        "\n",
        "Lecturing from home means that I have my bed in the background of my webcam. This means that each day, before I lecture, I prefer to make my bed.\n",
        "\n",
        "(a) Write some code which:\n",
        "1. Declares a boolean `bed_made` to be `True` or `False`.\n",
        "2. Depending on the value of `bed_made`, display \"Go make your bed.\" or \"Ready to lecture.\""
      ]
    },
    {
      "cell_type": "code",
      "metadata": {
        "id": "2kooY55xCCv4",
        "colab": {
          "base_uri": "https://localhost:8080/"
        },
        "outputId": "12c291d0-e882-44d5-a7da-2dca5d0d22c4"
      },
      "source": [
        "bed_made = True\n",
        "\n",
        "if bed_made == True:\n",
        "  print(\"Ready to lecture.\")\n",
        "else:\n",
        "  print(\"Go make your bed.\")"
      ],
      "execution_count": 111,
      "outputs": [
        {
          "output_type": "stream",
          "text": [
            "Ready to lecture.\n"
          ],
          "name": "stdout"
        }
      ]
    },
    {
      "cell_type": "code",
      "metadata": {
        "id": "Y1brG1y4sAQv",
        "outputId": "52f37862-947e-406f-c52b-8f4f2e438b65",
        "colab": {
          "base_uri": "https://localhost:8080/"
        }
      },
      "source": [
        "bed_made = True\n",
        "\n",
        "if bed_made:\n",
        "  print(\"Ready to lecture.\")\n",
        "else:\n",
        "  print(\"Go make your bed.\")"
      ],
      "execution_count": 112,
      "outputs": [
        {
          "output_type": "stream",
          "text": [
            "Ready to lecture.\n"
          ],
          "name": "stdout"
        }
      ]
    },
    {
      "cell_type": "markdown",
      "metadata": {
        "id": "-7TjfhgZCDD5"
      },
      "source": [
        "(Continuing from previous question...)\n",
        "\n",
        "(b) Some days, I'm running late and I don't have time to make my bed, and end up giving lectures even if my bed is still unmade.\n",
        "\n",
        "Copy the code from the previous question and:\n",
        "1. Add a boolean `on_time` to be `True` or `False`.\n",
        "2. Depending on the values of `bed_made` and `on_time` display \"Go make your bed.\", \"Ready to lecture.\" or \"No time to make your bed. Go lecture anyway.\""
      ]
    },
    {
      "cell_type": "code",
      "metadata": {
        "id": "sI6nSImnCh9I",
        "colab": {
          "base_uri": "https://localhost:8080/"
        },
        "outputId": "792c34dc-1a1c-45f3-85f0-f240c201b1ab"
      },
      "source": [
        "bed_made = False\n",
        "on_time = True\n",
        "\n",
        "if bed_made:\n",
        "  print(\"Ready to lecture.\")\n",
        "elif on_time:\n",
        "  print(\"Go make your bed.\")\n",
        "else:\n",
        "  print(\"No time to make your bed. Go lecture anyway.\")"
      ],
      "execution_count": 115,
      "outputs": [
        {
          "output_type": "stream",
          "text": [
            "Go make your bed.\n"
          ],
          "name": "stdout"
        }
      ]
    },
    {
      "cell_type": "markdown",
      "metadata": {
        "id": "bvqyuwoDCiU5"
      },
      "source": [
        "(c) Can you implement the above code in a different way? (Enter at least 4 different ways of implementing the code.)\n",
        "\n"
      ]
    },
    {
      "cell_type": "code",
      "metadata": {
        "id": "3EUy369TClD4"
      },
      "source": [
        "bed_made = False\n",
        "on_time = True\n",
        "\n",
        "if bed_made:\n",
        "  print(\"Ready to lecture.\")\n",
        "\n",
        "if not(bed_made) and on_time:\n",
        "  print(\"Go make your bed.\")\n",
        "\n",
        "if not(bed_made) and not(on_time):\n",
        "  print(\"No time to make your bed. Go lecture anyway.\")"
      ],
      "execution_count": null,
      "outputs": []
    },
    {
      "cell_type": "code",
      "metadata": {
        "id": "BbgOowrUs7N-"
      },
      "source": [
        "bed_made = False\n",
        "on_time = True\n",
        "\n",
        "if bed_made:\n",
        "  print(\"Ready to lecture.\")\n",
        "else:\n",
        "  if on_time:\n",
        "    print(\"Go make your bed.\")\n",
        "  else:\n",
        "    print(\"No time to make your bed. Go lecture anyway.\")"
      ],
      "execution_count": null,
      "outputs": []
    },
    {
      "cell_type": "code",
      "metadata": {
        "id": "T2_CaHLJtY-K"
      },
      "source": [
        "bed_made = False\n",
        "on_time = True\n",
        "\n",
        "if on_time:\n",
        "  if not bed_made:\n",
        "    print(\"Go make your bed.\")\n",
        "  else:\n",
        "    print(\"Ready to lecture.\")\n",
        "else: # (not on time)\n",
        "  if not bed_made:\n",
        "    print(\"No time to make your bed. Go lecture anyway.\")\n",
        "  else:\n",
        "    print(\"Ready to lecture.\")"
      ],
      "execution_count": null,
      "outputs": []
    },
    {
      "cell_type": "markdown",
      "metadata": {
        "id": "BnwzKHfrEXIh"
      },
      "source": [
        "**A note about plagiarism in writing computer programs.**\n",
        "\n"
      ]
    },
    {
      "cell_type": "markdown",
      "metadata": {
        "id": "QTO1tK_dCzWE"
      },
      "source": [
        "(d) Implement the above code, but take into consideration that I also like to have a water bottle on my desk before I start lecturing.\n",
        "\n",
        "The outputs are now:\n",
        "* No time to get ready. Start lecturing now.\n",
        "* Ready to lecture.\n",
        "* Get your water bottle.\n",
        "* Go make your bed."
      ]
    },
    {
      "cell_type": "code",
      "metadata": {
        "id": "bdpdieZYrAIz"
      },
      "source": [
        ""
      ],
      "execution_count": null,
      "outputs": []
    },
    {
      "cell_type": "markdown",
      "metadata": {
        "id": "X1uFcCdDr-F2"
      },
      "source": [
        "# Feedback"
      ]
    },
    {
      "cell_type": "markdown",
      "metadata": {
        "id": "gVsDn4SRruXO"
      },
      "source": [
        "Lecture: 2.1 Python Introduction (part 2 - Week 2 Tuesday)\n",
        "\n",
        "![](https://i.imgur.com/5FKvgmw.png)\n",
        "\n",
        "\n",
        "[Link to feedback form](https://forms.gle/NdAhw7ZMJ2eBEydd7)"
      ]
    }
  ]
}