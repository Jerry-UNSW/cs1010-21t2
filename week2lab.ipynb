{
  "nbformat": 4,
  "nbformat_minor": 0,
  "metadata": {
    "language_info": {
      "codemirror_mode": {
        "name": "ipython",
        "version": 3
      },
      "file_extension": ".py",
      "mimetype": "text/x-python",
      "name": "python",
      "nbconvert_exporter": "python",
      "pygments_lexer": "ipython3",
      "version": "3.9.0-final"
    },
    "orig_nbformat": 2,
    "kernelspec": {
      "name": "python3",
      "display_name": "Python 3.9.0 64-bit",
      "metadata": {
        "interpreter": {
          "hash": "ac2eaa0ea0ebeafcc7822e65e46aa9d4f966f30b695406963e145ea4a91cd4fc"
        }
      }
    },
    "colab": {
      "name": "week2lab.ipynb",
      "provenance": [],
      "include_colab_link": true
    }
  },
  "cells": [
    {
      "cell_type": "markdown",
      "metadata": {
        "id": "view-in-github",
        "colab_type": "text"
      },
      "source": [
        "<a href=\"https://colab.research.google.com/github/sim-mautner/cs1010-21t2/blob/main/week2lab.ipynb\" target=\"_parent\"><img src=\"https://colab.research.google.com/assets/colab-badge.svg\" alt=\"Open In Colab\"/></a>"
      ]
    },
    {
      "cell_type": "markdown",
      "metadata": {
        "id": "u2WhDvLUEben"
      },
      "source": [
        "# Week 2 Lab (1.5 marks)\n",
        "\n",
        "**IMPORTANT NOTE** If you're using Colaboratory, make sure you save a copy of these exercises to Google drive by clicking 'Copy to Drive' at the top of the page. Otherwise, your answers will not be saved."
      ]
    },
    {
      "cell_type": "markdown",
      "metadata": {
        "id": "V1Ipfs_dEbep"
      },
      "source": [
        "## Using python as a calculator (0.5 marks)\n",
        "\n",
        "Write snippets of python code in the cells provided to calculate the answer to each of these questions. "
      ]
    },
    {
      "cell_type": "markdown",
      "metadata": {
        "id": "A5fzs8USEbep"
      },
      "source": [
        "How many inches are there in 37 metres (approximately)?"
      ]
    },
    {
      "cell_type": "code",
      "metadata": {
        "id": "Gg69RBeqEbep"
      },
      "source": [
        ""
      ],
      "execution_count": null,
      "outputs": []
    },
    {
      "cell_type": "markdown",
      "metadata": {
        "id": "tV1JLIeVEbep"
      },
      "source": [
        "Bill is *exactly* 31 years and 68 days old. How old is Bill in seconds (assuming a year is on average 365.25 days)?"
      ]
    },
    {
      "cell_type": "code",
      "metadata": {
        "id": "xG17-X5rEbeq"
      },
      "source": [
        ""
      ],
      "execution_count": null,
      "outputs": []
    },
    {
      "cell_type": "markdown",
      "metadata": {
        "id": "GGPcdTyaEbeq"
      },
      "source": [
        "## String manipulation (0.5 marks)\n",
        "Given the following string:"
      ]
    },
    {
      "cell_type": "code",
      "metadata": {
        "id": "X7M-IIW0Ebeq"
      },
      "source": [
        "famous_quote = \"Not everyone can become a great artist, but a great artist can come from anywhere.\""
      ],
      "execution_count": 1,
      "outputs": []
    },
    {
      "cell_type": "markdown",
      "metadata": {
        "id": "z426iOSDEbeq"
      },
      "source": [
        "write python code in the cells provided to answer the following questions."
      ]
    },
    {
      "cell_type": "markdown",
      "metadata": {
        "id": "kSEPwh9MEbeq"
      },
      "source": [
        "What is the 42nd character (according to programmers)?"
      ]
    },
    {
      "cell_type": "code",
      "metadata": {
        "id": "ZFH0ipiQEbeq"
      },
      "source": [
        ""
      ],
      "execution_count": 1,
      "outputs": []
    },
    {
      "cell_type": "markdown",
      "metadata": {
        "id": "ykUgeijJEber"
      },
      "source": [
        "What is the 42nd character (according to most other humans)?"
      ]
    },
    {
      "cell_type": "code",
      "metadata": {
        "id": "XxiLOH4dEber"
      },
      "source": [
        ""
      ],
      "execution_count": 1,
      "outputs": []
    },
    {
      "cell_type": "markdown",
      "metadata": {
        "id": "yFfJCh4TEber"
      },
      "source": [
        "How many characters are in the string (including all spaces and punctuation)?"
      ]
    },
    {
      "cell_type": "code",
      "metadata": {
        "id": "9QljTirjEber"
      },
      "source": [
        ""
      ],
      "execution_count": 1,
      "outputs": []
    },
    {
      "cell_type": "markdown",
      "metadata": {
        "id": "c5NSqhaUEbes"
      },
      "source": [
        "How many characters are in the string (**not** including spaces, full stops or commas)?\n",
        "**HINT:** Think how you might calculate the number of spaces, full stops or commas in the string first."
      ]
    },
    {
      "cell_type": "code",
      "metadata": {
        "id": "YZtwrts9Ebes"
      },
      "source": [
        ""
      ],
      "execution_count": 1,
      "outputs": []
    },
    {
      "cell_type": "code",
      "metadata": {
        "id": "z878jd6cEbes"
      },
      "source": [
        ""
      ],
      "execution_count": 1,
      "outputs": []
    },
    {
      "cell_type": "markdown",
      "metadata": {
        "id": "lWxPjSwiEbes"
      },
      "source": [
        "What does the string look like in upper-case and with full stops replaced by exclamation marks?"
      ]
    },
    {
      "cell_type": "code",
      "metadata": {
        "id": "0tx0moa5Ebes"
      },
      "source": [
        ""
      ],
      "execution_count": 1,
      "outputs": []
    },
    {
      "cell_type": "markdown",
      "metadata": {
        "id": "as11KCGbEbes"
      },
      "source": [
        "## String generation (0.5 marks)"
      ]
    },
    {
      "cell_type": "markdown",
      "metadata": {
        "id": "cA7Pb1iEEbet"
      },
      "source": [
        "Write code that produces the following string, minimising repetition as much as possible.\n",
        "```\n",
        "++++----~~~~\n",
        "```"
      ]
    },
    {
      "cell_type": "code",
      "metadata": {
        "id": "xyZc1rDREbet"
      },
      "source": [
        ""
      ],
      "execution_count": 1,
      "outputs": []
    },
    {
      "cell_type": "markdown",
      "metadata": {
        "id": "80Rcr7stEbet"
      },
      "source": [
        "Do the same, but for the following string.\n",
        "```\n",
        "_|__|__|_/_|__|__|_/_|__|__|_/8}>-< \n",
        "```"
      ]
    }
  ]
}