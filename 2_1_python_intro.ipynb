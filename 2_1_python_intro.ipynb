{
  "nbformat": 4,
  "nbformat_minor": 0,
  "metadata": {
    "colab": {
      "name": "2.1-python-intro.ipynb",
      "provenance": [],
      "authorship_tag": "ABX9TyNyWGBbt9gwp38xD8oON0Wt"
    },
    "kernelspec": {
      "name": "python3",
      "display_name": "Python 3"
    },
    "language_info": {
      "name": "python"
    }
  },
  "cells": [
    {
      "cell_type": "markdown",
      "metadata": {
        "id": "johv5jTzr1Vm"
      },
      "source": [
        "## Python Introduction"
      ]
    },
    {
      "cell_type": "markdown",
      "metadata": {
        "id": "Xbo0-z1AolkY"
      },
      "source": [
        "First Python program: What is 1 + 1?"
      ]
    },
    {
      "cell_type": "code",
      "metadata": {
        "id": "THwccXjCnnQO"
      },
      "source": [
        ""
      ],
      "execution_count": 2,
      "outputs": []
    },
    {
      "cell_type": "markdown",
      "metadata": {
        "id": "B8Jm8OlNnxBO"
      },
      "source": [
        "A shop is 12 metres by 8 metres. Social distancing rules say that there should be no more than 1 person for every 4 square meters. How many people can be in the shop at once?"
      ]
    },
    {
      "cell_type": "code",
      "metadata": {
        "id": "u-YAkdXHorg9"
      },
      "source": [
        ""
      ],
      "execution_count": 2,
      "outputs": []
    },
    {
      "cell_type": "markdown",
      "metadata": {
        "id": "gQWg9GNDnyDc"
      },
      "source": [
        "A student has received marks for a course. They got:\n",
        "\n",
        "* 75% in the first assignment, which is worth 20% of the course mark\n",
        "* 80% in the second assignment, which is worth 30% of the course mark\n",
        "* 60% in the final exam, which is worth 50% of the course mark\n",
        "\n",
        "What is their overall course mark?"
      ]
    },
    {
      "cell_type": "code",
      "metadata": {
        "colab": {
          "base_uri": "https://localhost:8080/"
        },
        "id": "SsxQ76EWosFG",
        "outputId": "e3583afc-7814-4804-9ca9-701f386ccf27"
      },
      "source": [
        "75*.2+80*.3+60*.5"
      ],
      "execution_count": 4,
      "outputs": [
        {
          "output_type": "execute_result",
          "data": {
            "text/plain": [
              "69.0"
            ]
          },
          "metadata": {
            "tags": []
          },
          "execution_count": 4
        }
      ]
    },
    {
      "cell_type": "markdown",
      "metadata": {
        "id": "X1uFcCdDr-F2"
      },
      "source": [
        "## Feedback"
      ]
    },
    {
      "cell_type": "markdown",
      "metadata": {
        "id": "gVsDn4SRruXO"
      },
      "source": [
        "Lecture: 2.1 Python Introduction\n",
        "\n",
        "![](https://i.imgur.com/5FKvgmw.png)\n",
        "\n",
        "\n",
        "[Link to feedback form](https://forms.gle/NdAhw7ZMJ2eBEydd7)"
      ]
    }
  ]
}