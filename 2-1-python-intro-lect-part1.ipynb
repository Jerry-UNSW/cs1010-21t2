{
  "nbformat": 4,
  "nbformat_minor": 0,
  "metadata": {
    "colab": {
      "name": "2.1-python-intro-lect-part1.ipynb",
      "provenance": [],
      "include_colab_link": true
    },
    "kernelspec": {
      "name": "python3",
      "display_name": "Python 3"
    },
    "language_info": {
      "name": "python"
    }
  },
  "cells": [
    {
      "cell_type": "markdown",
      "metadata": {
        "id": "view-in-github",
        "colab_type": "text"
      },
      "source": [
        "<a href=\"https://colab.research.google.com/github/sim-mautner/cs1010-21t2/blob/main/2-1-python-intro-lect-part1.ipynb\" target=\"_parent\"><img src=\"https://colab.research.google.com/assets/colab-badge.svg\" alt=\"Open In Colab\"/></a>"
      ]
    },
    {
      "cell_type": "markdown",
      "metadata": {
        "id": "johv5jTzr1Vm"
      },
      "source": [
        "## Python Introduction"
      ]
    },
    {
      "cell_type": "markdown",
      "metadata": {
        "id": "OLYb0m5Rsm1X"
      },
      "source": [
        "## Why Not Spreadsheets?\n",
        "\n",
        "Spreadsheets focus on the *what* and hide the *how*.\n",
        "\n",
        "For many applications this is the right choice, but...\n",
        "\n",
        "* Around 94% of spreadsheets contain errors ([citation](https://www.researchgate.net/publication/228662532_What_We_Know_About_Spreadsheet_Errors))\n",
        "* For any given spreadsheet formula, there's a 1% chance it contains an error ([citation](http://tuck-fac-cen.dartmouth.edu/images/uploads/faculty/serp/Errors.pdf))\n",
        "* [An example spreadsheet with a bug](https://docs.google.com/spreadsheets/d/1iC3K7gLN6C_9aWXSRvM4h5ZFdis7r7RDsFxwtknTDqE/edit?usp=sharing)\n",
        "\n",
        "Even if something *can* be done with spreadsheets, there is still benefit in doing it in a programming language (like python)"
      ]
    },
    {
      "cell_type": "markdown",
      "metadata": {
        "id": "Xbo0-z1AolkY"
      },
      "source": [
        "First Python program: What is 1 + 1?"
      ]
    },
    {
      "cell_type": "code",
      "metadata": {
        "id": "THwccXjCnnQO",
        "colab": {
          "base_uri": "https://localhost:8080/"
        },
        "outputId": "b947e87e-891d-4e33-8611-dc8794dd01b5"
      },
      "source": [
        "1+1"
      ],
      "execution_count": null,
      "outputs": [
        {
          "output_type": "execute_result",
          "data": {
            "text/plain": [
              "2"
            ]
          },
          "metadata": {
            "tags": []
          },
          "execution_count": 1
        }
      ]
    },
    {
      "cell_type": "code",
      "metadata": {
        "colab": {
          "base_uri": "https://localhost:8080/"
        },
        "id": "CffslVO5tdlW",
        "outputId": "674a8c2b-75af-4087-e93e-7b17c8f99507"
      },
      "source": [
        "1+2"
      ],
      "execution_count": null,
      "outputs": [
        {
          "output_type": "execute_result",
          "data": {
            "text/plain": [
              "3"
            ]
          },
          "metadata": {
            "tags": []
          },
          "execution_count": 2
        }
      ]
    },
    {
      "cell_type": "markdown",
      "metadata": {
        "id": "B8Jm8OlNnxBO"
      },
      "source": [
        "A shop is 12 metres by 8 metres. Social distancing rules say that there should be no more than 1 person for every 4 square meters. How many people can be in the shop at once?"
      ]
    },
    {
      "cell_type": "code",
      "metadata": {
        "id": "u-YAkdXHorg9",
        "colab": {
          "base_uri": "https://localhost:8080/"
        },
        "outputId": "0729c18f-613d-47a5-a890-7b7b994682b5"
      },
      "source": [
        "12*8/4"
      ],
      "execution_count": null,
      "outputs": [
        {
          "output_type": "execute_result",
          "data": {
            "text/plain": [
              "24.0"
            ]
          },
          "metadata": {
            "tags": []
          },
          "execution_count": 3
        }
      ]
    },
    {
      "cell_type": "markdown",
      "metadata": {
        "id": "gQWg9GNDnyDc"
      },
      "source": [
        "A student has received marks for a course. They got:\n",
        "\n",
        "* 75% in the first assignment, which is worth 20% of the course mark\n",
        "* 80% in the second assignment, which is worth 30% of the course mark\n",
        "* 60% in the final exam, which is worth 50% of the course mark\n",
        "\n",
        "What is their overall course mark?"
      ]
    },
    {
      "cell_type": "code",
      "metadata": {
        "id": "SsxQ76EWosFG",
        "colab": {
          "base_uri": "https://localhost:8080/"
        },
        "outputId": "b60a3dbc-110b-4055-c487-bd1b40124a20"
      },
      "source": [
        "75/100*.2+80/100*.3+60/100*.5"
      ],
      "execution_count": null,
      "outputs": [
        {
          "output_type": "execute_result",
          "data": {
            "text/plain": [
              "0.69"
            ]
          },
          "metadata": {
            "tags": []
          },
          "execution_count": 4
        }
      ]
    },
    {
      "cell_type": "markdown",
      "metadata": {
        "id": "MG-14GJOwXUr"
      },
      "source": [
        "## Python on the Forums\n",
        "\n",
        "You can copy blocks of Python code into a forum post, using the <> button."
      ]
    },
    {
      "cell_type": "markdown",
      "metadata": {
        "id": "K8WHDxJqwalo"
      },
      "source": [
        "## Variables\n",
        "\n",
        "* To some extent, **variables** are comparable to the cells on a spreadsheet.\n",
        "* You can also think of them as a box. With a label on it.\n",
        "* We can put a **value** into a variable. And change it as needed."
      ]
    },
    {
      "cell_type": "markdown",
      "metadata": {
        "id": "wXzRcKCDxEmw"
      },
      "source": [
        "Create a variable."
      ]
    },
    {
      "cell_type": "code",
      "metadata": {
        "id": "uE3HprTDwaQq",
        "colab": {
          "base_uri": "https://localhost:8080/"
        },
        "outputId": "70d5b4ec-cdf8-47ba-8792-0306b2d09848"
      },
      "source": [
        "x=0\n",
        "x"
      ],
      "execution_count": null,
      "outputs": [
        {
          "output_type": "execute_result",
          "data": {
            "text/plain": [
              "0"
            ]
          },
          "metadata": {
            "tags": []
          },
          "execution_count": 8
        }
      ]
    },
    {
      "cell_type": "markdown",
      "metadata": {
        "id": "SlpQ9f_3xBy3"
      },
      "source": [
        "Change the value in the variable."
      ]
    },
    {
      "cell_type": "code",
      "metadata": {
        "id": "hcXApHWkxBFt",
        "colab": {
          "base_uri": "https://localhost:8080/"
        },
        "outputId": "9bc4e7a9-f472-43d8-ed07-6248d0a5b66e"
      },
      "source": [
        "x=5\n",
        "x"
      ],
      "execution_count": null,
      "outputs": [
        {
          "output_type": "execute_result",
          "data": {
            "text/plain": [
              "5"
            ]
          },
          "metadata": {
            "tags": []
          },
          "execution_count": 10
        }
      ]
    },
    {
      "cell_type": "markdown",
      "metadata": {
        "id": "E9h80tMqxAfa"
      },
      "source": [
        "Take the value in the variable, add 1 to it, and store it back into the variable."
      ]
    },
    {
      "cell_type": "code",
      "metadata": {
        "id": "B5zOon5sxSQo",
        "colab": {
          "base_uri": "https://localhost:8080/"
        },
        "outputId": "646e0449-ae18-41ba-d9ec-93adced6cfe0"
      },
      "source": [
        "x=5\n",
        "x=x+1\n",
        "x"
      ],
      "execution_count": null,
      "outputs": [
        {
          "output_type": "execute_result",
          "data": {
            "text/plain": [
              "6"
            ]
          },
          "metadata": {
            "tags": []
          },
          "execution_count": 13
        }
      ]
    },
    {
      "cell_type": "markdown",
      "metadata": {
        "id": "xMU9bIVoShPT"
      },
      "source": [
        "See slides for a step by step of what's happening here."
      ]
    },
    {
      "cell_type": "markdown",
      "metadata": {
        "id": "DbEnqaUnwfZp"
      },
      "source": [
        "## Variable Naming\n",
        "\n",
        "See slides on Code Style [here](https://hackmd.io/@sim/Sy1054OFO#/)."
      ]
    },
    {
      "cell_type": "code",
      "metadata": {
        "colab": {
          "base_uri": "https://localhost:8080/"
        },
        "id": "JaqY75MZvw9K",
        "outputId": "fc937559-f751-49d0-ddf1-f9a394958781"
      },
      "source": [
        "my_demo_variable = 5\n",
        "my_demo_variable"
      ],
      "execution_count": null,
      "outputs": [
        {
          "output_type": "execute_result",
          "data": {
            "text/plain": [
              "5"
            ]
          },
          "metadata": {
            "tags": []
          },
          "execution_count": 15
        }
      ]
    },
    {
      "cell_type": "markdown",
      "metadata": {
        "id": "KhmKoARh8t28"
      },
      "source": [
        "## Order Matters\n",
        "\n",
        "* A computer program is a set of instructions.\n",
        "* Like the method of a recipe, the order in which the instructions are given, and executed, matters.\n",
        "\n",
        "Before running the code below, try and guess the value of x at the end of the program."
      ]
    },
    {
      "cell_type": "markdown",
      "metadata": {
        "id": "I5MdZlSL9Wmx"
      },
      "source": [
        "Program a:\n",
        "\n",
        "Guess: 5\n",
        "\n",
        "Actual: 5"
      ]
    },
    {
      "cell_type": "code",
      "metadata": {
        "id": "91MT0mX19Hfz",
        "colab": {
          "base_uri": "https://localhost:8080/"
        },
        "outputId": "44000e12-aa75-461e-c255-a827ea981c7e"
      },
      "source": [
        "x = 0\n",
        "x = x + 1\n",
        "x = 5\n",
        "x"
      ],
      "execution_count": null,
      "outputs": [
        {
          "output_type": "execute_result",
          "data": {
            "text/plain": [
              "5"
            ]
          },
          "metadata": {
            "tags": []
          },
          "execution_count": 16
        }
      ]
    },
    {
      "cell_type": "markdown",
      "metadata": {
        "id": "QQh8ziTO9Y9N"
      },
      "source": [
        "Program b:\n",
        "\n",
        "Guess: 6\n",
        "\n",
        "Actual: 6"
      ]
    },
    {
      "cell_type": "code",
      "metadata": {
        "id": "O-hFzb389Hza",
        "colab": {
          "base_uri": "https://localhost:8080/"
        },
        "outputId": "7d3d8ee5-5c13-4ff6-9742-1324c2cab4ee"
      },
      "source": [
        "x = 0\n",
        "x = 5\n",
        "x = x + 1\n",
        "x"
      ],
      "execution_count": null,
      "outputs": [
        {
          "output_type": "execute_result",
          "data": {
            "text/plain": [
              "6"
            ]
          },
          "metadata": {
            "tags": []
          },
          "execution_count": 17
        }
      ]
    },
    {
      "cell_type": "markdown",
      "metadata": {
        "id": "vOBvioy3WDO_"
      },
      "source": [
        "## Learning Programming - What happens if... ?\n",
        "\n",
        "* A big part of programming is \"trying stuff and seeing what works\".\n",
        "* Ask questions.\n",
        "* Investigate.\n",
        "* Optional: Record your answers in your journal."
      ]
    },
    {
      "cell_type": "markdown",
      "metadata": {
        "id": "8oiCvDOazzZ3"
      },
      "source": [
        "## Back to Programming\n",
        "\n",
        "Working with only numbers is limiting (and honestly, a bit boring). Let's try something more interesting."
      ]
    },
    {
      "cell_type": "markdown",
      "metadata": {
        "id": "deE821kTx16Q"
      },
      "source": [
        "## Strings\n",
        "\n",
        "* A **string** is a sequence of characters.\n",
        "* A **character** is a letter, or space, or piece of punctuation.\n",
        "* Basically, text.\n",
        "* It is held together by quotes."
      ]
    },
    {
      "cell_type": "code",
      "metadata": {
        "id": "yIuLLiVrzDrN",
        "colab": {
          "base_uri": "https://localhost:8080/",
          "height": 35
        },
        "outputId": "fe04b772-3fdd-4901-fbd6-f8706d606b9a"
      },
      "source": [
        "\"hello and goodbye\""
      ],
      "execution_count": null,
      "outputs": [
        {
          "output_type": "execute_result",
          "data": {
            "application/vnd.google.colaboratory.intrinsic+json": {
              "type": "string"
            },
            "text/plain": [
              "'hello and goodbye'"
            ]
          },
          "metadata": {
            "tags": []
          },
          "execution_count": 20
        }
      ]
    },
    {
      "cell_type": "markdown",
      "metadata": {
        "id": "g8GMlICtykMa"
      },
      "source": [
        "What happens if we want to have quotes inside our string?"
      ]
    },
    {
      "cell_type": "code",
      "metadata": {
        "id": "422x2l-ByXdy",
        "colab": {
          "base_uri": "https://localhost:8080/",
          "height": 131
        },
        "outputId": "252fa0c0-06cc-426f-aad0-d13e014d9054"
      },
      "source": [
        "\"hello and \"goodbye\"\""
      ],
      "execution_count": null,
      "outputs": [
        {
          "output_type": "error",
          "ename": "SyntaxError",
          "evalue": "ignored",
          "traceback": [
            "\u001b[0;36m  File \u001b[0;32m\"<ipython-input-22-3f475449b6eb>\"\u001b[0;36m, line \u001b[0;32m1\u001b[0m\n\u001b[0;31m    \"hello and \"goodbye\"\"\u001b[0m\n\u001b[0m                      ^\u001b[0m\n\u001b[0;31mSyntaxError\u001b[0m\u001b[0;31m:\u001b[0m invalid syntax\n"
          ]
        }
      ]
    },
    {
      "cell_type": "markdown",
      "metadata": {
        "id": "XeeAo1AkznrP"
      },
      "source": [
        "How can we make this work?"
      ]
    },
    {
      "cell_type": "code",
      "metadata": {
        "id": "7Z4XzLw1zpJh"
      },
      "source": [
        "\"hello and \\\"goodbye\\\"\""
      ],
      "execution_count": null,
      "outputs": []
    },
    {
      "cell_type": "markdown",
      "metadata": {
        "id": "P_SG9SiKzSBj"
      },
      "source": [
        "What happens if we try to add strings together?"
      ]
    },
    {
      "cell_type": "code",
      "metadata": {
        "id": "WzVcM1RzzSuX",
        "colab": {
          "base_uri": "https://localhost:8080/",
          "height": 35
        },
        "outputId": "6b88f687-e4d5-403e-9bcf-f33eda27c940"
      },
      "source": [
        "\"hello\" + \" \" + \"goodbye\""
      ],
      "execution_count": null,
      "outputs": [
        {
          "output_type": "execute_result",
          "data": {
            "application/vnd.google.colaboratory.intrinsic+json": {
              "type": "string"
            },
            "text/plain": [
              "'hello goodbye'"
            ]
          },
          "metadata": {
            "tags": []
          },
          "execution_count": 23
        }
      ]
    },
    {
      "cell_type": "markdown",
      "metadata": {
        "id": "Ns0ewWPwSRJv"
      },
      "source": [
        "What happens if we try to multiply a string by a number?"
      ]
    },
    {
      "cell_type": "code",
      "metadata": {
        "id": "DDvD6n88SWIw",
        "colab": {
          "base_uri": "https://localhost:8080/",
          "height": 35
        },
        "outputId": "6140ddf9-fcb8-4b67-ea0b-3bad64d4cb67"
      },
      "source": [
        "\"hello\" * 3"
      ],
      "execution_count": null,
      "outputs": [
        {
          "output_type": "execute_result",
          "data": {
            "application/vnd.google.colaboratory.intrinsic+json": {
              "type": "string"
            },
            "text/plain": [
              "'hellohellohello'"
            ]
          },
          "metadata": {
            "tags": []
          },
          "execution_count": 24
        }
      ]
    },
    {
      "cell_type": "markdown",
      "metadata": {
        "id": "B7pFKvdMSkO0"
      },
      "source": [
        "What happens if we try to multiply a string by a string?"
      ]
    },
    {
      "cell_type": "code",
      "metadata": {
        "id": "DNakhfwTSj11",
        "colab": {
          "base_uri": "https://localhost:8080/",
          "height": 165
        },
        "outputId": "3fdd8ac8-293a-4d42-e046-cd98c16d716a"
      },
      "source": [
        "\"hello\" * \"goodbye\""
      ],
      "execution_count": null,
      "outputs": [
        {
          "output_type": "error",
          "ename": "TypeError",
          "evalue": "ignored",
          "traceback": [
            "\u001b[0;31m---------------------------------------------------------------------------\u001b[0m",
            "\u001b[0;31mTypeError\u001b[0m                                 Traceback (most recent call last)",
            "\u001b[0;32m<ipython-input-25-17acdbf6e882>\u001b[0m in \u001b[0;36m<module>\u001b[0;34m()\u001b[0m\n\u001b[0;32m----> 1\u001b[0;31m \u001b[0;34m\"hello\"\u001b[0m \u001b[0;34m*\u001b[0m \u001b[0;34m\"goodbye\"\u001b[0m\u001b[0;34m\u001b[0m\u001b[0;34m\u001b[0m\u001b[0m\n\u001b[0m",
            "\u001b[0;31mTypeError\u001b[0m: can't multiply sequence by non-int of type 'str'"
          ]
        }
      ]
    },
    {
      "cell_type": "markdown",
      "metadata": {
        "id": "l9sSuvhGSwIT"
      },
      "source": [
        "Can we extract individual characters?"
      ]
    },
    {
      "cell_type": "code",
      "metadata": {
        "id": "m_7sBju4TCSO",
        "colab": {
          "base_uri": "https://localhost:8080/",
          "height": 35
        },
        "outputId": "a2d566fe-e8b1-49c8-a9a3-964ef3b33bb6"
      },
      "source": [
        "demo_variable = \"hello\"\n",
        "demo_variable[1]"
      ],
      "execution_count": null,
      "outputs": [
        {
          "output_type": "execute_result",
          "data": {
            "application/vnd.google.colaboratory.intrinsic+json": {
              "type": "string"
            },
            "text/plain": [
              "'e'"
            ]
          },
          "metadata": {
            "tags": []
          },
          "execution_count": 26
        }
      ]
    },
    {
      "cell_type": "markdown",
      "metadata": {
        "id": "ftNEXaeHUlw5"
      },
      "source": [
        "* Strings are a sequence of characters (or **elements**).\n",
        "* Each character in the sequence has a number, this number is often referred to as the **index**.\n",
        "* When we talk about sequences, each **element** has an **index**.\n",
        "* You can also think of a string as a street with lots of houses.\n",
        "  * The string's name is the name of the street.\n",
        "  * The **index** is the house number.\n",
        "  * The **element** (or character) is who lives there.\n",
        "\n",
        " <img width=\"40%\" src=\"https://i.imgur.com/FuUEFhA.png\" />"
      ]
    },
    {
      "cell_type": "markdown",
      "metadata": {
        "id": "CRQgX47vM5nU"
      },
      "source": [
        "## What is wrong with programmers?\n",
        "\n",
        "<img width=\"40%\" src=\"https://i.imgur.com/NSxLS8D.png\" />\n",
        "\n",
        "Important info:\n",
        "\n",
        "* Programmers start counting from 0\n",
        "* This is a common source of errors for new programmers"
      ]
    },
    {
      "cell_type": "markdown",
      "metadata": {
        "id": "6uBUEwM2UaHc"
      },
      "source": [
        "## Back to Strings"
      ]
    },
    {
      "cell_type": "markdown",
      "metadata": {
        "id": "uasiOS9wUdNL"
      },
      "source": [
        "Can we extract parts of strings?"
      ]
    },
    {
      "cell_type": "code",
      "metadata": {
        "id": "2mMKFhcbUgKb",
        "colab": {
          "base_uri": "https://localhost:8080/",
          "height": 35
        },
        "outputId": "4837e569-491e-478c-f69b-48364a86181f"
      },
      "source": [
        "sentence = \"The quick brown fox jumped over the lazy dogs.\"\n",
        "sentence[5:15]"
      ],
      "execution_count": null,
      "outputs": [
        {
          "output_type": "execute_result",
          "data": {
            "application/vnd.google.colaboratory.intrinsic+json": {
              "type": "string"
            },
            "text/plain": [
              "'uick brown'"
            ]
          },
          "metadata": {
            "tags": []
          },
          "execution_count": 46
        }
      ]
    },
    {
      "cell_type": "markdown",
      "metadata": {
        "id": "qaBmGTxrUf1r"
      },
      "source": [
        "What happens if we put a negative number in as the index?"
      ]
    },
    {
      "cell_type": "code",
      "metadata": {
        "id": "War6Wm7lV9Wl",
        "colab": {
          "base_uri": "https://localhost:8080/",
          "height": 35
        },
        "outputId": "5c3aa407-b0e9-4bde-ef3a-934013635087"
      },
      "source": [
        "sentence[-1]"
      ],
      "execution_count": null,
      "outputs": [
        {
          "output_type": "execute_result",
          "data": {
            "application/vnd.google.colaboratory.intrinsic+json": {
              "type": "string"
            },
            "text/plain": [
              "'.'"
            ]
          },
          "metadata": {
            "tags": []
          },
          "execution_count": 31
        }
      ]
    },
    {
      "cell_type": "code",
      "metadata": {
        "colab": {
          "base_uri": "https://localhost:8080/",
          "height": 35
        },
        "id": "u0Z6RUEIz01_",
        "outputId": "c7b8fe51-1a11-4286-dda2-dd03c39b0a44"
      },
      "source": [
        "sentence[-3:-1]"
      ],
      "execution_count": null,
      "outputs": [
        {
          "output_type": "execute_result",
          "data": {
            "application/vnd.google.colaboratory.intrinsic+json": {
              "type": "string"
            },
            "text/plain": [
              "'gs'"
            ]
          },
          "metadata": {
            "tags": []
          },
          "execution_count": 36
        }
      ]
    },
    {
      "cell_type": "code",
      "metadata": {
        "colab": {
          "base_uri": "https://localhost:8080/",
          "height": 35
        },
        "id": "sAQGF2NJz5Qj",
        "outputId": "ca864d26-0d83-4a7f-8807-79876afc72ce"
      },
      "source": [
        "sentence[-3:5]"
      ],
      "execution_count": null,
      "outputs": [
        {
          "output_type": "execute_result",
          "data": {
            "application/vnd.google.colaboratory.intrinsic+json": {
              "type": "string"
            },
            "text/plain": [
              "''"
            ]
          },
          "metadata": {
            "tags": []
          },
          "execution_count": 34
        }
      ]
    },
    {
      "cell_type": "markdown",
      "metadata": {
        "id": "JzPhzMxp6rAr"
      },
      "source": [
        "Can we get the length of a string?"
      ]
    },
    {
      "cell_type": "code",
      "metadata": {
        "id": "cc5vOO5G6wHz",
        "colab": {
          "base_uri": "https://localhost:8080/"
        },
        "outputId": "8bf3672f-dc80-4687-ffd5-fd648456bdfe"
      },
      "source": [
        "len(\"boxes\")"
      ],
      "execution_count": null,
      "outputs": [
        {
          "output_type": "execute_result",
          "data": {
            "text/plain": [
              "5"
            ]
          },
          "metadata": {
            "tags": []
          },
          "execution_count": 37
        }
      ]
    },
    {
      "cell_type": "code",
      "metadata": {
        "colab": {
          "base_uri": "https://localhost:8080/"
        },
        "id": "0QWFp1Rp0JZ_",
        "outputId": "7651eb94-ff28-4288-950b-af03ad5780e0"
      },
      "source": [
        "len(\"happy birthday\")"
      ],
      "execution_count": null,
      "outputs": [
        {
          "output_type": "execute_result",
          "data": {
            "text/plain": [
              "14"
            ]
          },
          "metadata": {
            "tags": []
          },
          "execution_count": 38
        }
      ]
    },
    {
      "cell_type": "code",
      "metadata": {
        "colab": {
          "base_uri": "https://localhost:8080/"
        },
        "id": "ileql4Z-0M77",
        "outputId": "ab2e3a91-ff78-4d87-eb45-11294bf4e713"
      },
      "source": [
        "len(sentence)"
      ],
      "execution_count": null,
      "outputs": [
        {
          "output_type": "execute_result",
          "data": {
            "text/plain": [
              "46"
            ]
          },
          "metadata": {
            "tags": []
          },
          "execution_count": 39
        }
      ]
    },
    {
      "cell_type": "markdown",
      "metadata": {
        "id": "sxobJv-Y8dlW"
      },
      "source": [
        "Can we count the number of e's in a string?"
      ]
    },
    {
      "cell_type": "code",
      "metadata": {
        "id": "8kE89xQQ9fgE",
        "colab": {
          "base_uri": "https://localhost:8080/"
        },
        "outputId": "8642cb30-f325-40ca-8c0e-4a542aff7a22"
      },
      "source": [
        "sentence.count('e')"
      ],
      "execution_count": null,
      "outputs": [
        {
          "output_type": "execute_result",
          "data": {
            "text/plain": [
              "4"
            ]
          },
          "metadata": {
            "tags": []
          },
          "execution_count": 40
        }
      ]
    },
    {
      "cell_type": "code",
      "metadata": {
        "colab": {
          "base_uri": "https://localhost:8080/"
        },
        "id": "eEw_WOKi0XnR",
        "outputId": "04550336-585f-4c27-823b-c7ac9f2bc855"
      },
      "source": [
        "\"boxes\".count('e')"
      ],
      "execution_count": null,
      "outputs": [
        {
          "output_type": "execute_result",
          "data": {
            "text/plain": [
              "1"
            ]
          },
          "metadata": {
            "tags": []
          },
          "execution_count": 41
        }
      ]
    },
    {
      "cell_type": "markdown",
      "metadata": {
        "id": "26pq6sCa9f1D"
      },
      "source": [
        "Can we replace the the e's with a's?"
      ]
    },
    {
      "cell_type": "code",
      "metadata": {
        "id": "apa0ykn_AKjk",
        "colab": {
          "base_uri": "https://localhost:8080/",
          "height": 35
        },
        "outputId": "79877fc2-dbb4-41ab-97de-1ad2d2656da1"
      },
      "source": [
        "sentence.replace('e', 'a')"
      ],
      "execution_count": null,
      "outputs": [
        {
          "output_type": "execute_result",
          "data": {
            "application/vnd.google.colaboratory.intrinsic+json": {
              "type": "string"
            },
            "text/plain": [
              "'Tha quick brown fox jumpad ovar tha lazy dogs.'"
            ]
          },
          "metadata": {
            "tags": []
          },
          "execution_count": 42
        }
      ]
    },
    {
      "cell_type": "code",
      "metadata": {
        "colab": {
          "base_uri": "https://localhost:8080/",
          "height": 35
        },
        "id": "tG-f8xui0kc3",
        "outputId": "e7e93b81-4bd5-4ba8-d577-68f0155420ed"
      },
      "source": [
        "sentence"
      ],
      "execution_count": null,
      "outputs": [
        {
          "output_type": "execute_result",
          "data": {
            "application/vnd.google.colaboratory.intrinsic+json": {
              "type": "string"
            },
            "text/plain": [
              "'Tha quick brown fox jumpad ovar tha lazy dogs.'"
            ]
          },
          "metadata": {
            "tags": []
          },
          "execution_count": 45
        }
      ]
    },
    {
      "cell_type": "code",
      "metadata": {
        "id": "U6hT-FTa0pGy"
      },
      "source": [
        "sentence = sentence.replace('e', 'a')"
      ],
      "execution_count": null,
      "outputs": []
    },
    {
      "cell_type": "code",
      "metadata": {
        "id": "Jx4hXV7K01L3"
      },
      "source": [
        "# What actually works\n",
        "\n",
        "len(sentence)\n",
        "sentence.count('e')\n",
        "\n",
        "# What would make more sense\n",
        "\n",
        "len(sentence)\n",
        "count(sentence, 'e')\n",
        "\n",
        "# OR\n",
        "\n",
        "sentence.len()\n",
        "sentence.count('e')\n"
      ],
      "execution_count": null,
      "outputs": []
    },
    {
      "cell_type": "markdown",
      "metadata": {
        "id": "clMhQF4k6wx-"
      },
      "source": [
        "**Aside: Functions vs Methods**\n",
        "\n",
        "Functions:\n",
        "* **len** is one of the **built-in functions** in Python\n",
        "* other built-in functions can be found [here](https://www.w3schools.com/python/python_ref_functions.asp)\n",
        "* to call (use) a function: `function_name(variable)`\n",
        "* functions either display or return a value\n",
        "\n",
        "Methods:\n",
        "* **count** is one of the methods which can be executed on a string in Python\n",
        "* other string methods can be found [here](https://www.w3schools.com/python/python_ref_string.asp)\n",
        "* to call (use) a method: `variable.function_name()` or `variable.function_name(other, parameters, here)`"
      ]
    },
    {
      "cell_type": "markdown",
      "metadata": {
        "id": "X1uFcCdDr-F2"
      },
      "source": [
        "## Feedback"
      ]
    },
    {
      "cell_type": "markdown",
      "metadata": {
        "id": "gVsDn4SRruXO"
      },
      "source": [
        "Lecture: 2.1 Python Introduction\n",
        "\n",
        "![](https://i.imgur.com/5FKvgmw.png)\n",
        "\n",
        "\n",
        "[Link to feedback form](https://forms.gle/NdAhw7ZMJ2eBEydd7)"
      ]
    }
  ]
}