{
  "nbformat": 4,
  "nbformat_minor": 0,
  "metadata": {
    "colab": {
      "name": "6-revision.ipynb",
      "provenance": [],
      "authorship_tag": "ABX9TyMSuPX6qXRT7Iak9109BHYr",
      "include_colab_link": true
    },
    "kernelspec": {
      "name": "python3",
      "display_name": "Python 3"
    },
    "language_info": {
      "name": "python"
    }
  },
  "cells": [
    {
      "cell_type": "markdown",
      "metadata": {
        "id": "view-in-github",
        "colab_type": "text"
      },
      "source": [
        "<a href=\"https://colab.research.google.com/github/sim-mautner/cs1010-21t2/blob/main/6-revision-solutions.ipynb\" target=\"_parent\"><img src=\"https://colab.research.google.com/assets/colab-badge.svg\" alt=\"Open In Colab\"/></a>"
      ]
    },
    {
      "cell_type": "markdown",
      "metadata": {
        "id": "JEat-wKwBNdb"
      },
      "source": [
        "# House Hunting\n",
        "\n",
        "The following cell defines a list of houses for sale. It includes their address, number of bedrooms and bathrooms, features (garage, pool, granny flat, etc.)"
      ]
    },
    {
      "cell_type": "code",
      "metadata": {
        "id": "DyUHH3tCBQSa"
      },
      "source": [
        "houses = [\n",
        "    { \n",
        "        \"address\": \"42 Wallaby Way, Sydney\", \n",
        "        \"bedrooms\": 3, \n",
        "        \"bathrooms\": 2, \n",
        "        \"features\": [\"garage\", \"pool\"] \n",
        "    },\n",
        "    { \n",
        "        \"address\": \"123 Fake Street, Mosman\", \n",
        "        \"bedrooms\": 6, \n",
        "        \"bathrooms\": 3, \n",
        "        \"features\": [\"pool\", \"granny flat\"]     \n",
        "    },\n",
        "    { \n",
        "        \"address\": \"1 High Street, Kensington\", \n",
        "        \"bedrooms\": 2, \n",
        "        \"bathrooms\": 1, \n",
        "        \"features\": [] \n",
        "    },\n",
        "    { \n",
        "        \"address\": \"109 Kirribilli Ave, Kirribilli\", \n",
        "        \"bedrooms\": 10, \n",
        "        \"bathrooms\": 7, \n",
        "        \"features\": [\"garage\", \"pool\", \"wine cellar\", \"tennis court\"] \n",
        "    }\n",
        "]"
      ],
      "execution_count": 1,
      "outputs": []
    },
    {
      "cell_type": "markdown",
      "metadata": {
        "id": "m_5f5IK_BSti"
      },
      "source": [
        "\n",
        "Write the function `find_houses(houses, bedrooms, bathrooms, features)` that returns a list of the addresses of all the houses with at least the given number of bedrooms and bathrooms and at least the given list of features.\n",
        "\n",
        "**NOTE:** Don't assume the list of houses or set of possible features is constrained to what is written above. Your function should still work if new houses were added to the above list."
      ]
    },
    {
      "cell_type": "code",
      "metadata": {
        "id": "zMpFumJHB7QS"
      },
      "source": [
        "def find_houses(houses, bedrooms_lf, bathrooms_lf, features_lf):\n",
        "  # lf means 'looking for'\n",
        "\n",
        "  addresses = []\n",
        "\n",
        "  # Go through each house in the list\n",
        "  for house in houses:\n",
        "    # print(house)\n",
        "\n",
        "    # See if that house meets our criteria\n",
        "    # criteria 1: bedrooms and bathrooms\n",
        "    if house['bedrooms'] >= bedrooms_lf and house['bathrooms'] >= bathrooms_lf:\n",
        "\n",
        "      # criteria 2: features\n",
        "      has_features = True\n",
        "      # for each feature we want, check it's in the features of the house we are\n",
        "      # looking for\n",
        "      for feature in features_lf:\n",
        "        if feature not in house['features']:\n",
        "          has_features = False\n",
        "\n",
        "      if has_features:\n",
        "        addresses.append(house['address'])\n",
        "\n",
        "  return addresses\n"
      ],
      "execution_count": 7,
      "outputs": []
    },
    {
      "cell_type": "markdown",
      "metadata": {
        "id": "YzC7pPTXBmrA"
      },
      "source": [
        "Use this cell to test your function:"
      ]
    },
    {
      "cell_type": "code",
      "metadata": {
        "id": "ToutMRHgBpSJ"
      },
      "source": [
        "assert find_houses(houses, 3, 1, [\"garage\"]) == [\"42 Wallaby Way, Sydney\", \"109 Kirribilli Ave, Kirribilli\"]\n",
        "assert find_houses(houses, 6, 4, []) == [\"109 Kirribilli Ave, Kirribilli\"]\n",
        "assert find_houses(houses, 1, 1, [\"granny flat\"]) == [\"123 Fake Street, Mosman\"]"
      ],
      "execution_count": 8,
      "outputs": []
    },
    {
      "cell_type": "markdown",
      "metadata": {
        "id": "tyO4GCQTB76Y"
      },
      "source": [
        "# Recursion\n",
        "Create a list of all the numbers less than or equal to $n$ that are powers of 2."
      ]
    },
    {
      "cell_type": "code",
      "metadata": {
        "id": "rkJfyBIYMs46",
        "outputId": "affae765-1c8c-4c63-f0a8-b1c540d03e60",
        "colab": {
          "base_uri": "https://localhost:8080/"
        }
      },
      "source": [
        "# Iterative\n",
        "\n",
        "def powers_of_2(n):\n",
        "  result = []\n",
        "  while n > 0:\n",
        "\n",
        "    # start at n and test if it's a power of 2\n",
        "    # by continuously checking if it's divisible by 2\n",
        "    # and then dividing it by 2\n",
        "    # until it becomes 1\n",
        "    test = n\n",
        "    while test > 1:\n",
        "      if test % 2 == 0:\n",
        "        test = test/2\n",
        "      else:\n",
        "        break\n",
        "    \n",
        "    # after our loop, if test = 1, then n (the number test started off as)\n",
        "    # is a power of 2\n",
        "    if test == 1:\n",
        "      result.append(n)\n",
        "    \n",
        "    n = n - 1\n",
        "\n",
        "  return result\n",
        "\n",
        "powers_of_2(32767)"
      ],
      "execution_count": 10,
      "outputs": [
        {
          "output_type": "execute_result",
          "data": {
            "text/plain": [
              "[16384, 8192, 4096, 2048, 1024, 512, 256, 128, 64, 32, 16, 8, 4, 2, 1]"
            ]
          },
          "metadata": {
            "tags": []
          },
          "execution_count": 10
        }
      ]
    },
    {
      "cell_type": "code",
      "metadata": {
        "id": "NU9y-MX41RJ5",
        "outputId": "dd66c627-0b7e-4cf5-9f43-da21f4c2e5a6",
        "colab": {
          "base_uri": "https://localhost:8080/"
        }
      },
      "source": [
        "# Iterative\n",
        "\n",
        "def powers_of_2_v2(n):\n",
        "  result = []\n",
        "\n",
        "  upto = 1\n",
        "  while upto <= n:\n",
        "    result.append(upto)\n",
        "    upto = upto * 2\n",
        "\n",
        "  return result\n",
        "\n",
        "powers_of_2_v2(32767)"
      ],
      "execution_count": 11,
      "outputs": [
        {
          "output_type": "execute_result",
          "data": {
            "text/plain": [
              "[1, 2, 4, 8, 16, 32, 64, 128, 256, 512, 1024, 2048, 4096, 8192, 16384]"
            ]
          },
          "metadata": {
            "tags": []
          },
          "execution_count": 11
        }
      ]
    },
    {
      "cell_type": "code",
      "metadata": {
        "id": "BwiWo6UF1pXA",
        "outputId": "46fbdaed-abd0-4f1b-9b6b-a48e02c15fad",
        "colab": {
          "base_uri": "https://localhost:8080/"
        }
      },
      "source": [
        "# Recursive\n",
        "\n",
        "def powers_of_2_rec_helper(upto, n):\n",
        "  if upto > n:\n",
        "    return []\n",
        "  else:\n",
        "    return [upto] + powers_of_2_rec_helper(upto * 2, n)\n",
        "    \n",
        "\n",
        "def powers_of_2_rec(n):\n",
        "  return powers_of_2_rec_helper(1, n)\n",
        "\n",
        "powers_of_2_rec(32767)"
      ],
      "execution_count": 14,
      "outputs": [
        {
          "output_type": "execute_result",
          "data": {
            "text/plain": [
              "[1, 2, 4, 8, 16, 32, 64, 128, 256, 512, 1024, 2048, 4096, 8192, 16384]"
            ]
          },
          "metadata": {
            "tags": []
          },
          "execution_count": 14
        }
      ]
    },
    {
      "cell_type": "markdown",
      "metadata": {
        "id": "RYwL233VMxyc"
      },
      "source": [
        "Write a function which returns `True` if the given text is a palindrome, and `False` otherwise."
      ]
    },
    {
      "cell_type": "code",
      "metadata": {
        "id": "6WzVxQWKM5U7",
        "outputId": "49401399-f1c9-4cb5-bba1-d5cfdc7b0915",
        "colab": {
          "base_uri": "https://localhost:8080/"
        }
      },
      "source": [
        "# Iterative\n",
        "\n",
        "def is_palindrome(text):\n",
        "  lo = 0\n",
        "  hi = len(text) - 1\n",
        "  while lo < hi:\n",
        "    print(\"lo is \"+str(lo)+\" and hi is \"+str(hi))\n",
        "    if text[lo] != text[hi]:\n",
        "      return False\n",
        "    lo = lo + 1\n",
        "    hi = hi - 1\n",
        "  return True\n",
        "\n",
        "\n",
        "\n",
        "assert is_palindrome(\"kayak\") == True\n",
        "\n",
        "'''\n",
        "k a y a k\n",
        "0 1 2 3 4\n",
        "'''\n",
        "\n",
        "#assert is_palindrome(\"\") == True\n",
        "#assert is_palindrome(\"hannah\") == True\n",
        "#assert is_palindrome(\"abcdefg\") == False"
      ],
      "execution_count": 22,
      "outputs": [
        {
          "output_type": "stream",
          "text": [
            "lo is 0 and hi is 4\n",
            "lo is 1 and hi is 3\n"
          ],
          "name": "stdout"
        }
      ]
    },
    {
      "cell_type": "code",
      "metadata": {
        "id": "pqMbXSZP3eB0"
      },
      "source": [
        "# Recursive\n",
        "\n",
        "def is_palindrome(text):\n",
        "  if len(text) <= 1:\n",
        "    return True\n",
        "  else:\n",
        "    if text[0] != text[-1]:\n",
        "      return False\n",
        "    else:\n",
        "      return is_palindrome(text[1:-1])\n",
        "\n",
        "assert is_palindrome(\"kayak\") == True\n",
        "assert is_palindrome(\"\") == True\n",
        "assert is_palindrome(\"hannah\") == True\n",
        "assert is_palindrome(\"abcdefg\") == False"
      ],
      "execution_count": 19,
      "outputs": []
    },
    {
      "cell_type": "code",
      "metadata": {
        "id": "U4VflCNM3-FD"
      },
      "source": [
        "# Recursive\n",
        "\n",
        "def is_palindrome(text):\n",
        "  if len(text) <= 1:\n",
        "    return True\n",
        "  else:\n",
        "    return text[0] == text[-1] and is_palindrome(text[1:-1])\n",
        "    #if text[0] != text[-1]:\n",
        "    #  return False\n",
        "    #else:\n",
        "    #  return is_palindrome(text[1:-1])\n",
        "\n",
        "assert is_palindrome(\"kayak\") == True\n",
        "assert is_palindrome(\"\") == True\n",
        "assert is_palindrome(\"hannah\") == True\n",
        "assert is_palindrome(\"abcdefg\") == False"
      ],
      "execution_count": 20,
      "outputs": []
    },
    {
      "cell_type": "code",
      "metadata": {
        "id": "JeJpojSG4H8u"
      },
      "source": [
        "# Recursive\n",
        "\n",
        "def is_palindrome(text):\n",
        "  return len(text) <= 1 or (text[0] == text[-1] and is_palindrome(text[1:-1]))\n",
        "  #if len(text) <= 1:\n",
        "  #  return True\n",
        "  #else:\n",
        "  #  return text[0] == text[-1] and is_palindrome(text[1:-1])\n",
        "\n",
        "\n",
        "assert is_palindrome(\"kayak\") == True\n",
        "assert is_palindrome(\"\") == True\n",
        "assert is_palindrome(\"hannah\") == True\n",
        "assert is_palindrome(\"abcdefg\") == False"
      ],
      "execution_count": 21,
      "outputs": []
    },
    {
      "cell_type": "markdown",
      "metadata": {
        "id": "ZrAgp3PSCDth"
      },
      "source": [
        "# Web Server\n",
        "\n",
        "Implement a web server with a single page containing a counter.\n",
        "\n",
        "See `counter_server.py`."
      ]
    },
    {
      "cell_type": "markdown",
      "metadata": {
        "id": "Ojg_3ghHNE5y"
      },
      "source": [
        "Write a web app for Tic Tac Toe or for Splitting the Bill or for anything suggested. (Note: if it gets done now, you can't do it for your project.)\n",
        "\n",
        "Go through the process of:\n",
        "* Proposal\n",
        "* User interface design\n",
        "* Implementation and testing"
      ]
    },
    {
      "cell_type": "code",
      "metadata": {
        "id": "2PNf93i5NF8t"
      },
      "source": [
        ""
      ],
      "execution_count": null,
      "outputs": []
    }
  ]
}