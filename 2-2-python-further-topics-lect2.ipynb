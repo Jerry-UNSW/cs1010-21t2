{
  "nbformat": 4,
  "nbformat_minor": 0,
  "metadata": {
    "colab": {
      "name": "2-2-python-further-topics.ipynb",
      "provenance": [],
      "toc_visible": true,
      "authorship_tag": "ABX9TyMvrApaseRTLBfjoXa4WkwU",
      "include_colab_link": true
    },
    "kernelspec": {
      "name": "python3",
      "display_name": "Python 3.9.5 64-bit"
    },
    "language_info": {
      "name": "python",
      "version": "3.9.5"
    },
    "interpreter": {
      "hash": "aee8b7b246df8f9039afb4144a1f6fd8d2ca17a180786b69acc140d282b71a49"
    }
  },
  "cells": [
    {
      "cell_type": "markdown",
      "metadata": {
        "id": "view-in-github",
        "colab_type": "text"
      },
      "source": [
        "<a href=\"https://colab.research.google.com/github/sim-mautner/cs1010-21t2/blob/main/2-2-python-further-topics.ipynb\" target=\"_parent\"><img src=\"https://colab.research.google.com/assets/colab-badge.svg\" alt=\"Open In Colab\"/></a>"
      ]
    },
    {
      "cell_type": "markdown",
      "metadata": {
        "id": "fakjNkjqCG5-"
      },
      "source": [
        "> Python Further Topics<br>\n",
        "> COMP1010 2021 T2<br>"
      ]
    },
    {
      "cell_type": "markdown",
      "metadata": {
        "id": "23RbVs1EYKG8"
      },
      "source": [
        "# Pandas and Plotly (a detour into Musk tweets)"
      ]
    },
    {
      "cell_type": "markdown",
      "metadata": {
        "id": "64L1yVQnEK21"
      },
      "source": [
        "### Import tweets"
      ]
    },
    {
      "cell_type": "markdown",
      "metadata": {
        "id": "5iONl3mxYRzF"
      },
      "source": [
        "This code cell creates a list from some of Elon Musk's tweets. \n",
        "\n",
        "*You're not expected to completely understand this code yet. It's only here to give us interesting data*."
      ]
    },
    {
      "cell_type": "code",
      "metadata": {
        "id": "T2UcZXKtYXBb"
      },
      "source": [
        "import pandas\n",
        "\n",
        "raw_tweets = pandas.read_csv('https://raw.githubusercontent.com/sim-mautner/cs1010-21t2/main/data/elonmusk.csv')\n",
        "elon_tweets = list(raw_tweets.tweet)"
      ],
      "execution_count": null,
      "outputs": []
    },
    {
      "cell_type": "markdown",
      "metadata": {
        "id": "6IRAcDXzENBV"
      },
      "source": [
        "### Questions"
      ]
    },
    {
      "cell_type": "markdown",
      "metadata": {
        "id": "SSEDVtEdQ1o9"
      },
      "source": [
        "How many tweets are there in our dataset?"
      ]
    },
    {
      "cell_type": "code",
      "metadata": {
        "id": "9IH7gp4PQ4Ko"
      },
      "source": [],
      "execution_count": null,
      "outputs": []
    },
    {
      "cell_type": "markdown",
      "metadata": {
        "id": "3-x1Sk2AaR9q"
      },
      "source": [
        "In what tweets has Elon Musk said \"simulation\"?"
      ]
    },
    {
      "cell_type": "code",
      "metadata": {
        "id": "RTKak5pvaXDo"
      },
      "source": [],
      "execution_count": null,
      "outputs": []
    },
    {
      "cell_type": "markdown",
      "metadata": {
        "id": "HUVyHkreaOz7"
      },
      "source": [
        "What emoji does Elon Musk use?"
      ]
    },
    {
      "cell_type": "code",
      "metadata": {
        "id": "3w8EAUQaaoGz"
      },
      "source": [],
      "execution_count": null,
      "outputs": []
    },
    {
      "cell_type": "markdown",
      "metadata": {
        "id": "Yzz3BH7ia4VY"
      },
      "source": [
        "Can we build a dictionary counting how often Elon Musk uses each Emoji?"
      ]
    },
    {
      "cell_type": "code",
      "metadata": {
        "id": "YNYeEqDYa_Hw"
      },
      "source": [],
      "execution_count": null,
      "outputs": []
    },
    {
      "cell_type": "markdown",
      "metadata": {
        "id": "tCkMvSwwbI3H"
      },
      "source": [
        "Can we plot it?"
      ]
    },
    {
      "cell_type": "code",
      "metadata": {
        "id": "cr0SzU9WbKBW"
      },
      "source": [],
      "execution_count": null,
      "outputs": []
    },
    {
      "cell_type": "markdown",
      "metadata": {
        "id": "EXteVdg6czQQ"
      },
      "source": [
        "What about only the most frequently used ones?"
      ]
    },
    {
      "cell_type": "code",
      "metadata": {
        "id": "Mqz1ozAKbYvG"
      },
      "source": [],
      "execution_count": null,
      "outputs": []
    },
    {
      "cell_type": "markdown",
      "metadata": {
        "id": "E_NZ3hENDnVP"
      },
      "source": [
        "# Data Types: None\n",
        "\n",
        "None is a special value in Python we can use to represent values that are unknown.\n",
        "\n",
        "**Important Info**:\n",
        "\n",
        "* The type of `None` is `NoneType`. It is the only value of that type.\n",
        "* Python has special support for dealing with `None` values in `if` statements."
      ]
    },
    {
      "cell_type": "markdown",
      "metadata": {
        "id": "scgOs3yeDtti"
      },
      "source": [
        "Write a function `maximum(numbers)` that finds the maximum number in a list."
      ]
    },
    {
      "cell_type": "code",
      "metadata": {
        "id": "EkigXAXzDvyf"
      },
      "source": [],
      "execution_count": null,
      "outputs": []
    },
    {
      "cell_type": "markdown",
      "metadata": {
        "id": "qLo32k-UFEqq"
      },
      "source": [
        "# Tuples\n",
        "\n",
        "In Python, Tuples are like lists, with on key difference. They are *immutable*. That means they cannot be changed after they have been created. In this way, they are similar to strings. They are created (defined) using the () (rather than [ ] like in lists and { } like in dictionaries)."
      ]
    },
    {
      "cell_type": "markdown",
      "metadata": {
        "id": "RVpz4unYJtf0"
      },
      "source": [
        "# Exceptions\n",
        "\n",
        "When things go wrong..."
      ]
    },
    {
      "cell_type": "markdown",
      "metadata": {
        "id": "5fNllqHELp79"
      },
      "source": [
        "* An exception is an action that disrupts\n",
        "the normal flow of a program.\n",
        "* This action\n",
        "is often representative of an error being\n",
        "thrown.\n",
        "* Exceptions are ways that we can\n",
        "elegantly recover from errors."
      ]
    },
    {
      "cell_type": "markdown",
      "metadata": {
        "id": "stVDEaVnQVX-"
      },
      "source": [
        "Where have we seen exceptions before?"
      ]
    },
    {
      "cell_type": "code",
      "metadata": {
        "id": "VEXE9kbSJ2wp"
      },
      "source": [],
      "execution_count": null,
      "outputs": []
    },
    {
      "cell_type": "markdown",
      "metadata": {
        "id": "zk8p6k5nQUZ3"
      },
      "source": [
        "Can we recover from this more elegantly? (And even keep going with our program?)"
      ]
    },
    {
      "cell_type": "code",
      "metadata": {
        "id": "xKo_ISZKJ61v"
      },
      "source": [],
      "execution_count": null,
      "outputs": []
    },
    {
      "cell_type": "markdown",
      "metadata": {
        "id": "eCT50GU7MtWV"
      },
      "source": [
        "Can we print out details of the exception?"
      ]
    },
    {
      "cell_type": "code",
      "metadata": {
        "id": "GvdhASaeMvvp"
      },
      "source": [],
      "execution_count": null,
      "outputs": []
    },
    {
      "cell_type": "markdown",
      "metadata": {
        "id": "Q7PoxgLgNKJf"
      },
      "source": [
        "What happens if we are deep inside functions?"
      ]
    },
    {
      "cell_type": "code",
      "metadata": {
        "id": "BYmdOwTGNMvL"
      },
      "source": [],
      "execution_count": null,
      "outputs": []
    },
    {
      "cell_type": "markdown",
      "metadata": {
        "id": "M4xjPjx0PPxG"
      },
      "source": [
        "`else` and `finally`"
      ]
    },
    {
      "cell_type": "code",
      "metadata": {
        "id": "UXnCbJzOPVCg"
      },
      "source": [],
      "execution_count": null,
      "outputs": []
    },
    {
      "cell_type": "markdown",
      "metadata": {
        "id": "BNsv7x3dLJom"
      },
      "source": [
        "# Recursion"
      ]
    },
    {
      "cell_type": "markdown",
      "metadata": {
        "id": "wEzpLPivLSaI"
      },
      "source": [
        "Write a function that, when given a number, prints out that many asterisks."
      ]
    },
    {
      "cell_type": "code",
      "metadata": {
        "id": "RYt3tBQJLWHI"
      },
      "source": [
        "def asterisks(num):\n",
        "    for i in range(num):\n",
        "        print(\"*\",end=\"\")\n",
        "    print()\n",
        "\n",
        "asterisks(5)"
      ],
      "execution_count": 1,
      "outputs": [
        {
          "output_type": "stream",
          "name": "stdout",
          "text": [
            "*****\n"
          ]
        }
      ]
    },
    {
      "cell_type": "markdown",
      "metadata": {
        "id": "0JOvedFlLcld"
      },
      "source": [
        "Wrtie the same function, but use recursion instead."
      ]
    },
    {
      "cell_type": "code",
      "metadata": {
        "id": "qd38W7hSLetP"
      },
      "source": [
        "def asterisks_rec(num):\n",
        "    if num <= 0:\n",
        "        print()\n",
        "        return\n",
        "    else:\n",
        "        print(\"*\",end=\"\")\n",
        "        asterisks_rec(num-1)\n",
        "    \n",
        "asterisks_rec(5)"
      ],
      "execution_count": 2,
      "outputs": [
        {
          "output_type": "stream",
          "name": "stdout",
          "text": [
            "*****\n"
          ]
        }
      ]
    },
    {
      "cell_type": "markdown",
      "metadata": {
        "id": "LUUqrM8VLWpM"
      },
      "source": [
        "Write a function that, when given a number, returns a string with that many asterisks."
      ]
    },
    {
      "cell_type": "code",
      "metadata": {
        "id": "pLIKCa5ZLaZ3"
      },
      "source": [
        "# Iterative\n",
        "def aster_string(num):\n",
        "    result = \"\"\n",
        "    i = 0\n",
        "    while i < num:\n",
        "        #result = result + \"*\"\n",
        "        result += \"*\"\n",
        "        i += 1\n",
        "    return result\n",
        "\n",
        "print(f\"my string is: {aster_string(12)} how cool is that?\")"
      ],
      "execution_count": 9,
      "outputs": [
        {
          "output_type": "stream",
          "name": "stdout",
          "text": [
            "my string is: ************ how cool is that?\n"
          ]
        }
      ]
    },
    {
      "cell_type": "code",
      "metadata": {
        "id": "ZtEdNYzvL3yy"
      },
      "source": [
        "# Recursive\n",
        "def aster_string_rec(num):\n",
        "    if num <= 0:\n",
        "        return \"\"\n",
        "    else:\n",
        "        smaller_string = aster_string_rec(num-1)\n",
        "        return \"*\" + smaller_string\n",
        "\n",
        "print(aster_string_rec(5))"
      ],
      "execution_count": 6,
      "outputs": [
        {
          "output_type": "stream",
          "name": "stdout",
          "text": [
            "*****\n"
          ]
        }
      ]
    },
    {
      "cell_type": "markdown",
      "metadata": {
        "id": "3QXDpZjYyxAZ"
      },
      "source": [
        "Write a function that, when given a number, prints out the numbers up to that number."
      ]
    },
    {
      "cell_type": "code",
      "metadata": {
        "id": "kITOwebHywob"
      },
      "source": [
        "# Iterative\n",
        "def nums_up_to(num):\n",
        "    for i in range(num):\n",
        "        print(f\"{i}\",end=\"\")\n",
        "    print()\n",
        "\n",
        "nums_up_to(5)"
      ],
      "execution_count": 7,
      "outputs": [
        {
          "output_type": "stream",
          "name": "stdout",
          "text": [
            "01234\n"
          ]
        }
      ]
    },
    {
      "cell_type": "code",
      "metadata": {
        "id": "UQovWlSky3R-"
      },
      "source": [
        "# Recursive\n",
        "def nums_up_to_rec(num):\n",
        "    if num < 0:\n",
        "        print()\n",
        "        return\n",
        "    else:\n",
        "        # Print all the numbers up to the one I'm given\n",
        "        # Eg given 5, print 0-4 first\n",
        "        nums_up_to_rec(num-1)\n",
        "        print(num,end=\"\")\n",
        "\n",
        "nums_up_to_rec(5)"
      ],
      "execution_count": 10,
      "outputs": [
        {
          "output_type": "stream",
          "name": "stdout",
          "text": [
            "\n012345"
          ]
        }
      ]
    },
    {
      "cell_type": "markdown",
      "metadata": {
        "id": "QSX3qbxOL0ND"
      },
      "source": [
        "Write a function that computes the factorial of a given number"
      ]
    },
    {
      "source": [
        "```\n",
        "Factorial is:\n",
        "0! = 1\n",
        "1! = 1\n",
        "2! = 1 x 2 = 2\n",
        "3! = 1 x 2 x 3 = 6\n",
        "4! = 1 x 2 x 3 x 4 = 24\n",
        "5! = 1 x 2 x 3 x 4 x 5 = 120\n",
        "```"
      ],
      "cell_type": "markdown",
      "metadata": {}
    },
    {
      "cell_type": "code",
      "metadata": {
        "id": "JIK-XpPCL1MA"
      },
      "source": [
        "# Iterative\n",
        "def factorial(num):\n",
        "    result = 1\n",
        "    for i in range(1, num+1):\n",
        "        #print(f\"multiplying by: {i}\")\n",
        "        result = result * i\n",
        "    return result\n",
        "\n",
        "factorial(5)"
      ],
      "execution_count": 12,
      "outputs": [
        {
          "output_type": "execute_result",
          "data": {
            "text/plain": [
              "120"
            ]
          },
          "metadata": {},
          "execution_count": 12
        }
      ]
    },
    {
      "cell_type": "code",
      "metadata": {
        "id": "Asj31SlpL7d6"
      },
      "source": [
        "# Recursive\n",
        "def factorial_rec(num):\n",
        "    if num < 0:\n",
        "        # TODO raise an exception\n",
        "        pass\n",
        "    elif num == 0:\n",
        "        return 1\n",
        "    elif num == 1:\n",
        "        return 1\n",
        "    else:\n",
        "        smaller_factorial = factorial_rec(num-1)\n",
        "        return num * smaller_factorial\n",
        "        # return num * factorial_rec(num-1)\n",
        "\n",
        "factorial_rec(5)"
      ],
      "execution_count": 15,
      "outputs": [
        {
          "output_type": "execute_result",
          "data": {
            "text/plain": [
              "120"
            ]
          },
          "metadata": {},
          "execution_count": 15
        }
      ]
    },
    {
      "cell_type": "markdown",
      "metadata": {
        "id": "XOv4LnJ0LOQw"
      },
      "source": [
        "Write a function that, when given a list, returns a new list that is the reverse of it."
      ]
    },
    {
      "cell_type": "code",
      "metadata": {
        "id": "lFTK4fTQLROP"
      },
      "source": [
        "# Iterative\n",
        "def reverse_list(items):\n",
        "    result = []\n",
        "    for item in items:\n",
        "        result = [item] + result\n",
        "    return result\n",
        "\n",
        "reverse_list([1,2,3])"
      ],
      "execution_count": 16,
      "outputs": [
        {
          "output_type": "execute_result",
          "data": {
            "text/plain": [
              "[3, 2, 1]"
            ]
          },
          "metadata": {},
          "execution_count": 16
        }
      ]
    },
    {
      "cell_type": "code",
      "execution_count": 17,
      "metadata": {},
      "outputs": [
        {
          "output_type": "execute_result",
          "data": {
            "text/plain": [
              "[10, 9, 8, 7]"
            ]
          },
          "metadata": {},
          "execution_count": 17
        }
      ],
      "source": [
        "# Iterative\n",
        "def reverse_list_2(items):\n",
        "    result = []\n",
        "    i = len(items)-1\n",
        "    while i >= 0:\n",
        "        result.append(items[i])\n",
        "        i -= 1\n",
        "    return result\n",
        "\n",
        "reverse_list_2([7,8,9,10])"
      ]
    },
    {
      "cell_type": "code",
      "metadata": {
        "id": "gI8131NmL-Ki"
      },
      "source": [
        "# Recursive\n",
        "def reverse_list_rec(items):\n",
        "    if len(items) == 0:\n",
        "        return []\n",
        "    else:\n",
        "        # reverse the rest of the list (except the first element (element 0))\n",
        "        smaller_list = reverse_list_rec(items[1:])\n",
        "        # add element 0 on to the end of the new list\n",
        "        smaller_list.append(items[0])\n",
        "        # (now smaller list is our final list to return)\n",
        "        return smaller_list\n",
        "\n",
        "reverse_list_rec([1,3,5])"
      ],
      "execution_count": 18,
      "outputs": [
        {
          "output_type": "execute_result",
          "data": {
            "text/plain": [
              "[5, 3, 1]"
            ]
          },
          "metadata": {},
          "execution_count": 18
        }
      ]
    }
  ]
}