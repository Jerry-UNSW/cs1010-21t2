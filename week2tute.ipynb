{
  "nbformat": 4,
  "nbformat_minor": 0,
  "metadata": {
    "colab": {
      "name": "week2tute.ipynb",
      "provenance": [],
      "authorship_tag": "ABX9TyP5mSOxP9czyMJaa7I+xcvp",
      "include_colab_link": true
    },
    "kernelspec": {
      "name": "python3",
      "display_name": "Python 3"
    },
    "language_info": {
      "name": "python"
    }
  },
  "cells": [
    {
      "cell_type": "markdown",
      "metadata": {
        "id": "view-in-github",
        "colab_type": "text"
      },
      "source": [
        "<a href=\"https://colab.research.google.com/github/sim-mautner/cs1010-21t2/blob/main/week2tute.ipynb\" target=\"_parent\"><img src=\"https://colab.research.google.com/assets/colab-badge.svg\" alt=\"Open In Colab\"/></a>"
      ]
    },
    {
      "cell_type": "markdown",
      "metadata": {
        "id": "isdUfdAwJLVt"
      },
      "source": [
        "# Week 2 Tutorial"
      ]
    },
    {
      "cell_type": "markdown",
      "metadata": {
        "id": "mx_atH3vJekl"
      },
      "source": [
        "## Fixing Python\n",
        "\n",
        "The following problems all have solutions written in Python. However, they contain bugs that stop them from working correctly. Try to identify the bug and fix them."
      ]
    },
    {
      "cell_type": "markdown",
      "metadata": {
        "id": "Dv2mr0G3JseG"
      },
      "source": [
        "How many characters are there in this quote?"
      ]
    },
    {
      "cell_type": "code",
      "metadata": {
        "id": "SW0Bi8XsEBUR"
      },
      "source": [
        "quote = \"This isn’t flying. This is falling with style.\"\n",
        "\n",
        "quote.len()"
      ],
      "execution_count": null,
      "outputs": []
    },
    {
      "cell_type": "markdown",
      "metadata": {
        "id": "jpXEVSKPEBUR"
      },
      "source": [
        "How many 9s are in the decimal representation of this number?"
      ]
    },
    {
      "cell_type": "code",
      "metadata": {
        "id": "96Wx70mGEBUR"
      },
      "source": [
        "a big number = 87609809843907458937469\n",
        "\n",
        "str(a big number).count(\"9\")"
      ],
      "execution_count": null,
      "outputs": []
    },
    {
      "cell_type": "markdown",
      "metadata": {
        "id": "JOWqD3V2EBUS"
      },
      "source": [
        "If factory produces 500 cars in 30 days, how many cars are they producing an hour, on average, assuming the factory operates for 8 hours a day?"
      ]
    },
    {
      "cell_type": "code",
      "metadata": {
        "id": "VHxQDyfAEBUS"
      },
      "source": [
        "500 / 30*8"
      ],
      "execution_count": null,
      "outputs": []
    }
  ]
}