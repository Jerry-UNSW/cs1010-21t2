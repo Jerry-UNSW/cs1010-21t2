{
  "nbformat": 4,
  "nbformat_minor": 0,
  "metadata": {
    "language_info": {
      "codemirror_mode": {
        "name": "ipython",
        "version": 3
      },
      "file_extension": ".py",
      "mimetype": "text/x-python",
      "name": "python",
      "nbconvert_exporter": "python",
      "pygments_lexer": "ipython3",
      "version": "3.9.0-final"
    },
    "orig_nbformat": 2,
    "kernelspec": {
      "name": "python3",
      "display_name": "Python 3.9.0 64-bit",
      "metadata": {
        "interpreter": {
          "hash": "ac2eaa0ea0ebeafcc7822e65e46aa9d4f966f30b695406963e145ea4a91cd4fc"
        }
      }
    },
    "colab": {
      "name": "week5lab.ipynb",
      "provenance": [],
      "include_colab_link": true
    }
  },
  "cells": [
    {
      "cell_type": "markdown",
      "metadata": {
        "id": "view-in-github",
        "colab_type": "text"
      },
      "source": [
        "<a href=\"https://colab.research.google.com/github/sim-mautner/cs1010-21t2/blob/main/tutes-and-labs/week5lab.ipynb\" target=\"_parent\"><img src=\"https://colab.research.google.com/assets/colab-badge.svg\" alt=\"Open In Colab\"/></a>"
      ]
    },
    {
      "cell_type": "markdown",
      "metadata": {
        "id": "u2WhDvLUEben"
      },
      "source": [
        "# Week 5 Lab (? marks)\n",
        "\n",
        "**IMPORTANT NOTE** If you're using Colaboratory, make sure you save a copy of these exercises to Google drive by clicking 'Copy to Drive' at the top of the page. Otherwise, your answers will not be saved."
      ]
    },
    {
      "cell_type": "markdown",
      "metadata": {
        "id": "rNFV8k4eMM69"
      },
      "source": [
        "## Dictionaries (1 mark)\n",
        "\n",
        "Write functions in the cells provided to answer the following questions."
      ]
    },
    {
      "cell_type": "markdown",
      "metadata": {
        "id": "z8FhEgnvMM6-"
      },
      "source": [
        "### Dictionary Access\n",
        "\n",
        "Write a function, `young_john(people)`, that returns `True` if the dictionary `people` contains the key `\"John\"` with a value of `19`. It should return `False` otherwise."
      ]
    },
    {
      "cell_type": "code",
      "metadata": {
        "id": "0W5X12FeMM6_"
      },
      "source": [
        ""
      ],
      "execution_count": null,
      "outputs": []
    },
    {
      "cell_type": "markdown",
      "metadata": {
        "id": "LS4DCQW0MM6_"
      },
      "source": [
        "Use this cell to test if your function works."
      ]
    },
    {
      "cell_type": "code",
      "metadata": {
        "id": "PEISR0YlMM7A"
      },
      "source": [
        "assert young_john({ \"Rob\": 31, \"Sarah\": 24, \"Chen\": 20, \"John\": 19})\n",
        "assert not young_john({ \"Rob\": 31, \"Sarah\": 19, \"Chen\": 20, \"James\": 22})\n",
        "assert not young_john({ \"Rob\": 31, \"Sarah\": 24, \"Chen\": 20, \"John\": 23})"
      ],
      "execution_count": null,
      "outputs": []
    },
    {
      "cell_type": "markdown",
      "metadata": {
        "id": "jT-1XfIYMM7A"
      },
      "source": [
        "### Generalised card game\n",
        "\n",
        "Consider a game where certain cards are worth a certain number of points. Write a function, `score(card_points, cards)`, that takes in a dictionary representing the points for each card and a list of strings and calculates the total score for that list. You can assume that if a card is not in `card_points`, it is not worth any points. Examples of how the function is used are in the testing cell below."
      ]
    },
    {
      "cell_type": "code",
      "metadata": {
        "id": "4xQ2XRVqMM7B"
      },
      "source": [
        ""
      ],
      "execution_count": null,
      "outputs": []
    },
    {
      "cell_type": "markdown",
      "metadata": {
        "id": "V-c29c93MM7B"
      },
      "source": [
        "Use the cell below to test if your function works."
      ]
    },
    {
      "cell_type": "code",
      "metadata": {
        "id": "udZml6enMM7B"
      },
      "source": [
        "assert score({\"Ace\": 5, \"King\": 3, \"Queen\": 2, \"Jack\": 1 },\n",
        "             [\"10\", \"Jack\", \"Ace\", \"King\", \"Queen\", \"King\", \"3\"]) == 14\n",
        "assert score({\"Fire\": 2, \"Wind\": 1, \"Water\": 1, \"Earth\": 3 },\n",
        "             [\"Fire\", \"Fire\", \"Wind\", \"Water\", \"Earth\"]) == 9"
      ],
      "execution_count": null,
      "outputs": []
    },
    {
      "cell_type": "markdown",
      "metadata": {
        "id": "pns2rTEsMM7B"
      },
      "source": [
        "## Nested Structures (1 mark)\n",
        "\n",
        "The following dictionary contains some courses and the list of tutorials for each of them."
      ]
    },
    {
      "cell_type": "code",
      "metadata": {
        "id": "kWGfJ_UyMM7C"
      },
      "source": [
        "first_year_courses = { \"COMP1010\": [\"T15A\", \"T17A\", \"T18A\"], \"FINS1612\": [\"M11A\", \"W12A\"], \"FINS1613\": [\"T12A\", \"T12B\", \"F09A\"], \"ACCT1501\": [\"T10A\", \"F15A\"], \"INFS3605\": [\"M10A\", \"T15A\", \"W12A\", \"W12B\"] }"
      ],
      "execution_count": null,
      "outputs": []
    },
    {
      "cell_type": "markdown",
      "metadata": {
        "id": "ssBTJtP2MM7C"
      },
      "source": [
        "What is the first tutorial for COMP1010?"
      ]
    },
    {
      "cell_type": "code",
      "metadata": {
        "id": "usenLTcCMM7C"
      },
      "source": [
        ""
      ],
      "execution_count": null,
      "outputs": []
    },
    {
      "cell_type": "markdown",
      "metadata": {
        "id": "6lv5FCXKMM7E"
      },
      "source": [
        "Construct a list containing all the courses that have exactly 3 tutorials. You should get this as a result:\n",
        "```\n",
        "[\"COMP1010\", \"FINS1613\"]"
      ]
    },
    {
      "cell_type": "code",
      "metadata": {
        "id": "gKjGLXxeMM7E"
      },
      "source": [
        ""
      ],
      "execution_count": null,
      "outputs": []
    },
    {
      "cell_type": "markdown",
      "metadata": {
        "id": "pBXuc2xTMM7F"
      },
      "source": [
        "Construct a list containing all the courses with a tutorial on a Tuesday (i.e. the tutorial code starts with a 'T'). You should get this as a result:\n",
        "```\n",
        "[\"COMP1010\", \"FINS1613\", \"ACCT1501\", \"INFS3605\"]\n",
        "```\n",
        "\n",
        "**Hint**: Depending on how you approach this, you may need a nested loop."
      ]
    },
    {
      "cell_type": "code",
      "metadata": {
        "id": "h5DMg6GlMM7F"
      },
      "source": [
        ""
      ],
      "execution_count": null,
      "outputs": []
    },
    {
      "cell_type": "markdown",
      "metadata": {
        "id": "cVDWfgkuMM7F"
      },
      "source": [
        "## While loops (1 mark)\n",
        "\n",
        "Write a function, `odd_sum_while(n)` that computes all the positive *odd* numbers less than `n` with a `while` loop.\n",
        "\n",
        "*Note*: You could do this with a `for` loop, but you should do it with a `while` loop for practice. "
      ]
    },
    {
      "cell_type": "code",
      "metadata": {
        "id": "SNKmhCo5MM7F"
      },
      "source": [
        ""
      ],
      "execution_count": null,
      "outputs": []
    },
    {
      "cell_type": "code",
      "metadata": {
        "id": "zVC6P0HgMM7G"
      },
      "source": [
        ""
      ],
      "execution_count": null,
      "outputs": []
    },
    {
      "cell_type": "markdown",
      "metadata": {
        "id": "S6fFhHlhMM7G"
      },
      "source": [
        "Use this cell to test whether you have implemented the function correctly."
      ]
    },
    {
      "cell_type": "code",
      "metadata": {
        "id": "goh75VtPMM7G"
      },
      "source": [
        "assert odd_sum_while(10) == 25"
      ],
      "execution_count": null,
      "outputs": []
    },
    {
      "cell_type": "markdown",
      "metadata": {
        "id": "iYvhM4i9MM7H"
      },
      "source": [
        "## Challenge\n",
        "\n",
        "**NOTE:** This question is **NOT** worth any marks and is meant to present a significant challenge. It's here for those who wish to extend themselves. Even if you're not able to solve it, you may find giving it a try good practice and you can always come back to it in later weeks. "
      ]
    },
    {
      "cell_type": "markdown",
      "metadata": {
        "id": "pA6CLAX1MM7H"
      },
      "source": [
        "The following cell constructs the map of \"Romania\" as a dictionary of dictioanries."
      ]
    },
    {
      "cell_type": "code",
      "metadata": {
        "id": "O_xhPA1HMM7H"
      },
      "source": [
        "romania = {\n",
        "    'Arad': { 'Zerind': 75, 'Sibiu': 140, 'Timisoara': 118 },\n",
        "    'Zerind': { 'Arad': 75, 'Oradea': 71 },\n",
        "    'Sibiu': { 'Arad': 140, 'Oradea': 151, 'Fagaras': 99, 'Rimnicu Vilcea': 80 },\n",
        "    'Timisoara': { 'Arad': 118, 'Lugoj': 111 },\n",
        "    'Oradea': { 'Zerind': 71, 'Sibiu': 151 },\n",
        "    'Lugoj': { 'Timisoara': 111, 'Mehadia': 70 },\n",
        "    'Fagaras': { 'Sibiu': 99, 'Bucharest': 211 },\n",
        "    'Rimnicu Vilcea': { 'Sibiu': 80, 'Pitesti': 97, 'Craiova': 146 },\n",
        "    'Mehadia': { 'Lugoj': 70, 'Dobreta': 75 },\n",
        "    'Bucharest': { 'Fagaras': 211, 'Pitesti': 101, 'Urziceni': 85, 'Giurglu': 90 },\n",
        "    'Pitesti': { 'Rimnicu Vilcea': 97, 'Bucharest': 101, 'Craiova': 138 },\n",
        "    'Craiova': { 'Rimnicu Vilcea': 146, 'Pitesti': 138, 'Dobreta': 120 },\n",
        "    'Dobreta': { 'Mehadia': 75, 'Craiova': 120 },\n",
        "    'Urziceni': { 'Bucharest': 85, 'Hirsova': 98, 'Vaslui': 142 },\n",
        "    'Giurglu': { 'Bucharest': 90 },\n",
        "    'Hirsova': { 'Urziceni': 98, 'Eforie': 86 },\n",
        "    'Vaslui': { 'Urziceni': 142, 'Lasi': 92 },\n",
        "    'Eforie': { 'Hirsova': 86 },\n",
        "    'Lasi': { 'Vaslui': 92, 'Neamt': 87 },\n",
        "    'Neamt': { 'Lasi': 87 }\n",
        "}"
      ],
      "execution_count": null,
      "outputs": []
    },
    {
      "cell_type": "markdown",
      "metadata": {
        "id": "KceGYJCwMM7I"
      },
      "source": [
        "Write a function, `nearby(city)`, that returns a list containing all the cities within a 300 mile trip of the the given city, assuming you can only travel along the roads given. "
      ]
    },
    {
      "cell_type": "code",
      "metadata": {
        "id": "4SrHDa2ZMM7J"
      },
      "source": [
        ""
      ],
      "execution_count": null,
      "outputs": []
    }
  ]
}