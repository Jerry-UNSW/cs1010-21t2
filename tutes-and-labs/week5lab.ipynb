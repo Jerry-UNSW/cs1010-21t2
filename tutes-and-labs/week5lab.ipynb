{
  "nbformat": 4,
  "nbformat_minor": 0,
  "metadata": {
    "language_info": {
      "codemirror_mode": {
        "name": "ipython",
        "version": 3
      },
      "file_extension": ".py",
      "mimetype": "text/x-python",
      "name": "python",
      "nbconvert_exporter": "python",
      "pygments_lexer": "ipython3",
      "version": "3.9.0-final"
    },
    "orig_nbformat": 2,
    "kernelspec": {
      "name": "python3",
      "display_name": "Python 3.9.0 64-bit",
      "metadata": {
        "interpreter": {
          "hash": "ac2eaa0ea0ebeafcc7822e65e46aa9d4f966f30b695406963e145ea4a91cd4fc"
        }
      }
    },
    "colab": {
      "name": "week5lab.ipynb",
      "provenance": [],
      "include_colab_link": true
    }
  },
  "cells": [
    {
      "cell_type": "markdown",
      "metadata": {
        "id": "view-in-github",
        "colab_type": "text"
      },
      "source": [
        "<a href=\"https://colab.research.google.com/github/sim-mautner/cs1010-21t2/blob/main/tutes-and-labs/week5lab.ipynb\" target=\"_parent\"><img src=\"https://colab.research.google.com/assets/colab-badge.svg\" alt=\"Open In Colab\"/></a>"
      ]
    },
    {
      "cell_type": "markdown",
      "metadata": {
        "id": "u2WhDvLUEben"
      },
      "source": [
        "# Week 5 Lab (? marks)\n",
        "\n",
        "**IMPORTANT NOTE** If you're using Colaboratory, make sure you save a copy of these exercises to Google drive by clicking 'Copy to Drive' at the top of the page. Otherwise, your answers will not be saved."
      ]
    }
  ]
}