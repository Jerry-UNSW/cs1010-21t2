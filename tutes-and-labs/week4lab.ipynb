{
  "nbformat": 4,
  "nbformat_minor": 0,
  "metadata": {
    "language_info": {
      "codemirror_mode": {
        "name": "ipython",
        "version": 3
      },
      "file_extension": ".py",
      "mimetype": "text/x-python",
      "name": "python",
      "nbconvert_exporter": "python",
      "pygments_lexer": "ipython3",
      "version": "3.9.0-final"
    },
    "orig_nbformat": 2,
    "kernelspec": {
      "name": "python3",
      "display_name": "Python 3.9.0 64-bit",
      "metadata": {
        "interpreter": {
          "hash": "ac2eaa0ea0ebeafcc7822e65e46aa9d4f966f30b695406963e145ea4a91cd4fc"
        }
      }
    },
    "colab": {
      "name": "week4lab.ipynb",
      "provenance": [],
      "include_colab_link": true
    }
  },
  "cells": [
    {
      "cell_type": "markdown",
      "metadata": {
        "id": "view-in-github",
        "colab_type": "text"
      },
      "source": [
        "<a href=\"https://colab.research.google.com/github/sim-mautner/cs1010-21t2/blob/main/week4lab.ipynb\" target=\"_parent\"><img src=\"https://colab.research.google.com/assets/colab-badge.svg\" alt=\"Open In Colab\"/></a>"
      ]
    },
    {
      "cell_type": "markdown",
      "metadata": {
        "id": "u2WhDvLUEben"
      },
      "source": [
        "# Week 4 Lab (3 marks)\n",
        "\n",
        "**IMPORTANT NOTE** If you're using Colaboratory, make sure you save a copy of these exercises to Google drive by clicking 'Copy to Drive' at the top of the page. Otherwise, your answers will not be saved."
      ]
    },
    {
      "cell_type": "markdown",
      "metadata": {
        "id": "GlpJIIkZlOe8"
      },
      "source": [
        "## Set up Python and Visual Studio Code"
      ]
    },
    {
      "cell_type": "markdown",
      "metadata": {
        "id": "PDGGPQIplTos"
      },
      "source": [
        "If you haven't already, follow the instructions [here](https://webcms3.cse.unsw.edu.au/COMP1010/21T2/resources/61169) to set up Python and Visual Studio Code on your computer.\n",
        "\n",
        "This task is worth no marks, but you will need it for this week's lecture and next week's tutorial and lab."
      ]
    },
    {
      "cell_type": "markdown",
      "metadata": {
        "id": "eBfcPYAnhiMV"
      },
      "source": [
        "## Lists (0.5 marks)\n",
        "\n",
        "Like with strings, Python features many operations that can be performed on lists. These include:\n",
        "\n",
        "* Concatenating (joining together) them with `+`\n",
        "* Replicating (repeating) them with `*`\n",
        "* Indexing them with `[...]`\n",
        "\n",
        "Use these operations on the following list to answer the questions below. They can all be solved **without** loops."
      ]
    },
    {
      "cell_type": "code",
      "metadata": {
        "id": "wZLuLAR2hjKI"
      },
      "source": [
        "students = [\"Sally Studies\", \"Penelope Prepares\", \"Francis Forgets\", \"David Doesn't-Read-Spec\", \"Oliver Overconfident\", \"Larry Leaves-It-To-The-Last-Minute\"]"
      ],
      "execution_count": null,
      "outputs": []
    },
    {
      "cell_type": "markdown",
      "metadata": {
        "id": "UifJl-Dzhnf1"
      },
      "source": [
        "Who is the student at index 2?"
      ]
    },
    {
      "cell_type": "code",
      "metadata": {
        "id": "kXBIqQx-hrG1"
      },
      "source": [
        ""
      ],
      "execution_count": null,
      "outputs": []
    },
    {
      "cell_type": "markdown",
      "metadata": {
        "id": "tCndk72YhpLN"
      },
      "source": [
        "Replace \"David Doesn't-Read-Spec\" with a new student \"Emily Eager\"."
      ]
    },
    {
      "cell_type": "code",
      "metadata": {
        "id": "59zdlvTHhvj9"
      },
      "source": [
        ""
      ],
      "execution_count": null,
      "outputs": []
    },
    {
      "cell_type": "markdown",
      "metadata": {
        "id": "ZnxPCSZ3hvEW"
      },
      "source": [
        "Create a new list with just the first two students repeated 2 times (i.e. `[\"Sally Studies\", \"Penelope Prepares\", \"Sally Studies\", \"Penelope Prepares\"]`)."
      ]
    },
    {
      "cell_type": "code",
      "metadata": {
        "id": "tB_tPkDBhzjP"
      },
      "source": [
        ""
      ],
      "execution_count": null,
      "outputs": []
    },
    {
      "cell_type": "markdown",
      "metadata": {
        "id": "HvHv_2PEh6nN"
      },
      "source": [
        "## For Loops (0.5 marks)"
      ]
    },
    {
      "cell_type": "markdown",
      "metadata": {
        "id": "HuGCNdH_h7ds"
      },
      "source": [
        "Given the following list of words, write a `for... in...` loop in the same cell that joins all the words together in a single string (i.e. \"correcthorsebatterystaple\")"
      ]
    },
    {
      "cell_type": "code",
      "metadata": {
        "id": "V6oLbI_Ih-57"
      },
      "source": [
        "words = [\"correct\", \"horse\", \"battery\", \"staple\"]"
      ],
      "execution_count": null,
      "outputs": []
    },
    {
      "cell_type": "markdown",
      "metadata": {
        "id": "hUIGlA6Gh_hv"
      },
      "source": [
        "Using the same list of words as above, write a loop that calculates $2a + e$ where $a$ is the number of times the letter \"a\" appears in all the words and $e$ is the number of times the letter \"e\" occurs. You should get a result of 8."
      ]
    },
    {
      "cell_type": "code",
      "metadata": {
        "id": "B0tf83i-iCq8"
      },
      "source": [
        ""
      ],
      "execution_count": null,
      "outputs": []
    },
    {
      "cell_type": "markdown",
      "metadata": {
        "id": "oRrzAEktiBP8"
      },
      "source": [
        "Write a for loop that computes the sum of all the numbers in the given list excluding any that are 13 or greater. You should get a result of 37."
      ]
    },
    {
      "cell_type": "code",
      "metadata": {
        "id": "BP2c3kCuiIKk"
      },
      "source": [
        ""
      ],
      "execution_count": null,
      "outputs": []
    },
    {
      "cell_type": "markdown",
      "metadata": {
        "id": "ZD2DSx_gi2uh"
      },
      "source": [
        "# Dictionaries (1 mark)"
      ]
    },
    {
      "cell_type": "markdown",
      "metadata": {
        "id": "Bc2UNmJEi6pi"
      },
      "source": [
        "The following dictionary contains the number of enrolments in a variety of first-year courses."
      ]
    },
    {
      "cell_type": "code",
      "metadata": {
        "id": "Hx9Dqd1pi-EW"
      },
      "source": [
        "first_year_courses = { \"COMP1010\": 45, \"COMP1511\": 560, \"COMP1911\": 100, \"MATH1131\": 1034, \"MATH1231\": 895, \"FINS1612\": 423, \"FINS1613\": 587, \"ACCT1501\": 327 }"
      ],
      "execution_count": null,
      "outputs": []
    },
    {
      "cell_type": "markdown",
      "metadata": {
        "id": "3HlAT3m1i-yp"
      },
      "source": [
        "How many students are enrolled in COMP1010?"
      ]
    },
    {
      "cell_type": "code",
      "metadata": {
        "id": "QYOv5SbIjCrY"
      },
      "source": [
        ""
      ],
      "execution_count": null,
      "outputs": []
    },
    {
      "cell_type": "markdown",
      "metadata": {
        "id": "5hyBp-v8jC4q"
      },
      "source": [
        "Construct a list containing all the courses with more than 500 students. You should get this as a result:\n",
        "```\n",
        "[\"COMP1511\", \"MATH1131\", \"MATH1231\", \"FINS1613\"]\n",
        "```"
      ]
    },
    {
      "cell_type": "code",
      "metadata": {
        "id": "h6byxta6jGO6"
      },
      "source": [
        ""
      ],
      "execution_count": null,
      "outputs": []
    },
    {
      "cell_type": "markdown",
      "metadata": {
        "id": "KxGBwkiPjK8p"
      },
      "source": [
        "Find the total number of students enrolled in each subject area (the first 4 letters of the course code). Store these numbers in a dictionary. You should get this as a result:\n",
        "\n",
        "```\n",
        "{\"COMP\": 705, \"MATH\": 1929, \"FINS\": 1010, \"ACCT\": 327}\n",
        "```\n",
        "\n",
        "**NOTE**: Recall that dictionaries are unordered in this version of Python, so your result may not *appear* in exactly the same order as above, but as long as the numbers match, your result is correct."
      ]
    },
    {
      "cell_type": "code",
      "metadata": {
        "id": "dvTO48zpjSzY"
      },
      "source": [
        ""
      ],
      "execution_count": null,
      "outputs": []
    },
    {
      "cell_type": "markdown",
      "metadata": {
        "id": "mVG24vU9jXVr"
      },
      "source": [
        "## Bringing it all together (1 mark)\n",
        "\n",
        "Write a function, `common(list1, list2)`, that returns a dictionary. Each key in the dictionary corresponds to an element in *both* of the lists. The value for each key is the number of times that element appears across both lists. See the testing cell below for an example.\n",
        "\n",
        "**HINT**: There are multiple ways to solve this, but you may find the simplest involves building at least two intermediate dictionaries and multiple loops."
      ]
    },
    {
      "cell_type": "code",
      "metadata": {
        "id": "iI6Qv4gIjaSh"
      },
      "source": [
        ""
      ],
      "execution_count": null,
      "outputs": []
    },
    {
      "cell_type": "markdown",
      "metadata": {
        "id": "zCGQDk8Dja4I"
      },
      "source": [
        "Use this cell to test whether you have implemented the function correctly."
      ]
    },
    {
      "cell_type": "code",
      "metadata": {
        "id": "Lx7cQTQJjbgC"
      },
      "source": [
        "assert common([\"a\", \"b\", \"a\", \"d\", \"f\", \"a\"], [\"a\", \"b\", \"d\", \"d\", \"e\"]) == { \"a\": 4, \"b\": 2, \"d\": 3 }"
      ],
      "execution_count": null,
      "outputs": []
    },
    {
      "cell_type": "markdown",
      "metadata": {
        "id": "FyvzBGG9jg7v"
      },
      "source": [
        "## Challenge\n",
        "\n",
        "**NOTE:** This question is **NOT** worth any marks and is meant to present a significant challenge. It's here for those who wish to extend themselves. Even if you're not able to solve it, you may find giving it a try good practice and you can always come back to it in later weeks. "
      ]
    },
    {
      "cell_type": "markdown",
      "metadata": {
        "id": "oIPBFs3Mjj1Z"
      },
      "source": [
        "Solve the problem described below:\n",
        "\n",
        "> Oh no, there era grimlens (or parheps just eno nysta grimlen) in my cumpetor, semithong wierd is heppinang to my vewols! Thye seem to be ratetod thruogh aech word, aech eno rapleces the vewol to its left and the first eno mevos oruand to the last pisitoon. That's a tirryble creul thing to do."
      ]
    },
    {
      "cell_type": "code",
      "metadata": {
        "id": "ZADAclYfjmDf"
      },
      "source": [
        ""
      ],
      "execution_count": null,
      "outputs": []
    }
  ]
}