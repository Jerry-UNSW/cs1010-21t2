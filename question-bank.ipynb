{
  "nbformat": 4,
  "nbformat_minor": 0,
  "metadata": {
    "colab": {
      "name": "Question Bank.ipynb",
      "provenance": [],
      "authorship_tag": "ABX9TyMZ+kHGvS42ogqnLMW/kasG",
      "include_colab_link": true
    },
    "kernelspec": {
      "name": "python3",
      "display_name": "Python 3"
    },
    "language_info": {
      "name": "python"
    }
  },
  "cells": [
    {
      "cell_type": "markdown",
      "metadata": {
        "id": "view-in-github",
        "colab_type": "text"
      },
      "source": [
        "<a href=\"https://colab.research.google.com/github/sim-mautner/cs1010-21t2/blob/main/question-bank.ipynb\" target=\"_parent\"><img src=\"https://colab.research.google.com/assets/colab-badge.svg\" alt=\"Open In Colab\"/></a>"
      ]
    },
    {
      "cell_type": "markdown",
      "metadata": {
        "id": "lETB1TzJ-9TJ"
      },
      "source": [
        "> Question Bank<br>\n",
        "> COMP1010 2021 T2<br>"
      ]
    },
    {
      "cell_type": "markdown",
      "metadata": {
        "id": "6XfvkfQ8_R9d"
      },
      "source": [
        "# Conditionals"
      ]
    },
    {
      "cell_type": "markdown",
      "metadata": {
        "id": "SzleMba7_amw"
      },
      "source": [
        "### Packed my bag\n",
        "\n",
        "Uses: Conditionals, user text input.\n",
        "\n",
        "Let's write Python code for the 'Packed my bag' question from last week's lab.\n",
        "\n",
        "Ask the user to answer the following questions:\n",
        "* Have you packed a sandwich? (Y or N)\n",
        "* How many pieces of fruit have you packed? (1 or 2)\n",
        "* Have you packed your umbrella? (Y or N)\n",
        "* Is it raining? (Y or N)\n",
        "* Is it a long day? (Y or N)\n",
        "\n",
        "Based on their answers, display an appropriate response.\n",
        "\n",
        "Rules:\n",
        "* All days need a sandwich.\n",
        "* Long days require 2 pieces of fruit, but short days only require 1 piece of fruit.\n",
        "* Rainy days require an umbrella.\n",
        "* The user doesn't want to carry anything that they don't need."
      ]
    },
    {
      "cell_type": "code",
      "metadata": {
        "id": "x-OFMJ_d-7tg"
      },
      "source": [
        ""
      ],
      "execution_count": null,
      "outputs": []
    }
  ]
}