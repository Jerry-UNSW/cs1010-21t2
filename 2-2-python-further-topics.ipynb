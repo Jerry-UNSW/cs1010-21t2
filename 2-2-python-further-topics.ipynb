{
  "nbformat": 4,
  "nbformat_minor": 0,
  "metadata": {
    "colab": {
      "name": "2-2-python-further-topics.ipynb",
      "provenance": [],
      "toc_visible": true,
      "authorship_tag": "ABX9TyNp1OPO228BPIZK+BRFUXXX",
      "include_colab_link": true
    },
    "kernelspec": {
      "name": "python3",
      "display_name": "Python 3"
    },
    "language_info": {
      "name": "python"
    }
  },
  "cells": [
    {
      "cell_type": "markdown",
      "metadata": {
        "id": "view-in-github",
        "colab_type": "text"
      },
      "source": [
        "<a href=\"https://colab.research.google.com/github/sim-mautner/cs1010-21t2/blob/main/2-2-python-further-topics.ipynb\" target=\"_parent\"><img src=\"https://colab.research.google.com/assets/colab-badge.svg\" alt=\"Open In Colab\"/></a>"
      ]
    },
    {
      "cell_type": "markdown",
      "metadata": {
        "id": "fakjNkjqCG5-"
      },
      "source": [
        "> Python Further Topics<br>\n",
        "> COMP1010 2021 T2<br>"
      ]
    },
    {
      "cell_type": "markdown",
      "metadata": {
        "id": "23RbVs1EYKG8"
      },
      "source": [
        "# Pandas and Plotly (a detour into Musk tweets)"
      ]
    },
    {
      "cell_type": "markdown",
      "metadata": {
        "id": "64L1yVQnEK21"
      },
      "source": [
        "### Import tweets"
      ]
    },
    {
      "cell_type": "markdown",
      "metadata": {
        "id": "5iONl3mxYRzF"
      },
      "source": [
        "This code cell creates a list from some of Elon Musk's tweets. \n",
        "\n",
        "*You're not expected to completely understand this code yet. It's only here to give us interesting data*."
      ]
    },
    {
      "cell_type": "code",
      "metadata": {
        "id": "T2UcZXKtYXBb"
      },
      "source": [
        "import pandas\n",
        "\n",
        "raw_tweets = pandas.read_csv('https://raw.githubusercontent.com/sim-mautner/cs1010-21t2/main/data/elonmusk.csv')\n",
        "elon_tweets = list(raw_tweets.tweet)"
      ],
      "execution_count": null,
      "outputs": []
    },
    {
      "cell_type": "markdown",
      "metadata": {
        "id": "6IRAcDXzENBV"
      },
      "source": [
        "### Questions"
      ]
    },
    {
      "cell_type": "markdown",
      "metadata": {
        "id": "SSEDVtEdQ1o9"
      },
      "source": [
        "How many tweets are there in our dataset?"
      ]
    },
    {
      "cell_type": "code",
      "metadata": {
        "id": "9IH7gp4PQ4Ko"
      },
      "source": [
        ""
      ],
      "execution_count": null,
      "outputs": []
    },
    {
      "cell_type": "markdown",
      "metadata": {
        "id": "3-x1Sk2AaR9q"
      },
      "source": [
        "In what tweets has Elon Musk said \"simulation\"?"
      ]
    },
    {
      "cell_type": "code",
      "metadata": {
        "id": "RTKak5pvaXDo"
      },
      "source": [
        ""
      ],
      "execution_count": null,
      "outputs": []
    },
    {
      "cell_type": "markdown",
      "metadata": {
        "id": "HUVyHkreaOz7"
      },
      "source": [
        "What emoji does Elon Musk use?"
      ]
    },
    {
      "cell_type": "code",
      "metadata": {
        "id": "3w8EAUQaaoGz"
      },
      "source": [
        ""
      ],
      "execution_count": null,
      "outputs": []
    },
    {
      "cell_type": "markdown",
      "metadata": {
        "id": "Yzz3BH7ia4VY"
      },
      "source": [
        "Can we build a dictionary counting how often Elon Musk uses each Emoji?"
      ]
    },
    {
      "cell_type": "code",
      "metadata": {
        "id": "YNYeEqDYa_Hw"
      },
      "source": [
        ""
      ],
      "execution_count": null,
      "outputs": []
    },
    {
      "cell_type": "markdown",
      "metadata": {
        "id": "tCkMvSwwbI3H"
      },
      "source": [
        "Can we plot it?"
      ]
    },
    {
      "cell_type": "code",
      "metadata": {
        "id": "cr0SzU9WbKBW"
      },
      "source": [
        ""
      ],
      "execution_count": null,
      "outputs": []
    },
    {
      "cell_type": "markdown",
      "metadata": {
        "id": "EXteVdg6czQQ"
      },
      "source": [
        "What about only the most frequently used ones?"
      ]
    },
    {
      "cell_type": "code",
      "metadata": {
        "id": "Mqz1ozAKbYvG"
      },
      "source": [
        ""
      ],
      "execution_count": null,
      "outputs": []
    },
    {
      "cell_type": "markdown",
      "metadata": {
        "id": "E_NZ3hENDnVP"
      },
      "source": [
        "# Data Types: None\n",
        "\n",
        "None is a special value in Python we can use to represent values that are unknown.\n",
        "\n",
        "**Important Info**:\n",
        "\n",
        "* The type of `None` is `NoneType`. It is the only value of that type.\n",
        "* Python has special support for dealing with `None` values in `if` statements."
      ]
    },
    {
      "cell_type": "markdown",
      "metadata": {
        "id": "scgOs3yeDtti"
      },
      "source": [
        "Write a function `maximum(numbers)` that finds the maximum number in a list."
      ]
    },
    {
      "cell_type": "code",
      "metadata": {
        "id": "EkigXAXzDvyf"
      },
      "source": [
        ""
      ],
      "execution_count": null,
      "outputs": []
    },
    {
      "cell_type": "markdown",
      "metadata": {
        "id": "qLo32k-UFEqq"
      },
      "source": [
        "# Tuples\n",
        "\n",
        "In Python, Tuples are like lists, with on key difference. They are *immutable*. That means they cannot be changed after they have been created. In this way, they are similar to strings. They are created (defined) using the () (rather than [ ] like in lists and { } like in dictionaries)."
      ]
    },
    {
      "cell_type": "markdown",
      "metadata": {
        "id": "RVpz4unYJtf0"
      },
      "source": [
        "# Exceptions\n",
        "\n",
        "When things go wrong..."
      ]
    },
    {
      "cell_type": "markdown",
      "metadata": {
        "id": "5fNllqHELp79"
      },
      "source": [
        "* An exception is an action that disrupts\n",
        "the normal flow of a program.\n",
        "* This action\n",
        "is often representative of an error being\n",
        "thrown.\n",
        "* Exceptions are ways that we can\n",
        "elegantly recover from errors."
      ]
    },
    {
      "cell_type": "markdown",
      "metadata": {
        "id": "stVDEaVnQVX-"
      },
      "source": [
        "Where have we seen exceptions before?"
      ]
    },
    {
      "cell_type": "code",
      "metadata": {
        "id": "VEXE9kbSJ2wp"
      },
      "source": [
        ""
      ],
      "execution_count": null,
      "outputs": []
    },
    {
      "cell_type": "markdown",
      "metadata": {
        "id": "zk8p6k5nQUZ3"
      },
      "source": [
        "Can we recover from this more elegantly? (And even keep going with our program?)"
      ]
    },
    {
      "cell_type": "code",
      "metadata": {
        "id": "xKo_ISZKJ61v"
      },
      "source": [
        ""
      ],
      "execution_count": null,
      "outputs": []
    },
    {
      "cell_type": "markdown",
      "metadata": {
        "id": "eCT50GU7MtWV"
      },
      "source": [
        "Can we print out details of the exception?"
      ]
    },
    {
      "cell_type": "code",
      "metadata": {
        "id": "GvdhASaeMvvp"
      },
      "source": [
        ""
      ],
      "execution_count": null,
      "outputs": []
    },
    {
      "cell_type": "markdown",
      "metadata": {
        "id": "Q7PoxgLgNKJf"
      },
      "source": [
        "What happens if we are deep inside functions?"
      ]
    },
    {
      "cell_type": "code",
      "metadata": {
        "id": "BYmdOwTGNMvL"
      },
      "source": [
        ""
      ],
      "execution_count": null,
      "outputs": []
    },
    {
      "cell_type": "markdown",
      "metadata": {
        "id": "M4xjPjx0PPxG"
      },
      "source": [
        "`else` and `finally`"
      ]
    },
    {
      "cell_type": "code",
      "metadata": {
        "id": "UXnCbJzOPVCg"
      },
      "source": [
        ""
      ],
      "execution_count": null,
      "outputs": []
    },
    {
      "cell_type": "markdown",
      "metadata": {
        "id": "KgLanJ3DQv0g"
      },
      "source": [
        "# Serialisation and Persistance"
      ]
    },
    {
      "cell_type": "markdown",
      "metadata": {
        "id": "XQCca0ECQyi5"
      },
      "source": [
        "Until now, when our application ends, all our data is lost. If we want to save data, we need to write it into a file which continues to exist after the program ends, and then be able to read it back into the application when it starts up again.\n",
        "\n",
        "Serialisation is the process of translating data structures into a format such that they can be stored or transmitted."
      ]
    },
    {
      "cell_type": "markdown",
      "metadata": {
        "id": "eQ7b-fwvEwK0"
      },
      "source": [
        "Consider this list of strings"
      ]
    },
    {
      "cell_type": "code",
      "metadata": {
        "id": "PM1Q9YXREyEY"
      },
      "source": [
        "example_strings = [\"hello\", \"how are you?\", \"that's good\", \"nice to meet you\", \"goodbye\\nI'll see you again\"]"
      ],
      "execution_count": null,
      "outputs": []
    },
    {
      "cell_type": "markdown",
      "metadata": {
        "id": "7p4xZaqhE0gI"
      },
      "source": [
        "Can we store them in a text file?"
      ]
    }
  ]
}