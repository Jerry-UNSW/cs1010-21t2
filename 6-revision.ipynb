{
  "nbformat": 4,
  "nbformat_minor": 0,
  "metadata": {
    "colab": {
      "name": "6-revision.ipynb",
      "provenance": [],
      "authorship_tag": "ABX9TyMquFD1s8Q0RYm1tf4BfxYw",
      "include_colab_link": true
    },
    "kernelspec": {
      "name": "python3",
      "display_name": "Python 3"
    },
    "language_info": {
      "name": "python"
    }
  },
  "cells": [
    {
      "cell_type": "markdown",
      "metadata": {
        "id": "view-in-github",
        "colab_type": "text"
      },
      "source": [
        "<a href=\"https://colab.research.google.com/github/sim-mautner/cs1010-21t2/blob/main/6-revision.ipynb\" target=\"_parent\"><img src=\"https://colab.research.google.com/assets/colab-badge.svg\" alt=\"Open In Colab\"/></a>"
      ]
    },
    {
      "cell_type": "markdown",
      "metadata": {
        "id": "JEat-wKwBNdb"
      },
      "source": [
        "# House Hunting\n",
        "\n",
        "The following cell defines a list of houses for sale. It includes their address, number of bedrooms and bathrooms, price, and features (garage, pool, granny flat, etc.)"
      ]
    },
    {
      "cell_type": "code",
      "metadata": {
        "id": "DyUHH3tCBQSa"
      },
      "source": [
        "houses = [\n",
        "    { \n",
        "        \"address\": \"42 Wallaby Way, Sydney\", \n",
        "        \"bedrooms\": 3, \n",
        "        \"bathrooms\": 2, \n",
        "        \"features\": [\"garage\", \"pool\"] \n",
        "    },\n",
        "    { \n",
        "        \"address\": \"123 Fake Street, Mosman\", \n",
        "        \"bedrooms\": 6, \n",
        "        \"bathrooms\": 3, \n",
        "        \"features\": [\"pool\", \"granny flat\"]     \n",
        "    },\n",
        "    { \n",
        "        \"address\": \"1 High Street, Kensington\", \n",
        "        \"bedrooms\": 2, \n",
        "        \"bathrooms\": 1, \n",
        "        \"features\": [] \n",
        "    },\n",
        "    { \n",
        "        \"address\": \"109 Kirribilli Ave, Kirribilli\", \n",
        "        \"bedrooms\": 10, \n",
        "        \"bathrooms\": 7, \n",
        "        \"features\": [\"garage\", \"pool\", \"wine cellar\", \"tennis court\"] \n",
        "    }\n",
        "]"
      ],
      "execution_count": null,
      "outputs": []
    },
    {
      "cell_type": "markdown",
      "metadata": {
        "id": "m_5f5IK_BSti"
      },
      "source": [
        "\n",
        "Write the function `find_houses(houses, bedrooms, bathrooms, features)` that returns a list of the addresses of all the houses with at least the given number of bedrooms and bathrooms and at least the given list of features.\n",
        "\n",
        "**NOTE:** Don't assume the list of houses or set of possible features is constrained to what is written above. Your function should still work if new houses were added to the above list."
      ]
    },
    {
      "cell_type": "code",
      "metadata": {
        "id": "zMpFumJHB7QS"
      },
      "source": [
        ""
      ],
      "execution_count": null,
      "outputs": []
    },
    {
      "cell_type": "markdown",
      "metadata": {
        "id": "YzC7pPTXBmrA"
      },
      "source": [
        "Use this cell to test your function:"
      ]
    },
    {
      "cell_type": "code",
      "metadata": {
        "id": "ToutMRHgBpSJ"
      },
      "source": [
        "assert find_houses(houses, 3, 1, [\"garage\"]) == [\"42 Wallaby Way, Sydney\", \"109 Kirribilli Ave, Kirribilli\"]\n",
        "assert find_houses(houses, 6, 4, []) == [\"109 Kirribilli Ave, Kirribilli\"]\n",
        "assert find_houses(houses, 1, 1, [\"granny flat\"]) == [\"123 Fake Street, Mosman\"]"
      ],
      "execution_count": null,
      "outputs": []
    },
    {
      "cell_type": "markdown",
      "metadata": {
        "id": "tyO4GCQTB76Y"
      },
      "source": [
        "# Recursion\n",
        "Create a list of all the numbers less than or equal to $n$ that are powers of 2."
      ]
    },
    {
      "cell_type": "code",
      "metadata": {
        "id": "jEcQYiRqB84j"
      },
      "source": [
        ""
      ],
      "execution_count": null,
      "outputs": []
    },
    {
      "cell_type": "markdown",
      "metadata": {
        "id": "ZrAgp3PSCDth"
      },
      "source": [
        "# Web server\n",
        "\n",
        "Implement a web server with a single page containing a counter.\n",
        "\n",
        "See `counter_server.py`."
      ]
    }
  ]
}