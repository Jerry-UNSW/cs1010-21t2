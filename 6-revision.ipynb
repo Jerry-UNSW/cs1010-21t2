{
  "nbformat": 4,
  "nbformat_minor": 0,
  "metadata": {
    "colab": {
      "name": "6-revision.ipynb",
      "provenance": [],
      "authorship_tag": "ABX9TyNhzrDvurmVYC514WqK3Kvv",
      "include_colab_link": true
    },
    "kernelspec": {
      "name": "python3",
      "display_name": "Python 3"
    },
    "language_info": {
      "name": "python"
    }
  },
  "cells": [
    {
      "cell_type": "markdown",
      "metadata": {
        "id": "view-in-github",
        "colab_type": "text"
      },
      "source": [
        "<a href=\"https://colab.research.google.com/github/sim-mautner/cs1010-21t2/blob/main/6-revision.ipynb\" target=\"_parent\"><img src=\"https://colab.research.google.com/assets/colab-badge.svg\" alt=\"Open In Colab\"/></a>"
      ]
    },
    {
      "cell_type": "code",
      "metadata": {
        "id": "MWp_tankAI6_"
      },
      "source": [
        ""
      ],
      "execution_count": null,
      "outputs": []
    },
      {
   "source": [
    "## House Hunting\n",
    "\n",
    "The following cell defines a list of houses for sale. It includes their address, number of bedrooms and bathrooms, price, and features (garage, pool, granny flat, etc.)"
   ],
   "cell_type": "markdown",
   "metadata": {}
  },
  {
   "cell_type": "code",
   "execution_count": 1,
   "metadata": {},
   "outputs": [],
   "source": [
    "houses = [\n",
    "    { \n",
    "        \"address\": \"42 Wallaby Way, Sydney\", \n",
    "        \"bedrooms\": 3, \n",
    "        \"bathrooms\": 2, \n",
    "        \"features\": [\"garage\", \"pool\"] \n",
    "    },\n",
    "    { \n",
    "        \"address\": \"123 Fake Street, Mosman\", \n",
    "        \"bedrooms\": 6, \n",
    "        \"bathrooms\": 3, \n",
    "        \"features\": [\"pool\", \"granny flat\"]     \n",
    "    },\n",
    "    { \n",
    "        \"address\": \"1 High Street, Kensington\", \n",
    "        \"bedrooms\": 2, \n",
    "        \"bathrooms\": 1, \n",
    "        \"features\": [] \n",
    "    },\n",
    "    { \n",
    "        \"address\": \"109 Kirribilli Ave, Kirribilli\", \n",
    "        \"bedrooms\": 10, \n",
    "        \"bathrooms\": 7, \n",
    "        \"features\": [\"garage\", \"pool\", \"wine cellar\", \"tennis court\"] \n",
    "    }\n",
    "]"
   ]
  },
  {
   "source": [
    "Write the function `find_houses(bedrooms, bathrooms, features)` that returns a list of the addresses of all the houses with *at least* the given number of bedrooms and bathrooms and *at least* the given list of features.\n",
    "\n",
    "**NOTE**: Don't assume the list of houses or set of possible features is constrained to what is written above. Your function should still work if new houses were added to the above list."
   ],
   "cell_type": "markdown",
   "metadata": {}
  }
  ]
}
