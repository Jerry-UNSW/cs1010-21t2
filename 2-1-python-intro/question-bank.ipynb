{
  "nbformat": 4,
  "nbformat_minor": 0,
  "metadata": {
    "colab": {
      "name": "Question Bank.ipynb",
      "provenance": [],
      "collapsed_sections": [],
      "include_colab_link": true
    },
    "kernelspec": {
      "name": "python3",
      "display_name": "Python 3"
    },
    "language_info": {
      "name": "python"
    }
  },
  "cells": [
    {
      "cell_type": "markdown",
      "metadata": {
        "id": "view-in-github",
        "colab_type": "text"
      },
      "source": [
        "<a href=\"https://colab.research.google.com/github/sim-mautner/cs1010-21t2/blob/main/question-bank.ipynb\" target=\"_parent\"><img src=\"https://colab.research.google.com/assets/colab-badge.svg\" alt=\"Open In Colab\"/></a>"
      ]
    },
    {
      "cell_type": "markdown",
      "metadata": {
        "id": "lETB1TzJ-9TJ"
      },
      "source": [
        "> Question Bank<br>\n",
        "> COMP1010 2021 T2<br>"
      ]
    },
    {
      "cell_type": "markdown",
      "metadata": {
        "id": "oM5Nc3cxAbrK"
      },
      "source": [
        "# Python"
      ]
    },
    {
      "cell_type": "markdown",
      "metadata": {
        "id": "6XfvkfQ8_R9d"
      },
      "source": [
        "## Conditionals"
      ]
    },
    {
      "cell_type": "markdown",
      "metadata": {
        "id": "SzleMba7_amw"
      },
      "source": [
        "### Packed my bag\n",
        "\n",
        "Part 1:\n",
        "\n",
        "Uses: Conditionals, user text input.\n",
        "\n",
        "Ask the user to answer the following questions:\n",
        "* Have you packed a sandwich? (Y or N)\n",
        "* How many pieces of fruit have you packed? (1 or 2)\n",
        "* Have you packed your umbrella? (Y or N)\n",
        "* Is it raining? (Y or N)\n",
        "* Is it a long day? (Y or N)\n",
        "\n",
        "Based on their answers, display an appropriate response.\n",
        "\n",
        "Rules:\n",
        "* All days need a sandwich.\n",
        "* Long days require 2 pieces of fruit, but short days only require 1 piece of fruit.\n",
        "* Rainy days require an umbrella.\n",
        "* The user doesn't want to carry anything that they don't need.\n",
        "\n",
        "Part 2:\n",
        "\n",
        "Uses: Loops\n",
        "\n",
        "For each question, keep providing the user with an error message and ask them to re-enter their answer, until they enter a valid response."
      ]
    },
    {
      "cell_type": "code",
      "metadata": {
        "id": "x-OFMJ_d-7tg"
      },
      "source": [
        ""
      ],
      "execution_count": null,
      "outputs": []
    },
    {
      "cell_type": "markdown",
      "metadata": {
        "id": "7t7aMGp8fZtw"
      },
      "source": [
        "### More questions\n",
        "\n",
        "More conditionals questions:\n",
        "\n",
        "Write a C program to find the largest of three numbers. Go to the editor\n",
        "Test Data : 12 25 52\n",
        "Expected Output :\n",
        "1st Number = 12,        2nd Number = 25,        3rd Number = 52\n",
        "The 3rd Number is the greatest among three\n",
        "\n",
        "13. Write a C program to read temperature in centigrade and display a suitable message according to temperature state below : Go to the editor\n",
        "Temp < 0 then Freezing weather\n",
        "Temp 0-10 then Very Cold weather\n",
        "Temp 10-20 then Cold weather\n",
        "Temp 20-30 then Normal in Temp\n",
        "Temp 30-40 then Its Hot\n",
        "Temp >=40 then Its Very Hot\n",
        "Test Data :\n",
        "42\n",
        "Expected Output :\n",
        "Its very hot.\n",
        "\n",
        "9. Write a C program to accept a coordinate point in a XY coordinate system and determine in which quadrant the coordinate point lies. Go to the editor\n",
        "Test Data : 7 9\n",
        "Expected Output :\n",
        "The coordinate point (7,9) lies in the First quadrant.\n",
        "\n",
        "15. Write a C program to check whether a triangle can be formed by the given value for the angles. Go to the editor\n",
        "Test Data :\n",
        "40 55 65\n",
        "Expected Output :\n",
        "The triangle is not valid.\n",
        "\n",
        "18. Write a C program to calculate profit and loss on a transaction. Go to the editor\n",
        "Test Data :\n",
        "500 700\n",
        "Expected Output :\n",
        "You can booked your profit amount : 200"
      ]
    },
    {
      "cell_type": "markdown",
      "metadata": {
        "id": "-4JVw728fSG0"
      },
      "source": [
        "# Question Bank\n",
        "(Sim's notes for planning the rest of the lectures/tutorials/labs)\n",
        "\n",
        "(maybe instead of packed my bag for user input, adapt the prepared for lecture code. There's a lot of repetition without use. The packed my bag should be a lab exercise.)\n",
        "\n",
        "#### Conditionals\n",
        "* printing days based on month number\n",
        "* heights and rides - lab\n",
        "* chilli beans\n",
        "* allow into COMP1010 only if you haven't already taken COMP1511\n",
        "* print grade based on total mark - tutorial\n",
        "* passing a course based on components (pass exam and total grade)\n",
        "* packing my bag (return to this with loops and for functions (so we don't have to keep typing everything in), then for testing)\n",
        "\n",
        "#### Loops (while / for i in range)\n",
        "* Example using nested loops?\n",
        "* Tute and lab: print out the first n odd numbers. Write this code in two different ways. Determine if a number is prime or not. (Though I don't want to make this too mathsy....). Write code which manually implements .replace method. (finds first occurance of character in string and returns the index, islower())\n",
        "\n",
        "* Improve the password evaluator to:\n",
        "  * Write it as a function.\n",
        "  * Check there is at least one digit in it.\n",
        "  * Check there is at least one piece of punctuation in it.\n",
        "\n",
        "\n",
        "(All of these conditional questions can be re-used for functions, with passing in the parameter, and returning the result. Emphasise the difference.)\n",
        "\n",
        "In lists, or way later, write \"splitting the bill\".\n",
        "\n",
        "#### Dictionaries\n",
        "\n",
        "Can we store the details for [Pikachu](https://www.pokemon.com/us/pokedex/pikachu) in a dictionary?\n",
        "\n",
        "#### Testing\n",
        "I'm doing TDD and assert in week 2, I'll do pytest later in term.\n",
        "\n",
        "Passing functions as parameters? The decorator example from 1531?"
      ]
    },
    {
      "cell_type": "markdown",
      "metadata": {
        "id": "qZEnA-npfWKy"
      },
      "source": [
        ""
      ]
    }
  ]
}