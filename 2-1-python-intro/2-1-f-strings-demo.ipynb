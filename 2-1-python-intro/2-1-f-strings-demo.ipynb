{
  "nbformat": 4,
  "nbformat_minor": 0,
  "metadata": {
    "colab": {
      "name": "2-1-f-strings-demo.ipynb",
      "provenance": [],
      "authorship_tag": "ABX9TyPV1NrCqhAw42VY2xC30G8j",
      "include_colab_link": true
    },
    "kernelspec": {
      "name": "python3",
      "display_name": "Python 3"
    },
    "language_info": {
      "name": "python"
    }
  },
  "cells": [
    {
      "cell_type": "markdown",
      "metadata": {
        "id": "view-in-github",
        "colab_type": "text"
      },
      "source": [
        "<a href=\"https://colab.research.google.com/github/sim-mautner/cs1010-21t2/blob/main/2-1-f-strings-demo.ipynb\" target=\"_parent\"><img src=\"https://colab.research.google.com/assets/colab-badge.svg\" alt=\"Open In Colab\"/></a>"
      ]
    },
    {
      "cell_type": "markdown",
      "metadata": {
        "id": "iHQ3bth0P9Cf"
      },
      "source": [
        "# Some Advantages to Using F-Strings in Python\n",
        "\n"
      ]
    },
    {
      "cell_type": "markdown",
      "metadata": {
        "id": "VnoGJw_ZQ64O"
      },
      "source": [
        "* Within the scope of our course.\n",
        "* The two biggest reasons (there are more).\n",
        "* For more examples and details, visit: [Python 3's f-Strings: An Improved String Formatting Syntax (Guide)](https://realpython.com/python-f-strings/)"
      ]
    },
    {
      "cell_type": "markdown",
      "metadata": {
        "id": "0Ey1sd0xUd0D"
      },
      "source": [
        "A video explaining this document can be found [here](https://youtu.be/CbZ3NTkvHoA)."
      ]
    },
    {
      "cell_type": "code",
      "metadata": {
        "id": "NWIkxfx4OsPP"
      },
      "source": [
        "name = \"Alannah\"\n",
        "age = 22"
      ],
      "execution_count": null,
      "outputs": []
    },
    {
      "cell_type": "markdown",
      "metadata": {
        "id": "7m0i-dy8Prcu"
      },
      "source": [
        "## Advantage #1: Different Data Types"
      ]
    },
    {
      "cell_type": "code",
      "metadata": {
        "colab": {
          "base_uri": "https://localhost:8080/"
        },
        "id": "ShLbclllPofQ",
        "outputId": "2a642164-a88a-4840-9f48-6362cecd6d4a"
      },
      "source": [
        "# Printing without f-strings\n",
        "print(\"My name is \" + name + \" and my age is \" + str(age) + \".\")"
      ],
      "execution_count": null,
      "outputs": [
        {
          "output_type": "stream",
          "text": [
            "My name is Alannah and my age is 22.\n"
          ],
          "name": "stdout"
        }
      ]
    },
    {
      "cell_type": "code",
      "metadata": {
        "colab": {
          "base_uri": "https://localhost:8080/"
        },
        "id": "lWJR9eTZPyE_",
        "outputId": "26c4402a-54c5-43e6-c182-a0eda3a6ba15"
      },
      "source": [
        "# Printing with f-strings\n",
        "print(f\"My name is {name} and my age is {age}.\")"
      ],
      "execution_count": null,
      "outputs": [
        {
          "output_type": "stream",
          "text": [
            "My name is Alannah and my age is 22.\n"
          ],
          "name": "stdout"
        }
      ]
    },
    {
      "cell_type": "markdown",
      "metadata": {
        "id": "p-7juVcVPyZv"
      },
      "source": [
        "## Advantage #2: Multi-line Strings"
      ]
    },
    {
      "cell_type": "code",
      "metadata": {
        "colab": {
          "base_uri": "https://localhost:8080/"
        },
        "id": "866CvJCEP1Q0",
        "outputId": "ccaf9de2-0002-40b3-d92d-7d6ffa7dc17c"
      },
      "source": [
        "# Printing without f-strings\n",
        "print(\"My name is \" + name + \".\\nMy age is \" + str(age) + \".\")"
      ],
      "execution_count": null,
      "outputs": [
        {
          "output_type": "stream",
          "text": [
            "My name is Alannah.\n",
            "My age is 22.\n"
          ],
          "name": "stdout"
        }
      ]
    },
    {
      "cell_type": "code",
      "metadata": {
        "colab": {
          "base_uri": "https://localhost:8080/"
        },
        "id": "8h7-5Z1bQ3AG",
        "outputId": "fe0bc27a-d0b0-42ad-acf8-ce2c9aa70d89"
      },
      "source": [
        "# Printing with f-strings\n",
        "print(f\"\"\"My name is {name}.\n",
        "My age is {age}.\"\"\")"
      ],
      "execution_count": null,
      "outputs": [
        {
          "output_type": "stream",
          "text": [
            "My name is Alannah.\n",
            "My age is 22.\n"
          ],
          "name": "stdout"
        }
      ]
    }
  ]
}