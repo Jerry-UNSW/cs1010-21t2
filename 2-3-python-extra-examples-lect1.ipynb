{
  "nbformat": 4,
  "nbformat_minor": 0,
  "metadata": {
    "colab": {
      "name": "2-3-python-extra-examples.ipynb",
      "provenance": [],
      "authorship_tag": "ABX9TyP1KPlFAac4EekL/2xJ71Ke",
      "include_colab_link": true
    },
    "kernelspec": {
      "name": "python3",
      "display_name": "Python 3"
    },
    "language_info": {
      "name": "python"
    }
  },
  "cells": [
    {
      "cell_type": "markdown",
      "metadata": {
        "id": "view-in-github",
        "colab_type": "text"
      },
      "source": [
        "<a href=\"https://colab.research.google.com/github/sim-mautner/cs1010-21t2/blob/main/2-3-python-extra-examples-lect1.ipynb\" target=\"_parent\"><img src=\"https://colab.research.google.com/assets/colab-badge.svg\" alt=\"Open In Colab\"/></a>"
      ]
    },
    {
      "cell_type": "markdown",
      "metadata": {
        "id": "DSm1d9QRCeAX"
      },
      "source": [
        "> Python Extra Exercises and Examples<br>\n",
        "> COMP1010 2021 T2<br>"
      ]
    },
    {
      "cell_type": "markdown",
      "metadata": {
        "id": "1owyir8N2Vu5"
      },
      "source": [
        "# Lists and Dictionaries Examples\n",
        "\n"
      ]
    },
    {
      "cell_type": "markdown",
      "metadata": {
        "id": "ZaZ9EXVaRvdV"
      },
      "source": [
        "For the exercises below, there are three stages.\n",
        "\n",
        "1. Design the data structures you're going to use.\n",
        "2. Write the tests. (For now, we will only create one sample situation, though you're encouraged to write a more complete set of tests.)\n",
        "2. Implement the program."
      ]
    },
    {
      "cell_type": "markdown",
      "metadata": {
        "id": "k_OBiivEQRjt"
      },
      "source": [
        "## Splitting the Bill\n",
        "\n",
        "(This references the spreadsheet example with the same name from Week 1.)\n",
        "\n",
        "When eating out, sometimes the situation arises when we want to split the bill evenly amongst sub-groups of the people eating together. "
      ]
    },
    {
      "cell_type": "markdown",
      "metadata": {
        "id": "wAV8JM4Y5U7v"
      },
      "source": [
        "```\n",
        "(optional) bill_info = {menu_items: , groups: , people: }\n",
        "\n",
        "menu_items = []\n",
        "groups = []\n",
        "people = []\n",
        "\n",
        "item = {name: , price: , group: }\n",
        "group = {name: , size: , total_spent: }\n",
        "person = {name: , group: , amount_owed: }\n",
        "\n",
        "calculate_group_size(groups, people)\n",
        "calculate_total_spent(groups, menu_items)\n",
        "calculate_amount_owed(people, groups)\n",
        "\n",
        "```"
      ]
    },
    {
      "cell_type": "code",
      "metadata": {
        "id": "SWGN6tRi62MJ"
      },
      "source": [
        "# Nothing happening - How are we going to test this? What happens in this scenario?\n",
        "menu_items = []\n",
        "groups = []\n",
        "people = []\n",
        "\n",
        "# One group of one person, one item\n",
        "menu_items = [{\"name\":\"apple\", \"price\":2, \"group\":\"A\"}]\n",
        "groups = [{\"name\":\"A\", \"size\":0, \"total_spent\":0}]\n",
        "people = [{\"name\":\"Sienna\", \"group\":\"A\", \"amount_owed\":None}]\n",
        "\n",
        "calculate_group_size(groups, people)\n",
        "assert(groups[0][\"size\"] == 1)\n",
        "calculate_total_spent(groups, menu_items)\n",
        "assert(groups[0][\"total_spent\"] == 2)\n",
        "calculate_amount_owed(people, groups)\n",
        "assert(people[0][\"amount_owed\"] == 2)\n",
        "\n",
        "# One group lots of people, one item\n",
        "menu_items = [{\"name\":\"apple\", \"price\":2, \"group\":\"A\"}]\n",
        "groups = [{\"name\":\"A\", \"size\":0, \"total_spent\":0}]\n",
        "people = [{\"name\":\"Sienna\", \"group\":\"A\", \"amount_owed\":None},\n",
        "          {\"name\":\"Vivian\", \"group\":\"A\", \"amount_owed\":None}]\n",
        "\n",
        "calculate_group_size(groups, people)\n",
        "assert(groups[0][\"size\"] == 2)\n",
        "calculate_total_spent(groups, menu_items)\n",
        "assert(groups[0][\"total_spent\"] == 2)\n",
        "calculate_amount_owed(people, groups)\n",
        "assert(people[0][\"amount_owed\"] == 1)\n",
        "assert(people[1][\"amount_owed\"] == 1)\n",
        "\n",
        "# One group, lots of people, lots of items\n",
        "menu_items = [{\"name\":\"apple\", \"price\":2, \"group\":\"A\"},\n",
        "              {\"name\":\"banana\", \"price\":4, \"group\":\"A\"}]\n",
        "groups = [{\"name\":\"A\", \"size\":0, \"total_spent\":0}]\n",
        "people = [{\"name\":\"Sienna\", \"group\":\"A\", \"amount_owed\":None},\n",
        "          {\"name\":\"Vivian\", \"group\":\"A\", \"amount_owed\":None}]\n",
        "\n",
        "calculate_group_size(groups, people)\n",
        "assert(groups[0][\"size\"] == 2)\n",
        "calculate_total_spent(groups, menu_items)\n",
        "assert(groups[0][\"total_spent\"] == 6)\n",
        "calculate_amount_owed(people, groups)\n",
        "assert(people[0][\"amount_owed\"] == 3)\n",
        "assert(people[1][\"amount_owed\"] == 3)\n",
        "\n",
        "# One group, lots of people, lots of items (and non-integer owings)\n",
        "menu_items = [{\"name\":\"apple\", \"price\":2, \"group\":\"A\"},\n",
        "              {\"name\":\"banana\", \"price\":5, \"group\":\"A\"}]\n",
        "groups = [{\"name\":\"A\", \"size\":0, \"total_spent\":0}]\n",
        "people = [{\"name\":\"Sienna\", \"group\":\"A\", \"amount_owed\":None},\n",
        "          {\"name\":\"Vivian\", \"group\":\"A\", \"amount_owed\":None}]\n",
        "\n",
        "calculate_group_size(groups, people)\n",
        "assert(groups[0][\"size\"] == 2)\n",
        "calculate_total_spent(groups, menu_items)\n",
        "assert(groups[0][\"total_spent\"] == 7)\n",
        "calculate_amount_owed(people, groups)\n",
        "assert(people[0][\"amount_owed\"] == 3.5)\n",
        "assert(people[1][\"amount_owed\"] == 3.5)\n",
        "\n",
        "# Lots of groups, lots of people in each group, lots of items in each group\n",
        "menu_items = [{\"name\":\"apple\", \"price\":2, \"group\":\"A\"},\n",
        "              {\"name\":\"banana\", \"price\":5, \"group\":\"A\"},\n",
        "              {\"name\":\"pear\", \"price\":10, \"group\":\"B\"},\n",
        "              {\"name\":\"plum\", \"price\":3, \"group\":\"C\"},\n",
        "              {\"name\":\"apricot\", \"price\":1, \"group\":\"C\"},\n",
        "              {\"name\":\"peach\", \"price\":8, \"group\":\"C\"}]\n",
        "groups = [{\"name\":\"A\", \"size\":0, \"total_spent\":0},\n",
        "          {\"name\":\"B\", \"size\":0, \"total_spent\":0},\n",
        "          {\"name\":\"C\", \"size\":0, \"total_spent\":0}]\n",
        "people = [{\"name\":\"Sienna\", \"group\":\"A\", \"amount_owed\":None},\n",
        "          {\"name\":\"Vivian\", \"group\":\"A\", \"amount_owed\":None},\n",
        "          {\"name\":\"Nick\", \"group\":\"B\", \"amount_owed\":None},\n",
        "          {\"name\":\"Hayden\", \"group\":\"B\", \"amount_owed\":None},\n",
        "          {\"name\":\"Evan\", \"group\":\"C\", \"amount_owed\":None},\n",
        "          {\"name\":\"Gaby\", \"group\":\"C\", \"amount_owed\":None},\n",
        "          {\"name\":\"Emily\", \"group\":\"C\", \"amount_owed\":None}]\n",
        "\n",
        "calculate_group_size(groups, people)\n",
        "assert(groups[0][\"size\"] == 2)\n",
        "assert(groups[1][\"size\"] == 2)\n",
        "assert(groups[2][\"size\"] == 3)\n",
        "calculate_total_spent(groups, menu_items)\n",
        "assert(groups[0][\"total_spent\"] == 7)\n",
        "assert(groups[1][\"total_spent\"] == 10)\n",
        "assert(groups[2][\"total_spent\"] == 12)\n",
        "calculate_amount_owed(people, groups)\n",
        "assert(people[0][\"amount_owed\"] == 3.5)\n",
        "assert(people[1][\"amount_owed\"] == 3.5)\n",
        "assert(people[2][\"amount_owed\"] == 5)\n",
        "assert(people[3][\"amount_owed\"] == 5)\n",
        "assert(people[4][\"amount_owed\"] == 4)\n",
        "assert(people[5][\"amount_owed\"] == 4)\n",
        "assert(people[6][\"amount_owed\"] == 4)"
      ],
      "execution_count": 5,
      "outputs": []
    },
    {
      "cell_type": "code",
      "metadata": {
        "id": "JgMc6KwL_HJu"
      },
      "source": [
        "def calculate_group_size(groups, people):\n",
        "  for group in groups:\n",
        "    for person in people:\n",
        "      if person[\"group\"] == group[\"name\"]:\n",
        "        group[\"size\"] = group[\"size\"] + 1\n",
        "\n",
        "def calculate_total_spent(groups, menu_items):\n",
        "  for group in groups:\n",
        "    for item in menu_items:\n",
        "      if item[\"group\"] == group[\"name\"]:\n",
        "        group[\"total_spent\"] = group[\"total_spent\"] + item[\"price\"]\n",
        "\n",
        "def calculate_amount_owed(people, groups):\n",
        "  for person in people:\n",
        "    for group in groups:\n",
        "      if person[\"group\"] == group[\"name\"]:\n",
        "        person[\"amount_owed\"] = group[\"total_spent\"]/group[\"size\"]\n"
      ],
      "execution_count": 2,
      "outputs": []
    },
    {
      "cell_type": "markdown",
      "metadata": {
        "id": "Ov-uD3Qg9jYI"
      },
      "source": [
        "## Gym Class Timetable\n",
        "\n",
        "Use lists and dictionaries to store the details of a gym class timetable.\n",
        "\n",
        "Also consider if there are different ways to store it which might make it easier to display to the user."
      ]
    },
    {
      "cell_type": "markdown",
      "metadata": {
        "id": "DrDu2oIX_YLD"
      },
      "source": [
        "## TV Show Chooser\n",
        "\n",
        "Housemates in a share house want a system to, based on their preferences of tv shows, and genres, choose the best tv show to watch for whichever combination of people are home at the time."
      ]
    },
    {
      "cell_type": "markdown",
      "metadata": {
        "id": "osdWr10XEUws"
      },
      "source": [
        "# Musk Tweets (Text Analysis)"
      ]
    },
    {
      "cell_type": "markdown",
      "metadata": {
        "id": "64L1yVQnEK21"
      },
      "source": [
        "### Import tweets"
      ]
    },
    {
      "cell_type": "markdown",
      "metadata": {
        "id": "5iONl3mxYRzF"
      },
      "source": [
        "This code cell creates a list from some of Elon Musk's tweets. \n",
        "\n",
        "*You're not expected to completely understand this code yet. It's only here to give us interesting data*."
      ]
    },
    {
      "cell_type": "code",
      "metadata": {
        "id": "T2UcZXKtYXBb"
      },
      "source": [
        "import pandas\n",
        "\n",
        "raw_tweets = pandas.read_csv('https://raw.githubusercontent.com/sim-mautner/cs1010-21t2/main/data/elonmusk.csv')\n",
        "elon_tweets = list(raw_tweets.tweet)"
      ],
      "execution_count": null,
      "outputs": []
    },
    {
      "cell_type": "markdown",
      "metadata": {
        "id": "0raFxsR3Ej7z"
      },
      "source": [
        "### Questions"
      ]
    },
    {
      "cell_type": "markdown",
      "metadata": {
        "id": "FPcQZGp7Ei_r"
      },
      "source": [
        "What words does Elon use?"
      ]
    },
    {
      "cell_type": "code",
      "metadata": {
        "id": "N5hgi6tWElwR"
      },
      "source": [
        ""
      ],
      "execution_count": null,
      "outputs": []
    },
    {
      "cell_type": "markdown",
      "metadata": {
        "id": "iHRCFtr-FpUi"
      },
      "source": [
        "What words follow other words and how often?"
      ]
    },
    {
      "cell_type": "code",
      "metadata": {
        "id": "8HxjbzP0FyFf"
      },
      "source": [
        "example_tweet = \"the cat sat on the mat. the cat slept\"\n",
        "\n",
        "# the 2-> cat, the -> mat., cat -> sat, sat -> on, on -> the, cat -> slept\n",
        "\n",
        "example_result = { None: { \"the\": 1 },\n",
        "                  \"the\": { \"cat\": 2, \"mat.\": 1}, \n",
        "                  \"cat\": { \"sat\": 1, \"slept\": 1},\n",
        "                  \"sat\": { \"on\": 1 }, \"on\": {\"the\": 1}}"
      ],
      "execution_count": null,
      "outputs": []
    },
    {
      "cell_type": "code",
      "metadata": {
        "id": "spFvUpFPFz83"
      },
      "source": [
        ""
      ],
      "execution_count": null,
      "outputs": []
    },
    {
      "cell_type": "markdown",
      "metadata": {
        "id": "2JVy29nsGLMw"
      },
      "source": [
        "What words are only ever followed by one or zero other words?"
      ]
    },
    {
      "cell_type": "code",
      "metadata": {
        "id": "0O8f1icEGL8t"
      },
      "source": [
        ""
      ],
      "execution_count": null,
      "outputs": []
    },
    {
      "cell_type": "markdown",
      "metadata": {
        "id": "N_3wKYb8GW6H"
      },
      "source": [
        "Can we use this to create convincing sounding Elon tweets?"
      ]
    },
    {
      "cell_type": "code",
      "metadata": {
        "id": "8cE4DDHBH1v-"
      },
      "source": [
        ""
      ],
      "execution_count": null,
      "outputs": []
    },
    {
      "cell_type": "markdown",
      "metadata": {
        "id": "bK_pn7EiHJRE"
      },
      "source": [
        "# Dictionary Recap\n",
        "> 4A"
      ]
    },
    {
      "cell_type": "markdown",
      "metadata": {
        "id": "GSCeW_DcHLj8"
      },
      "source": [
        "This list contains the email addresses of 4 different students"
      ]
    },
    {
      "cell_type": "code",
      "metadata": {
        "id": "RWkYndHnHNpm"
      },
      "source": [
        "emails = [\"z1234567@student.unsw.edu.au\", \"z7654321@unsw.edu.au\", \n",
        "          \"z7891234@ad.unsw.edu.au\", \"z1357924@student.unsw.edu.au\"]"
      ],
      "execution_count": null,
      "outputs": []
    },
    {
      "cell_type": "markdown",
      "metadata": {
        "id": "aWfG1OsrHPjZ"
      },
      "source": [
        "Can we build a dictionary containing the ZIDs as keys and email addresses as values?"
      ]
    },
    {
      "cell_type": "code",
      "metadata": {
        "id": "6-H5XcCDHUWN"
      },
      "source": [
        ""
      ],
      "execution_count": null,
      "outputs": []
    },
    {
      "cell_type": "markdown",
      "metadata": {
        "id": "s6mNYY2CHXiF"
      },
      "source": [
        "How many students prefer each email domain?"
      ]
    },
    {
      "cell_type": "code",
      "metadata": {
        "id": "DVkSeOP9HYoZ"
      },
      "source": [
        ""
      ],
      "execution_count": null,
      "outputs": []
    },
    {
      "cell_type": "markdown",
      "metadata": {
        "id": "pvsUoKCcHkwp"
      },
      "source": [
        "Can we group students by their preferred email domain?"
      ]
    },
    {
      "cell_type": "code",
      "metadata": {
        "id": "qiUZ-LzoHlcb"
      },
      "source": [
        ""
      ],
      "execution_count": null,
      "outputs": []
    }
  ]
}