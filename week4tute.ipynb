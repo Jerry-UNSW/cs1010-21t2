{
  "nbformat": 4,
  "nbformat_minor": 0,
  "metadata": {
    "colab": {
      "name": "week4tute.ipynb",
      "provenance": [],
      "toc_visible": true,
      "include_colab_link": true
    },
    "kernelspec": {
      "name": "python3",
      "display_name": "Python 3"
    },
    "language_info": {
      "name": "python"
    }
  },
  "cells": [
    {
      "cell_type": "markdown",
      "metadata": {
        "id": "view-in-github",
        "colab_type": "text"
      },
      "source": [
        "<a href=\"https://colab.research.google.com/github/sim-mautner/cs1010-21t2/blob/main/week4tute.ipynb\" target=\"_parent\"><img src=\"https://colab.research.google.com/assets/colab-badge.svg\" alt=\"Open In Colab\"/></a>"
      ]
    },
    {
      "cell_type": "markdown",
      "metadata": {
        "id": "isdUfdAwJLVt"
      },
      "source": [
        "# Week 4 Tutorial"
      ]
    },
    {
      "cell_type": "markdown",
      "metadata": {
        "id": "vkozy5nUhhD_"
      },
      "source": [
        "## Kahoot\n",
        "\n",
        "Your tutor will run through a Kahoot with you to test how well you remember certain concepts from the past two weeks. After the tutes have occurred, the link will be posted here if you wish to go through it in your own time."
      ]
    },
    {
      "cell_type": "markdown",
      "metadata": {
        "id": "qLao2EeMidIE"
      },
      "source": [
        "## Dictionaries"
      ]
    },
    {
      "cell_type": "markdown",
      "metadata": {
        "id": "PLiF_4mZigV0"
      },
      "source": [
        "This dictionary contains a collection of students along with the number of courses they are doing next term. Some of the students are graduating, so aren't doing any subjects next term. The most subjects a student can do in a term is 4."
      ]
    },
    {
      "cell_type": "code",
      "metadata": {
        "id": "uHwCySK3ihp_"
      },
      "source": [
        "student_subjects = {\n",
        "    \"Sally Studies\": 3, \n",
        "    \"Penelope Prepares\": 0, \n",
        "    \"Francis Forgets\": 1, \n",
        "    \"David Doesn't-Read-Spec\": 2, \n",
        "    \"Oliver Overconfident\": 4, \n",
        "    \"Larry Leaves-It-To-The-Last-Minute\": 3, \n",
        "    \"Emily Eager\": 2, \n",
        "    \"Aaron Asks-Questions\": 3\n",
        "    }"
      ],
      "execution_count": null,
      "outputs": []
    },
    {
      "cell_type": "markdown",
      "metadata": {
        "id": "srTbSVMYilaj"
      },
      "source": [
        "How would you add yourself to the dictionary? Your tutor will pick a few of you to add and put you in the code cell below."
      ]
    },
    {
      "cell_type": "code",
      "metadata": {
        "id": "Ag0qZucuimQV"
      },
      "source": [
        ""
      ],
      "execution_count": null,
      "outputs": []
    },
    {
      "cell_type": "markdown",
      "metadata": {
        "id": "7LP4NDisimlD"
      },
      "source": [
        "Write a for-loop that calculates how many students are doing each possible number of courses, storing the results in the variables provided."
      ]
    },
    {
      "cell_type": "code",
      "metadata": {
        "id": "Y_XrX-X2iqaz"
      },
      "source": [
        "zero_subjects = 0\n",
        "one_subject = 0\n",
        "two_subjects = 0\n",
        "three_subjects = 0\n",
        "four_subjects = 0\n",
        "\n",
        "# Write for-loop here"
      ],
      "execution_count": null,
      "outputs": []
    },
    {
      "cell_type": "markdown",
      "metadata": {
        "id": "SucMDJXSisyr"
      },
      "source": [
        "Repeat the exercise, but store the results in a 5-element list instead."
      ]
    },
    {
      "cell_type": "code",
      "metadata": {
        "id": "ygfgUC7CiteS"
      },
      "source": [
        "subjects = [0] * 5\n",
        "\n",
        "# Write for-loop here"
      ],
      "execution_count": null,
      "outputs": []
    },
    {
      "cell_type": "markdown",
      "metadata": {
        "id": "C8TBCsn0iw-K"
      },
      "source": [
        "Discuss the two approaches."
      ]
    }
  ]
}