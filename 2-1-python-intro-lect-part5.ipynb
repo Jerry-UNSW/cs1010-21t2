{
  "nbformat": 4,
  "nbformat_minor": 0,
  "metadata": {
    "colab": {
      "name": "2-1-python-intro-lect-part5.ipynb",
      "provenance": [],
      "collapsed_sections": [
        "DbEnqaUnwfZp",
        "KhmKoARh8t28",
        "vOBvioy3WDO_",
        "CRQgX47vM5nU",
        "6uBUEwM2UaHc",
        "pVufceYcpugu",
        "clMhQF4k6wx-",
        "g-n6ohsr-2Z_",
        "2vG33InB4wPG",
        "RASu1vuRz8Bf",
        "TKpGsue7Mi2z",
        "qyzkVycOp7Cb",
        "o_7e49apRLPS",
        "693LDbk6uCQY",
        "MK7ri_tSt05T",
        "Dty2p3QOyP7V",
        "YkNbABqZcwVC",
        "4KXXnG4tfj35",
        "MZ9ug9b_DNs3",
        "obYBHYlwN0nl"
      ],
      "toc_visible": true,
      "include_colab_link": true
    },
    "kernelspec": {
      "name": "python3",
      "display_name": "Python 3"
    },
    "language_info": {
      "name": "python"
    }
  },
  "cells": [
    {
      "cell_type": "markdown",
      "metadata": {
        "id": "view-in-github",
        "colab_type": "text"
      },
      "source": [
        "<a href=\"https://colab.research.google.com/github/sim-mautner/cs1010-21t2/blob/main/2-1-python-intro-lect-part5.ipynb\" target=\"_parent\"><img src=\"https://colab.research.google.com/assets/colab-badge.svg\" alt=\"Open In Colab\"/></a>"
      ]
    },
    {
      "cell_type": "markdown",
      "metadata": {
        "id": "johv5jTzr1Vm"
      },
      "source": [
        "> Python Introduction<br>\n",
        "> COMP1010 2021 T2<br>\n",
        "> Week 2-3"
      ]
    },
    {
      "cell_type": "markdown",
      "metadata": {
        "id": "3262a-LbwQqC"
      },
      "source": [
        "# Collections (part 1)"
      ]
    },
    {
      "cell_type": "markdown",
      "metadata": {
        "id": "RaeMy89GiFLU"
      },
      "source": [
        "## Lists\n"
      ]
    },
    {
      "cell_type": "markdown",
      "metadata": {
        "id": "HUeCv4hAugmM"
      },
      "source": [
        "You have 4 students in the class. Create variables to store their project grades."
      ]
    },
    {
      "cell_type": "code",
      "metadata": {
        "id": "9aOzh4rdupjV"
      },
      "source": [
        ""
      ],
      "execution_count": null,
      "outputs": []
    },
    {
      "cell_type": "markdown",
      "metadata": {
        "id": "k1M9jmPNup-v"
      },
      "source": [
        "What happens when you have 10 students in the class? Or 100? I hear there's at least one COMP course with 1000 students.\n",
        "\n",
        "Lists are:\n",
        "* Used to store multiple items in one variable\n",
        "* Created using square brackets (eg `my_list = []`)\n",
        "* Ordered\n",
        "* Changeable\n",
        "* Allow duplicate values\n",
        "\n",
        "As always (in Python), lists are indexed from 0."
      ]
    },
    {
      "cell_type": "markdown",
      "metadata": {
        "id": "bk5LeZx1w86r"
      },
      "source": [
        "Create a list. (Topic suggestions welcome in chat.)"
      ]
    },
    {
      "cell_type": "code",
      "metadata": {
        "id": "rg87Uv7GxB5N"
      },
      "source": [
        ""
      ],
      "execution_count": null,
      "outputs": []
    },
    {
      "cell_type": "markdown",
      "metadata": {
        "id": "LW4qFumaxCMB"
      },
      "source": [
        "Print the list."
      ]
    },
    {
      "cell_type": "code",
      "metadata": {
        "id": "z6dzDLfUxDro"
      },
      "source": [
        ""
      ],
      "execution_count": null,
      "outputs": []
    },
    {
      "cell_type": "markdown",
      "metadata": {
        "id": "6f_HAVrixD6C"
      },
      "source": [
        "Append (add to the end) an element to the list. (And print it again.)"
      ]
    },
    {
      "cell_type": "code",
      "metadata": {
        "id": "XdekkgFAxHUC"
      },
      "source": [
        ""
      ],
      "execution_count": null,
      "outputs": []
    },
    {
      "cell_type": "markdown",
      "metadata": {
        "id": "voyImQ32xHh9"
      },
      "source": [
        "Print out the length of the list."
      ]
    },
    {
      "cell_type": "code",
      "metadata": {
        "id": "9yIMJl71xOxc"
      },
      "source": [
        ""
      ],
      "execution_count": null,
      "outputs": []
    },
    {
      "cell_type": "markdown",
      "metadata": {
        "id": "VkORFqtgxO_Z"
      },
      "source": [
        "Add some more elements to the list (using `append` and `insert`). Sort the list. (And print it again.)"
      ]
    },
    {
      "cell_type": "code",
      "metadata": {
        "id": "NOOvVMV3xVVo"
      },
      "source": [
        ""
      ],
      "execution_count": null,
      "outputs": []
    },
    {
      "cell_type": "markdown",
      "metadata": {
        "id": "wCJ1e5zF2_aS"
      },
      "source": [
        "Can we sort the list backwards?"
      ]
    },
    {
      "cell_type": "code",
      "metadata": {
        "id": "ELI6p-973CNB"
      },
      "source": [
        ""
      ],
      "execution_count": null,
      "outputs": []
    },
    {
      "cell_type": "markdown",
      "metadata": {
        "id": "PEcj09doxVho"
      },
      "source": [
        "Count the number of times an element occurs in the list."
      ]
    },
    {
      "cell_type": "code",
      "metadata": {
        "id": "VWcz8liqxbRx"
      },
      "source": [
        ""
      ],
      "execution_count": null,
      "outputs": []
    },
    {
      "cell_type": "markdown",
      "metadata": {
        "id": "eQyuUSomxajH"
      },
      "source": [
        "Print out the element at index 2."
      ]
    },
    {
      "cell_type": "code",
      "metadata": {
        "id": "JKJUW7KSxfSn"
      },
      "source": [
        ""
      ],
      "execution_count": null,
      "outputs": []
    },
    {
      "cell_type": "markdown",
      "metadata": {
        "id": "AVRzoOUsKFx-"
      },
      "source": [
        "What happens if we try to print (or access, or assign) an index which is larger than the length of the list?"
      ]
    },
    {
      "cell_type": "code",
      "metadata": {
        "id": "D6LgrhIbKMoz"
      },
      "source": [
        ""
      ],
      "execution_count": null,
      "outputs": []
    },
    {
      "cell_type": "markdown",
      "metadata": {
        "id": "0c-uAIBoxe1H"
      },
      "source": [
        "Change the element at index 1 to be different. Print the list again."
      ]
    },
    {
      "cell_type": "code",
      "metadata": {
        "id": "0FQoRCYzxa3e"
      },
      "source": [
        ""
      ],
      "execution_count": null,
      "outputs": []
    },
    {
      "cell_type": "markdown",
      "metadata": {
        "id": "iegUWlUmzZIe"
      },
      "source": [
        "Remove some elements from the list. (Removing by element, popping by index.) (Printing the list each time.) Remove by element and by index."
      ]
    },
    {
      "cell_type": "code",
      "metadata": {
        "id": "GFfXBgzyzyRu"
      },
      "source": [
        ""
      ],
      "execution_count": null,
      "outputs": []
    },
    {
      "cell_type": "markdown",
      "metadata": {
        "id": "PkHrOJCGxlfS"
      },
      "source": [
        "Clear the list. (And print it again.)"
      ]
    },
    {
      "cell_type": "code",
      "metadata": {
        "id": "SrYAu8LFyeE8"
      },
      "source": [
        ""
      ],
      "execution_count": null,
      "outputs": []
    },
    {
      "cell_type": "markdown",
      "metadata": {
        "id": "HdDMv-Dmjplx"
      },
      "source": [
        "Lists are also handy in some other situations. For example, can we use use a list to simplify our [months of the year](#eg_months_cell) example?\n"
      ]
    },
    {
      "cell_type": "code",
      "metadata": {
        "id": "ClhVtCO6uf_C"
      },
      "source": [
        "assert(month_to_text(0) == \"\")\n",
        "assert(month_to_text(1) == \"Jan\")\n",
        "assert(month_to_text(2) == \"Feb\")\n",
        "assert(month_to_text(3) == \"Mar\")\n",
        "assert(month_to_text(4) == \"Apr\")\n",
        "assert(month_to_text(5) == \"May\")\n",
        "assert(month_to_text(6) == \"Jun\")\n",
        "assert(month_to_text(7) == \"Jul\")\n",
        "assert(month_to_text(8) == \"Aug\")\n",
        "assert(month_to_text(9) == \"Sep\")\n",
        "assert(month_to_text(10) == \"Oct\")\n",
        "assert(month_to_text(11) == \"Nov\")\n",
        "assert(month_to_text(12) == \"Dec\")\n",
        "assert(month_to_text(13) == \"\")\n",
        "assert(month_to_text(3.14) == \"\")\n",
        "assert(month_to_text(\"hello\") == \"\")"
      ],
      "execution_count": 6,
      "outputs": []
    },
    {
      "cell_type": "code",
      "metadata": {
        "id": "DWDwbR85lX1t"
      },
      "source": [
        "def month_to_text(month_num):\n",
        "  # Check valid month\n",
        "  if not isinstance(month_num, int):\n",
        "    return \"\"\n",
        "\n",
        "  if month_num < 1 or month_num > 12:\n",
        "    return \"\"\n",
        "  \n",
        "  # Process valid input\n",
        "  month_strings = [\"\",\"Jan\",\"Feb\",\"Mar\",\"Apr\",\"May\",\"Jun\",\n",
        "                      \"Jul\",\"Aug\",\"Sep\",\"Oct\",\"Nov\",\"Dec\"]\n",
        "\n",
        "  return month_strings[month_num]\n",
        "  "
      ],
      "execution_count": 5,
      "outputs": []
    },
    {
      "cell_type": "markdown",
      "metadata": {
        "id": "oHQLUq6UmM1w"
      },
      "source": [
        "**Note:** Don't run lines too long (more than 79 characters). When the grey line says you're going too long, make it go over 2 lines."
      ]
    },
    {
      "cell_type": "code",
      "metadata": {
        "colab": {
          "base_uri": "https://localhost:8080/"
        },
        "id": "22lgCVJDmh9B",
        "outputId": "7b5914f0-8a82-43b5-f07c-14a1afb0fd15"
      },
      "source": [
        "# Not the same!!!\n",
        "# For lists, you must use []\n",
        "# () produce a tuple (which will be covered later in the course)\n",
        "\n",
        "my_list1 = []\n",
        "my_list2 = ()\n",
        "\n",
        "print(type(my_list1))\n",
        "print(type(my_list2))"
      ],
      "execution_count": 8,
      "outputs": [
        {
          "output_type": "stream",
          "text": [
            "<class 'list'>\n",
            "<class 'tuple'>\n"
          ],
          "name": "stdout"
        }
      ]
    },
    {
      "cell_type": "markdown",
      "metadata": {
        "id": "n1h5s_Nf2Ghn"
      },
      "source": [
        "Can we find out if an element is in the list? (Without searching through the list one by one.)"
      ]
    },
    {
      "cell_type": "code",
      "metadata": {
        "id": "h6FE_Ydu2aLl",
        "colab": {
          "base_uri": "https://localhost:8080/"
        },
        "outputId": "526afbb8-f348-4ec2-dc35-105a68590391"
      },
      "source": [
        "month_strings = [\"\",\"Jan\",\"Feb\",\"Mar\",\"Apr\",\"May\",\"Jun\",\n",
        "                    \"Jul\",\"Aug\",\"Sep\",\"Oct\",\"Nov\",\"Dec\"]\n",
        "\n",
        "if \"Jan\" in month_strings:\n",
        "  print(\"January is in my list\")\n",
        "\n",
        "if \"Nope\" in month_strings:\n",
        "  print(\"There may be a problem...\")"
      ],
      "execution_count": 9,
      "outputs": [
        {
          "output_type": "stream",
          "text": [
            "January is in my list\n"
          ],
          "name": "stdout"
        }
      ]
    },
    {
      "cell_type": "markdown",
      "metadata": {
        "id": "6Cne1Az42sQP"
      },
      "source": [
        "Can we loop through the list one by one?"
      ]
    },
    {
      "cell_type": "code",
      "metadata": {
        "id": "Qw3_2DVz25oL",
        "colab": {
          "base_uri": "https://localhost:8080/"
        },
        "outputId": "f46573eb-72c5-4ac9-86ff-d4ac1b8f6728"
      },
      "source": [
        "for month in month_strings:\n",
        "  print(month)"
      ],
      "execution_count": 10,
      "outputs": [
        {
          "output_type": "stream",
          "text": [
            "\n",
            "Jan\n",
            "Feb\n",
            "Mar\n",
            "Apr\n",
            "May\n",
            "Jun\n",
            "Jul\n",
            "Aug\n",
            "Sep\n",
            "Oct\n",
            "Nov\n",
            "Dec\n"
          ],
          "name": "stdout"
        }
      ]
    },
    {
      "cell_type": "markdown",
      "metadata": {
        "id": "y8G0n6U43Mls"
      },
      "source": [
        "Can we join two lists together? (aka What happens when we + two lists?)"
      ]
    },
    {
      "cell_type": "code",
      "metadata": {
        "id": "xKc-75uZ3RuI",
        "colab": {
          "base_uri": "https://localhost:8080/"
        },
        "outputId": "3ad07db6-4f50-4324-817b-6626bf114d7f"
      },
      "source": [
        "shop1 = [\"apples\", \"bananas\", \"pears\"]\n",
        "shop2 = [\"milk\", \"bread\"]\n",
        "full_list = shop1 + shop2\n",
        "\n",
        "print(full_list)"
      ],
      "execution_count": 11,
      "outputs": [
        {
          "output_type": "stream",
          "text": [
            "['apples', 'bananas', 'pears', 'milk', 'bread']\n"
          ],
          "name": "stdout"
        }
      ]
    },
    {
      "cell_type": "markdown",
      "metadata": {
        "id": "YvnK2MFF4fCj"
      },
      "source": [
        "Can lists contain lists? How would we access it? How would we print it?"
      ]
    },
    {
      "cell_type": "code",
      "metadata": {
        "id": "rQn3E3zK4mmx"
      },
      "source": [
        "grades = [[1,1,2,2,2,0,0],\n",
        "          [1,1,1,1,1,1,1],\n",
        "          [2,2,2,2,2,2,2],\n",
        "          [1,1,2,2,1,1,1]]\n",
        "\n"
      ],
      "execution_count": 12,
      "outputs": []
    },
    {
      "cell_type": "code",
      "metadata": {
        "colab": {
          "base_uri": "https://localhost:8080/"
        },
        "id": "f70m7jHboaWG",
        "outputId": "5d648977-d816-41b5-c0b3-2783afbf6fb9"
      },
      "source": [
        "print(grades)"
      ],
      "execution_count": 13,
      "outputs": [
        {
          "output_type": "stream",
          "text": [
            "[[1, 1, 2, 2, 2, 0, 0], [1, 1, 1, 1, 1, 1, 1], [2, 2, 2, 2, 2, 2, 2], [1, 1, 2, 2, 1, 1, 1]]\n"
          ],
          "name": "stdout"
        }
      ]
    },
    {
      "cell_type": "code",
      "metadata": {
        "colab": {
          "base_uri": "https://localhost:8080/"
        },
        "id": "x0kYclrLoZPu",
        "outputId": "7bd947ca-b1ad-41ed-9be1-acc43cc584f1"
      },
      "source": [
        "for student in grades:\n",
        "  print(student)"
      ],
      "execution_count": 14,
      "outputs": [
        {
          "output_type": "stream",
          "text": [
            "[1, 1, 2, 2, 2, 0, 0]\n",
            "[1, 1, 1, 1, 1, 1, 1]\n",
            "[2, 2, 2, 2, 2, 2, 2]\n",
            "[1, 1, 2, 2, 1, 1, 1]\n"
          ],
          "name": "stdout"
        }
      ]
    },
    {
      "cell_type": "code",
      "metadata": {
        "colab": {
          "base_uri": "https://localhost:8080/"
        },
        "id": "k5vecizSohcH",
        "outputId": "e650331e-c61e-4ed8-97de-dc60410aedec"
      },
      "source": [
        "for student in grades:\n",
        "  for grade in student:\n",
        "    print(f\"{grade},\", end=\"\")\n",
        "  print('\\n')"
      ],
      "execution_count": 17,
      "outputs": [
        {
          "output_type": "stream",
          "text": [
            "1,1,2,2,2,0,0,\n",
            "\n",
            "1,1,1,1,1,1,1,\n",
            "\n",
            "2,2,2,2,2,2,2,\n",
            "\n",
            "1,1,2,2,1,1,1,\n",
            "\n"
          ],
          "name": "stdout"
        }
      ]
    },
    {
      "cell_type": "markdown",
      "metadata": {
        "id": "I0HJz1_StemU"
      },
      "source": [
        "Could we make the game Tic Tac Toe?"
      ]
    },
    {
      "cell_type": "code",
      "metadata": {
        "id": "QnG3Tp6ptg58",
        "colab": {
          "base_uri": "https://localhost:8080/"
        },
        "outputId": "c6ff459e-f524-4deb-a2da-d379c60d2f6a"
      },
      "source": [
        "\n",
        "def print_game(board):\n",
        "  for row in board:\n",
        "    for square in row:\n",
        "      print(square + \" \", end=\"\")\n",
        "    print()\n",
        "\n",
        "def get_move(board, player):\n",
        "  \n",
        "  # Get the move from the user\n",
        "  row = int(input(\"Row: \"))\n",
        "  col = int(input(\"Col: \"))\n",
        "\n",
        "  '''\n",
        "  TODO check it's a valid move\n",
        "   - on the board (0, 1 or 2 for each row and col)\n",
        "   - empty square\n",
        "   '''\n",
        "\n",
        "  # Put the move on the board\n",
        "  player_symbols = ['X','O']\n",
        "  board[row][col] = player_symbols[player]\n",
        "\n",
        "\n",
        "def game_finished(board):\n",
        "  '''\n",
        "  1. If the board is full, then it's finished.\n",
        "  2. If a player has 3 in a row, then it's finished.\n",
        "  '''\n",
        "\n",
        "  is_empty_square = False\n",
        "  # Search the whole board for an empty square\n",
        "  for row in board:\n",
        "    for square in row:\n",
        "      if square == '-':\n",
        "        is_empty_square = True\n",
        "  if is_empty_square == False: # if there are no empty squares\n",
        "    return True # the game is finished\n",
        "\n",
        "  # Horizontal Win\n",
        "  for row in board:\n",
        "    if row[0] == row[1] and row[1]==row[2] and row[0] != '-':\n",
        "      return True\n",
        "\n",
        "  # Vertical Win\n",
        "  for col in range(3):\n",
        "    if board[0][col] == board[1][col] and \\\n",
        "       board[1][col] == board[2][col] and \\\n",
        "       board[0][col] != '-':\n",
        "      return True\n",
        "\n",
        "  # Diagonal Win\n",
        "  if board[0][0] == board[1][1] and \\\n",
        "     board[1][1] == board[2][2] and \\\n",
        "     board[0][0] != '-':\n",
        "    return True\n",
        "  if board[0][2] == board[1][1] and \\\n",
        "     board[1][1] == board[2][0] and \\\n",
        "     board[0][2] != '-':\n",
        "    return True\n",
        "      \n",
        "  # If I haven't found a situation where the game is finished,\n",
        "  # then the game isn't finished\n",
        "  return False\n",
        "\n",
        "# TODO make it declare a winner if one exists\n",
        "\n",
        "def game():\n",
        "  tic_tac_toe = [['-','-','-'],\n",
        "                 ['-','-','-'],\n",
        "                 ['-','-','-']]\n",
        "  # tic_tac_toe[0][2]='X'\n",
        "  # tic_tac_toe[1][1]='O'\n",
        "  player = 0\n",
        "\n",
        "  while not game_finished(tic_tac_toe):\n",
        "    get_move(tic_tac_toe, player)\n",
        "    print_game(tic_tac_toe)\n",
        "    player = (player+1)%2\n",
        "\n",
        "game()"
      ],
      "execution_count": 36,
      "outputs": [
        {
          "output_type": "stream",
          "text": [
            "Row: 0\n",
            "Col: 1\n",
            "- X - \n",
            "- - - \n",
            "- - - \n",
            "Row: 1\n",
            "Col: 1\n",
            "- X - \n",
            "- O - \n",
            "- - - \n",
            "Row: 0\n",
            "Col: 0\n",
            "X X - \n",
            "- O - \n",
            "- - - \n",
            "Row: 2\n",
            "Col: 0\n",
            "X X - \n",
            "- O - \n",
            "O - - \n",
            "Row: 0\n",
            "Col: 2\n",
            "X X X \n",
            "- O - \n",
            "O - - \n"
          ],
          "name": "stdout"
        }
      ]
    },
    {
      "cell_type": "markdown",
      "metadata": {
        "id": "_8aek9zMtjWc"
      },
      "source": [
        "How can we show that the order matters in a list?"
      ]
    },
    {
      "cell_type": "code",
      "metadata": {
        "id": "WoSMPbgstn6F",
        "colab": {
          "base_uri": "https://localhost:8080/"
        },
        "outputId": "805066ec-20c9-4a7b-e9a3-78bcec1c7f5b"
      },
      "source": [
        "list1 = [\"apples\", \"bananas\"]\n",
        "list1_copy = [\"apples\", \"bananas\"]\n",
        "list1_rev = [\"bananas\", \"apples\"]\n",
        "\n",
        "print(f\"list1 and copy: {list1 == list1_copy}\")\n",
        "print(f\"list1 and rev: {list1 == list1_rev}\")"
      ],
      "execution_count": 37,
      "outputs": [
        {
          "output_type": "stream",
          "text": [
            "list1 and copy: True\n",
            "list1 and rev: False\n"
          ],
          "name": "stdout"
        }
      ]
    },
    {
      "cell_type": "markdown",
      "metadata": {
        "id": "6bFZtlVK567M"
      },
      "source": [
        "## A warning about loops\n",
        "\n",
        "Changing a list (or other collection), while looping over it, can cause unwanted results."
      ]
    },
    {
      "cell_type": "code",
      "metadata": {
        "id": "cRMvNKmA6PDy",
        "colab": {
          "base_uri": "https://localhost:8080/"
        },
        "outputId": "ee4ebb4b-a067-423c-81c9-a27965332399"
      },
      "source": [
        "l = [\"one\", \"two\", \"three\", \"four\", \"five\"]\n",
        "\n",
        "for element in l:\n",
        "  print(\"Inspecting: \" + element)\n",
        "  if element == \"three\":\n",
        "    l.remove(\"two\")\n",
        "  \n",
        "print(l)"
      ],
      "execution_count": 28,
      "outputs": [
        {
          "output_type": "stream",
          "text": [
            "Inspecting: one\n",
            "Inspecting: two\n",
            "Inspecting: three\n",
            "Inspecting: five\n",
            "['one', 'three', 'four', 'five']\n"
          ],
          "name": "stdout"
        }
      ]
    },
    {
      "cell_type": "markdown",
      "metadata": {
        "id": "jax4aetkpdEu"
      },
      "source": [
        "```\n",
        "Suggestion 1:\n",
        "[\"one\", \"three\", \"four\", \"five\"]\n",
        "```\n",
        "\n"
      ]
    },
    {
      "cell_type": "markdown",
      "metadata": {
        "id": "eZqAulgMz2dj"
      },
      "source": [
        "## Dictionaries"
      ]
    },
    {
      "cell_type": "markdown",
      "metadata": {
        "id": "kbq1or8az6w6"
      },
      "source": [
        "In the real world, dictionaries let us look up *words* and find *meanings*.\n",
        "In Python, dictionaries let us look up *keys* and find *values*.\n",
        "\n",
        "Like a list, but with meaningful keys instead of indexes 0, 1, 2..."
      ]
    },
    {
      "cell_type": "markdown",
      "metadata": {
        "id": "U5BF1VcLWLmn"
      },
      "source": [
        "Create a dictionary mapping classes to tutor or lecturer."
      ]
    },
    {
      "cell_type": "code",
      "metadata": {
        "id": "Rxuh3oyZ8Nc0"
      },
      "source": [
        "classes = {\"T15A\":\"Liz\",\n",
        "           \"H12A\":\"Liz\",\n",
        "           \"H15A\":\"William\",\n",
        "           \"F09A\":\"Kai\",\n",
        "           \"T12U\":\"Sim\",\n",
        "           \"W12U\":\"Sim\"}"
      ],
      "execution_count": 39,
      "outputs": []
    },
    {
      "cell_type": "markdown",
      "metadata": {
        "id": "qNXUH1KZ8NtW"
      },
      "source": [
        "Which tutor teaches H12A?"
      ]
    },
    {
      "cell_type": "code",
      "metadata": {
        "id": "Wh9N6fL28PRq",
        "colab": {
          "base_uri": "https://localhost:8080/",
          "height": 35
        },
        "outputId": "1fbb6c7f-a67a-4e3f-97f4-aded64d0395e"
      },
      "source": [
        "classes[\"H12A\"]"
      ],
      "execution_count": 40,
      "outputs": [
        {
          "output_type": "execute_result",
          "data": {
            "application/vnd.google.colaboratory.intrinsic+json": {
              "type": "string"
            },
            "text/plain": [
              "'Liz'"
            ]
          },
          "metadata": {
            "tags": []
          },
          "execution_count": 40
        }
      ]
    },
    {
      "cell_type": "markdown",
      "metadata": {
        "id": "c5VR6-uiWZkg"
      },
      "source": [
        "Can we add another class to the dictionary?"
      ]
    },
    {
      "cell_type": "code",
      "metadata": {
        "id": "4vGiJTroWeL1"
      },
      "source": [
        "classes[\"F14A\"] = \"Sim\""
      ],
      "execution_count": 41,
      "outputs": []
    },
    {
      "cell_type": "code",
      "metadata": {
        "id": "PXDlDD-M0_0P",
        "outputId": "0a4244f8-3818-4a9e-8ff5-cda49e60dd27",
        "colab": {
          "base_uri": "https://localhost:8080/"
        }
      },
      "source": [
        "classes"
      ],
      "execution_count": 42,
      "outputs": [
        {
          "output_type": "execute_result",
          "data": {
            "text/plain": [
              "{'F09A': 'Kai',\n",
              " 'F14A': 'Sim',\n",
              " 'H12A': 'Liz',\n",
              " 'H15A': 'William',\n",
              " 'T12U': 'Sim',\n",
              " 'T15A': 'Liz',\n",
              " 'W12U': 'Sim'}"
            ]
          },
          "metadata": {
            "tags": []
          },
          "execution_count": 42
        }
      ]
    },
    {
      "cell_type": "markdown",
      "metadata": {
        "id": "y5LAY7lZWeYn"
      },
      "source": [
        "Can we change which tutor takes a class?"
      ]
    },
    {
      "cell_type": "code",
      "metadata": {
        "id": "UqDcwA4NWkxf"
      },
      "source": [
        "classes[\"F14A\"] = \"Liz\""
      ],
      "execution_count": 43,
      "outputs": []
    },
    {
      "cell_type": "code",
      "metadata": {
        "id": "JP1olwQL1PE3",
        "outputId": "0f397ec8-99ab-4a81-86e6-0af095083c38",
        "colab": {
          "base_uri": "https://localhost:8080/"
        }
      },
      "source": [
        "classes"
      ],
      "execution_count": 44,
      "outputs": [
        {
          "output_type": "execute_result",
          "data": {
            "text/plain": [
              "{'F09A': 'Kai',\n",
              " 'F14A': 'Liz',\n",
              " 'H12A': 'Liz',\n",
              " 'H15A': 'William',\n",
              " 'T12U': 'Sim',\n",
              " 'T15A': 'Liz',\n",
              " 'W12U': 'Sim'}"
            ]
          },
          "metadata": {
            "tags": []
          },
          "execution_count": 44
        }
      ]
    },
    {
      "cell_type": "markdown",
      "metadata": {
        "id": "F9DTDyLJWlCf"
      },
      "source": [
        "Two tutors have swapped classes. How would we go about updating the dictionary?"
      ]
    },
    {
      "cell_type": "code",
      "metadata": {
        "id": "hHthwW21XDii",
        "colab": {
          "base_uri": "https://localhost:8080/"
        },
        "outputId": "502b908b-7c92-46a1-c44c-c42f4bad8ea9"
      },
      "source": [
        "temp = classes[\"H12A\"]\n",
        "classes[\"H12A\"] = classes[\"H15A\"]\n",
        "classes[\"H15A\"] = temp\n",
        "\n",
        "classes"
      ],
      "execution_count": 45,
      "outputs": [
        {
          "output_type": "execute_result",
          "data": {
            "text/plain": [
              "{'F09A': 'Kai',\n",
              " 'F14A': 'Liz',\n",
              " 'H12A': 'William',\n",
              " 'H15A': 'Liz',\n",
              " 'T12U': 'Sim',\n",
              " 'T15A': 'Liz',\n",
              " 'W12U': 'Sim'}"
            ]
          },
          "metadata": {
            "tags": []
          },
          "execution_count": 45
        }
      ]
    },
    {
      "cell_type": "code",
      "metadata": {
        "id": "mTgyLe0i24UM",
        "outputId": "52319b1e-fb1a-4e1a-ef18-8a43beffb35f",
        "colab": {
          "base_uri": "https://localhost:8080/"
        }
      },
      "source": [
        "classes[\"F09A\"], classes[\"F14A\"] = classes[\"F14A\"], classes[\"F09A\"]\n",
        "classes"
      ],
      "execution_count": 47,
      "outputs": [
        {
          "output_type": "execute_result",
          "data": {
            "text/plain": [
              "{'F09A': 'Liz',\n",
              " 'F14A': 'Kai',\n",
              " 'H12A': 'William',\n",
              " 'H15A': 'Liz',\n",
              " 'T12U': 'Sim',\n",
              " 'T15A': 'Liz',\n",
              " 'W12U': 'Sim'}"
            ]
          },
          "metadata": {
            "tags": []
          },
          "execution_count": 47
        }
      ]
    },
    {
      "cell_type": "markdown",
      "metadata": {
        "id": "EqBIuOzqXDzR"
      },
      "source": [
        "Dictionaries are:\n",
        "* ordered*\n",
        "* changeable\n",
        "* does not allow duplicates\n",
        "\n",
        "Note: As of Python version 3.7, dictionaries are ordered. In Python 3.6 and earlier, dictionaries are unordered."
      ]
    },
    {
      "cell_type": "code",
      "metadata": {
        "id": "ORISLxNU2gX6",
        "outputId": "dfb2c9ca-b118-48a8-c150-4f3b59428975",
        "colab": {
          "base_uri": "https://localhost:8080/"
        }
      },
      "source": [
        "dict1 = {\"apples\":5, \"bananas\":2}\n",
        "dict1_rev = {\"bananas\":2, \"apples\":5}\n",
        "\n",
        "print(f\"Same? {dict1 == dict1_rev}\")"
      ],
      "execution_count": 48,
      "outputs": [
        {
          "output_type": "stream",
          "text": [
            "Same? True\n"
          ],
          "name": "stdout"
        }
      ]
    },
    {
      "cell_type": "markdown",
      "metadata": {
        "id": "kD2fo7X4RDhd"
      },
      "source": [
        "What happens if we try and put a duplicate entry into a dictionary?"
      ]
    },
    {
      "cell_type": "code",
      "metadata": {
        "id": "04XcJENJRJbO",
        "colab": {
          "base_uri": "https://localhost:8080/"
        },
        "outputId": "073ef6b8-14eb-4135-da59-d3027eede34d"
      },
      "source": [
        "dict1 = {\"apples\":5, \"bananas\":2}\n",
        "dict1[\"apples\"] = 7\n",
        "\n",
        "dict1"
      ],
      "execution_count": 49,
      "outputs": [
        {
          "output_type": "execute_result",
          "data": {
            "text/plain": [
              "{'apples': 7, 'bananas': 2}"
            ]
          },
          "metadata": {
            "tags": []
          },
          "execution_count": 49
        }
      ]
    },
    {
      "cell_type": "markdown",
      "metadata": {
        "id": "l3wd6RG-8oXI"
      },
      "source": [
        "# Modules and Libraries\n"
      ]
    },
    {
      "cell_type": "markdown",
      "metadata": {
        "id": "2HccA5Zg8zEb"
      },
      "source": [
        "\n",
        "Why do we have them?\n",
        "\n",
        "Where can I find more? [PyPI - Python Package Index](https://pypi.org/)"
      ]
    },
    {
      "cell_type": "markdown",
      "metadata": {
        "id": "axgGxbd35JVg"
      },
      "source": [
        "# Datetime"
      ]
    },
    {
      "cell_type": "markdown",
      "metadata": {
        "id": "1HQ9OmH8BxVO"
      },
      "source": [
        "Can we get the current datetime?\n"
      ]
    },
    {
      "cell_type": "code",
      "metadata": {
        "id": "vEXQz60eDuGg",
        "colab": {
          "base_uri": "https://localhost:8080/"
        },
        "outputId": "8245645c-1d95-440d-d368-e0cbfbf74023"
      },
      "source": [
        "import datetime\n",
        "\n",
        "my_date = datetime.datetime.now()\n",
        "print(my_date)"
      ],
      "execution_count": 52,
      "outputs": [
        {
          "output_type": "stream",
          "text": [
            "2021-06-16 03:35:50.708939\n"
          ],
          "name": "stdout"
        }
      ]
    },
    {
      "cell_type": "markdown",
      "metadata": {
        "id": "4uIVMAMIDuY_"
      },
      "source": [
        "Can we create an object with a specific datetime?"
      ]
    },
    {
      "cell_type": "code",
      "metadata": {
        "id": "ravghWwj7o2L",
        "colab": {
          "base_uri": "https://localhost:8080/"
        },
        "outputId": "08b57479-dd80-4e5e-f668-0f50608d0e49"
      },
      "source": [
        "other_date = datetime.datetime(2020, 4, 17)\n",
        "print(other_date)"
      ],
      "execution_count": 54,
      "outputs": [
        {
          "output_type": "stream",
          "text": [
            "2020-04-17 00:00:00\n"
          ],
          "name": "stdout"
        }
      ]
    },
    {
      "cell_type": "markdown",
      "metadata": {
        "id": "bsydqR0UDrjP"
      },
      "source": [
        "Can we print out the current date and time, in the format:\n",
        "\n",
        "> Today is Wednesday, 30/04/2021\n",
        "\n",
        "Some useful/common formats:\n",
        "* %a\tWeekday, short version\tWed\t\n",
        "* %A\tWeekday, full version\tWednesday\t\t\n",
        "* %d\tDay of month 01-31\t31\t\n",
        "* %b\tMonth name, short version\tDec\t\n",
        "* %B\tMonth name, full version\tDecember\t\n",
        "* %m\tMonth as a number 01-12\t12\t\n",
        "* %y\tYear, short version, without century\t18\t\n",
        "* %Y\tYear, full version\t2018\t\n",
        "* %H\tHour 00-23\t17\t\n",
        "* %I\tHour 00-12\t05\t\n",
        "* %p\tAM/PM\tPM\t\n",
        "* %M\tMinute 00-59\t41\t\n",
        "* %S\tSecond 00-59\t08\n",
        "\n",
        "([complete list of formats](https://www.w3schools.com/python/python_datetime.asp))"
      ]
    },
    {
      "cell_type": "code",
      "metadata": {
        "id": "BdHisgwGDs0I",
        "colab": {
          "base_uri": "https://localhost:8080/"
        },
        "outputId": "d61c0416-83a4-4be5-b45e-470933fc8595"
      },
      "source": [
        "print(f\"Today is {my_date.strftime('%A')}, {my_date.strftime('%d')}/{my_date.strftime('%m')}/{my_date.strftime('%Y')}\")"
      ],
      "execution_count": 57,
      "outputs": [
        {
          "output_type": "stream",
          "text": [
            "Today is Wednesday, 16/06/2021\n"
          ],
          "name": "stdout"
        }
      ]
    },
    {
      "cell_type": "markdown",
      "metadata": {
        "id": "pmyZPba6Aztc"
      },
      "source": [
        "# Random\n",
        "\n"
      ]
    },
    {
      "cell_type": "markdown",
      "metadata": {
        "id": "yq3sKbWq1YuI"
      },
      "source": [
        "Write a function which simulates the rolling of a 6-sided dice."
      ]
    },
    {
      "cell_type": "code",
      "metadata": {
        "id": "cOqnLS0OBZp3"
      },
      "source": [
        "def roll_6d():\n",
        "  return random.randint(1,6)"
      ],
      "execution_count": 73,
      "outputs": []
    },
    {
      "cell_type": "code",
      "metadata": {
        "id": "lbqOW-MB6VSb",
        "outputId": "d28cd79f-e41c-4cdb-9f86-c92acce07e97",
        "colab": {
          "base_uri": "https://localhost:8080/"
        }
      },
      "source": [
        "import random\n",
        "\n",
        "roll_6d()"
      ],
      "execution_count": 76,
      "outputs": [
        {
          "output_type": "execute_result",
          "data": {
            "text/plain": [
              "6"
            ]
          },
          "metadata": {
            "tags": []
          },
          "execution_count": 76
        }
      ]
    },
    {
      "cell_type": "markdown",
      "metadata": {
        "id": "tQUL7Lts1frh"
      },
      "source": [
        "Writie a function which takes in an integer n, and simulates the rolling of an n-sided dice."
      ]
    },
    {
      "cell_type": "code",
      "metadata": {
        "id": "S4jaGJ_F1kD8"
      },
      "source": [
        "def roll_nd(n):\n",
        "  return random.randint(1,n)"
      ],
      "execution_count": 78,
      "outputs": []
    },
    {
      "cell_type": "code",
      "metadata": {
        "id": "KlQmGQHA6yjy",
        "outputId": "4f20d865-ba4a-49af-c83c-f90abeec7506",
        "colab": {
          "base_uri": "https://localhost:8080/"
        }
      },
      "source": [
        "import random\n",
        "\n",
        "roll_nd(200)"
      ],
      "execution_count": 81,
      "outputs": [
        {
          "output_type": "execute_result",
          "data": {
            "text/plain": [
              "92"
            ]
          },
          "metadata": {
            "tags": []
          },
          "execution_count": 81
        }
      ]
    },
    {
      "cell_type": "markdown",
      "metadata": {
        "id": "ZEFihde3_aXd"
      },
      "source": [
        "# Images"
      ]
    },
    {
      "cell_type": "markdown",
      "metadata": {
        "id": "Kvxtudo1_kHk"
      },
      "source": [
        "Important info:\n",
        "* An image is a width x height grid of pixels\n",
        "* Each pixel has a Red, Green, and Blue component"
      ]
    },
    {
      "cell_type": "markdown",
      "metadata": {
        "id": "SeQyXNX4_vdT"
      },
      "source": [
        "Using the [Pillow](https://python-pillow.org/) library in python allows us to create and manipulate images.\n",
        "\n",
        "**Note:** This is not something we will be covering in depth in this course, so don't feel you have to memorise how to manipulate images."
      ]
    },
    {
      "cell_type": "code",
      "metadata": {
        "id": "z9H_jZ007Vug",
        "outputId": "1e073669-df3d-4557-eec2-581fc602d534",
        "colab": {
          "base_uri": "https://localhost:8080/"
        }
      },
      "source": [
        "!pip install Pillow"
      ],
      "execution_count": 83,
      "outputs": [
        {
          "output_type": "stream",
          "text": [
            "Requirement already satisfied: Pillow in /usr/local/lib/python3.7/dist-packages (7.1.2)\n"
          ],
          "name": "stdout"
        }
      ]
    },
    {
      "cell_type": "markdown",
      "metadata": {
        "id": "psilTuyE7dp3"
      },
      "source": [
        "Blank canvas"
      ]
    },
    {
      "cell_type": "code",
      "metadata": {
        "id": "7H3a7hZL68PR",
        "outputId": "8d0870ac-1f80-4e8a-e8fb-de5a81f219cd",
        "colab": {
          "base_uri": "https://localhost:8080/",
          "height": 617
        }
      },
      "source": [
        "from PIL import Image\n",
        "\n",
        "im = Image.new(mode='RGB', size=(800,600), color=\"white\")\n",
        "\n",
        "im"
      ],
      "execution_count": 82,
      "outputs": [
        {
          "output_type": "execute_result",
          "data": {
            "image/png": "[encoded data removed]",
            "text/plain": [
              "<PIL.Image.Image image mode=RGB size=800x600 at 0x7F602EB7BE10>"
            ]
          },
          "metadata": {
            "tags": []
          },
          "execution_count": 82
        }
      ]
    },
    {
      "cell_type": "markdown",
      "metadata": {
        "id": "wbahYL757gTH"
      },
      "source": [
        "Abstract Art"
      ]
    },
    {
      "cell_type": "code",
      "metadata": {
        "id": "lPIdoMjN7ilv",
        "outputId": "e61a2d5c-326c-4ad0-90ea-546687633997",
        "colab": {
          "base_uri": "https://localhost:8080/",
          "height": 617
        }
      },
      "source": [
        "from PIL import Image, ImageDraw\n",
        "\n",
        "im = Image.new(mode='RGB', size=(800,600), color=\"white\")\n",
        "\n",
        "drawer = ImageDraw.Draw(im)\n",
        "\n",
        "for i in range(100):\n",
        "  start_x = random.randint(0, 800)\n",
        "  start_y = random.randint(0, 600)\n",
        "  end_x = random.randint(0, 800)\n",
        "  end_y = random.randint(0, 600)\n",
        "  r = random.randint(0, 255)\n",
        "  g = random.randint(0, 255)\n",
        "  b = random.randint(0, 255)\n",
        "  # drawer.line((start_x, start_y, end_x, end_y), fill=(131, 101, 184))\n",
        "  drawer.line((start_x, start_y, end_x, end_y), fill=(r, g, b), width=50)\n",
        "\n",
        "drawer.text((400,300), 'Hello COMP1010', fill=\"black\")\n",
        "\n",
        "drawer.rectangle((0,0,100,50), fill=(131, 101, 184))\n",
        "\n",
        "im"
      ],
      "execution_count": 94,
      "outputs": [
        {
          "output_type": "execute_result",
          "data": {
            "image/png": "[encoded data removed]",
            "text/plain": [
              "<PIL.Image.Image image mode=RGB size=800x600 at 0x7F602E4711D0>"
            ]
          },
          "metadata": {
            "tags": []
          },
          "execution_count": 94
        }
      ]
    },
    {
      "cell_type": "markdown",
      "metadata": {
        "id": "23RbVs1EYKG8"
      },
      "source": [
        "# Pandas and Plotly (a detour into Musk tweets)"
      ]
    },
    {
      "cell_type": "markdown",
      "metadata": {
        "id": "5iONl3mxYRzF"
      },
      "source": [
        "This code cell creates a list from some of Elon Musk's tweets. \n",
        "\n",
        "*You're not expected to completely understand this code yet. It's only here to give us interesting data*."
      ]
    },
    {
      "cell_type": "code",
      "metadata": {
        "id": "T2UcZXKtYXBb"
      },
      "source": [
        "import pandas\n",
        "\n",
        "raw_tweets = pandas.read_csv('https://raw.githubusercontent.com/sim-mautner/cs1010-21t2/main/data/elonmusk.csv')\n",
        "elon_tweets = list(raw_tweets.tweet)"
      ],
      "execution_count": null,
      "outputs": []
    },
    {
      "cell_type": "markdown",
      "metadata": {
        "id": "SSEDVtEdQ1o9"
      },
      "source": [
        "How many tweets are there in our dataset?"
      ]
    },
    {
      "cell_type": "code",
      "metadata": {
        "id": "9IH7gp4PQ4Ko"
      },
      "source": [
        ""
      ],
      "execution_count": null,
      "outputs": []
    },
    {
      "cell_type": "markdown",
      "metadata": {
        "id": "3-x1Sk2AaR9q"
      },
      "source": [
        "In what tweets has Elon Musk said \"simulation\"?"
      ]
    },
    {
      "cell_type": "code",
      "metadata": {
        "id": "RTKak5pvaXDo"
      },
      "source": [
        ""
      ],
      "execution_count": null,
      "outputs": []
    },
    {
      "cell_type": "markdown",
      "metadata": {
        "id": "HUVyHkreaOz7"
      },
      "source": [
        "What emoji does Elon Musk use?"
      ]
    },
    {
      "cell_type": "code",
      "metadata": {
        "id": "3w8EAUQaaoGz"
      },
      "source": [
        ""
      ],
      "execution_count": null,
      "outputs": []
    },
    {
      "cell_type": "markdown",
      "metadata": {
        "id": "Yzz3BH7ia4VY"
      },
      "source": [
        "Can we build a dictionary counting how often Elon Musk uses each Emoji?"
      ]
    },
    {
      "cell_type": "code",
      "metadata": {
        "id": "YNYeEqDYa_Hw"
      },
      "source": [
        ""
      ],
      "execution_count": null,
      "outputs": []
    },
    {
      "cell_type": "markdown",
      "metadata": {
        "id": "tCkMvSwwbI3H"
      },
      "source": [
        "Can we plot it?"
      ]
    },
    {
      "cell_type": "code",
      "metadata": {
        "id": "cr0SzU9WbKBW"
      },
      "source": [
        ""
      ],
      "execution_count": null,
      "outputs": []
    },
    {
      "cell_type": "markdown",
      "metadata": {
        "id": "EXteVdg6czQQ"
      },
      "source": [
        "What about only the most frequently used ones?"
      ]
    },
    {
      "cell_type": "code",
      "metadata": {
        "id": "Mqz1ozAKbYvG"
      },
      "source": [
        ""
      ],
      "execution_count": null,
      "outputs": []
    },
    {
      "cell_type": "markdown",
      "metadata": {
        "id": "1owyir8N2Vu5"
      },
      "source": [
        "# Lists and Dictionaries Examples\n",
        "\n"
      ]
    },
    {
      "cell_type": "markdown",
      "metadata": {
        "id": "ZaZ9EXVaRvdV"
      },
      "source": [
        "For the exercises below, there are three stages.\n",
        "\n",
        "1. Design the data structures you're going to use.\n",
        "2. Write the tests. (For now, we will only create one sample situation, though you're encouraged to write a more complete set of tests.)\n",
        "2. Implement the program."
      ]
    },
    {
      "cell_type": "markdown",
      "metadata": {
        "id": "k_OBiivEQRjt"
      },
      "source": [
        "## Splitting the Bill\n",
        "\n",
        "(This references the spreadsheet example with the same name from Week 1.)\n",
        "\n",
        "When eating out, sometimes the situation arises when we want to split the bill evenly amongst sub-groups of the people eating together. "
      ]
    },
    {
      "cell_type": "markdown",
      "metadata": {
        "id": "Ov-uD3Qg9jYI"
      },
      "source": [
        "## Gym Class Timetable\n",
        "\n",
        "Use lists and dictionaries to store the details of a gym class timetable.\n",
        "\n",
        "Also consider if there are different ways to store it which might make it easier to display to the user."
      ]
    },
    {
      "cell_type": "markdown",
      "metadata": {
        "id": "DrDu2oIX_YLD"
      },
      "source": [
        "## TV Show Chooser\n",
        "\n",
        "Housemates in a share house want a system to, based on their preferences of tv shows, and genres, choose the best tv show to watch for whichever combination of people are home at the time."
      ]
    },
    {
      "cell_type": "markdown",
      "metadata": {
        "id": "h7YI1WKq20s6"
      },
      "source": [
        "# Topics for later:\n",
        "List comprehension\n",
        "Tuples and Sets"
      ]
    },
    {
      "cell_type": "markdown",
      "metadata": {
        "id": "X1uFcCdDr-F2"
      },
      "source": [
        "# Feedback"
      ]
    },
    {
      "cell_type": "markdown",
      "metadata": {
        "id": "gVsDn4SRruXO"
      },
      "source": [
        "Lecture: 2.1 Python Introduction\n",
        "\n",
        "![](https://i.imgur.com/5FKvgmw.png)\n",
        "\n",
        "\n",
        "[Link to feedback form](https://forms.gle/NdAhw7ZMJ2eBEydd7)"
      ]
    }
  ]
}